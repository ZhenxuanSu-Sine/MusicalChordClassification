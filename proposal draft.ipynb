{
 "cells": [
  {
   "cell_type": "markdown",
   "metadata": {},
   "source": [
    "# Proposal \n",
    "Minimum proposal requirements\n",
    "- Project title\n",
    "- Project team members (names)\n",
    "- Short background summary.  If you are choosing one of the prepared ideas provide a short summary of the problem.\n",
    "- Dataset, link and short description, what kind of preprocessing will you investigate?\n",
    "- - Preprocessing (FFT, try Time domain and frequency domain as model input)\n",
    "- Objective\n",
    "- - Metrics (e.g. accuracy, other metrics from LR)\n",
    "- Estimated compute needs (PC)\n",
    "- References (as necessary)"
   ]
  }
 ],
 "metadata": {
  "language_info": {
   "name": "python"
  }
 },
 "nbformat": 4,
 "nbformat_minor": 2
}
