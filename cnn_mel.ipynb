{
 "cells": [
  {
   "cell_type": "code",
   "execution_count": 17,
   "metadata": {},
   "outputs": [],
   "source": [
    "import torch\n",
    "import torch.nn as nn\n",
    "from sklearn.metrics import accuracy_score, f1_score, confusion_matrix\n",
    "import torch.optim as optim\n",
    "from torch.utils.data import DataLoader, random_split\n",
    "from tqdm import tqdm\n",
    "import matplotlib.pyplot as plt\n",
    "import seaborn as sns\n",
    "# Import your dataset and transforms\n",
    "from dataset_creater import *\n",
    "from torchsummary import summary\n",
    "from torchaudio import transforms as T"
   ]
  },
  {
   "cell_type": "code",
   "execution_count": 18,
   "metadata": {},
   "outputs": [
    {
     "name": "stderr",
     "output_type": "stream",
     "text": [
      "c:\\Users\\Sine\\anaconda3\\envs\\pytorch\\lib\\site-packages\\torchaudio\\functional\\functional.py:584: UserWarning: At least one mel filterbank has all zero values. The value for `n_mels` (128) may be set too high. Or, the value for `n_freqs` (201) may be set too low.\n",
      "  warnings.warn(\n"
     ]
    }
   ],
   "source": [
    "# Set the path to your dataset\n",
    "data_folder = \"./data\"\n",
    "# transform = T.MelSpectrogram(sample_rate=44100, n_mels=64)\n",
    "transform = T.MFCC(sample_rate=44100, n_mfcc=32)\n",
    "\n",
    "# Create an instance of your dataset\n",
    "dataset = AudioDataset(data_folder, transform=transform, scale=(-625, 195))\n",
    "\n",
    "# Define the sizes of your splits\n",
    "train_size = int(0.8 * len(dataset))\n",
    "val_size = int(0.10 * len(dataset))\n",
    "test_size = len(dataset) - train_size - val_size\n",
    "\n",
    "# Use random_split to create training, validation, and test sets\n",
    "train_set, val_set, test_set = random_split(dataset, [train_size, val_size, test_size])\n",
    "\n",
    "batch_size = 32\n",
    "# Move the training and validation data loaders to the selected device\n",
    "train_loader = DataLoader(train_set, batch_size=batch_size, shuffle=True)\n",
    "val_loader = DataLoader(val_set, shuffle=False)\n",
    "test_loader = DataLoader(test_set, shuffle=False)\n"
   ]
  },
  {
   "cell_type": "code",
   "execution_count": 19,
   "metadata": {},
   "outputs": [
    {
     "name": "stdout",
     "output_type": "stream",
     "text": [
      "torch.Size([1, 32, 508])\n",
      "Min amplitude: tensor(0.0004)\n",
      "Max amplitude: tensor(1.0021)\n"
     ]
    }
   ],
   "source": [
    "min_amplitude = np.inf\n",
    "max_amplitude = -np.inf\n",
    "for batch in train_loader:\n",
    "    padded_waveforms, labels = batch\n",
    "    # print(\"Padded waveforms shape:\", padded_waveforms.shape)\n",
    "    input_shape = padded_waveforms.shape[1:]\n",
    "    if min_amplitude > padded_waveforms.min():\n",
    "        min_amplitude = padded_waveforms.min()\n",
    "    if max_amplitude < padded_waveforms.max():\n",
    "        max_amplitude = padded_waveforms.max()\n",
    "print(input_shape)\n",
    "print(\"Min amplitude:\", min_amplitude)\n",
    "print(\"Max amplitude:\", max_amplitude)"
   ]
  },
  {
   "cell_type": "code",
   "execution_count": 20,
   "metadata": {},
   "outputs": [],
   "source": [
    "class MelChordClassifier(nn.Module):\n",
    "    def __init__(self):\n",
    "        super(MelChordClassifier, self).__init__()\n",
    "        # Define a CNN with input shape is (batch_size, 1, 128, 199) and output shape is (batch_size, 1)\n",
    "        # it should reduce the dimensionality very quickly because the dataset is small (<1000)\n",
    "        self.conv1 = nn.Conv2d(1, 8, kernel_size=(4,8), stride=1, padding=0) \n",
    "        self.bn1 = nn.BatchNorm2d(8)\n",
    "        self.relu1 = nn.ReLU()\n",
    "        self.pool1 = nn.MaxPool2d(kernel_size=(4,8), stride=(2, 4)) \n",
    "\n",
    "        self.conv2 = nn.Conv2d(8, 16, kernel_size=(2,4), stride=1, padding=0) \n",
    "        self.bn2 = nn.BatchNorm2d(16)\n",
    "        self.relu2 = nn.ReLU()\n",
    "        self.pool2 = nn.MaxPool2d(kernel_size=4, stride=(2,4))\n",
    "\n",
    "        self.conv3 = nn.Conv2d(16, 32, kernel_size=4, stride=1, padding=0)\n",
    "        self.relu3 = nn.ReLU()\n",
    "        self.pool3 = nn.AdaptiveAvgPool2d((2,2))\n",
    "\n",
    "        self.bn3 = nn.BatchNorm1d(32 * 2 * 2)\n",
    "        self.dropout1 = nn.Dropout(0.3)\n",
    "        self.fc1 = nn.Linear(32 * 2 * 2, 32)\n",
    "        self.relu4 = nn.ReLU()\n",
    "        self.bn4 = nn.BatchNorm1d(32)\n",
    "        self.dropout2 = nn.Dropout(0.1)\n",
    "        self.fc2 = nn.Linear(32, 1)\n",
    "         # no activation function because we use BCEWithLogitsLoss\n",
    "\n",
    "    def forward(self, x):\n",
    "        x = self.conv1(x)\n",
    "        x = self.bn1(x)\n",
    "        x = self.relu1(x)\n",
    "        x = self.pool1(x)\n",
    "\n",
    "        x = self.conv2(x)\n",
    "        x = self.bn2(x)\n",
    "        x = self.relu2(x)\n",
    "        x = self.pool2(x)\n",
    "\n",
    "        x = self.conv3(x)\n",
    "        x = self.relu3(x)\n",
    "        x = self.pool3(x)\n",
    "\n",
    "        x = x.view(x.size(0), -1) # flatten\n",
    "        x = self.bn3(x)\n",
    "        x = self.dropout1(x)\n",
    "        x = self.fc1(x)\n",
    "        x = self.relu4(x)\n",
    "        x = self.bn4(x)\n",
    "        x = self.dropout2(x)\n",
    "        x = self.fc2(x)\n",
    "        # Use BCEWithLogitsLoss instead of BCELoss because it combines a Sigmoid layer and the BCELoss in one single class\n",
    "        # the output shape should be (batch_size,)\n",
    "        return x.view(-1)"
   ]
  },
  {
   "cell_type": "code",
   "execution_count": 21,
   "metadata": {},
   "outputs": [
    {
     "name": "stdout",
     "output_type": "stream",
     "text": [
      "----------------------------------------------------------------\n",
      "        Layer (type)               Output Shape         Param #\n",
      "================================================================\n",
      "            Conv2d-1           [-1, 8, 29, 501]             264\n",
      "       BatchNorm2d-2           [-1, 8, 29, 501]              16\n",
      "              ReLU-3           [-1, 8, 29, 501]               0\n",
      "         MaxPool2d-4           [-1, 8, 13, 124]               0\n",
      "            Conv2d-5          [-1, 16, 12, 121]           1,040\n",
      "       BatchNorm2d-6          [-1, 16, 12, 121]              32\n",
      "              ReLU-7          [-1, 16, 12, 121]               0\n",
      "         MaxPool2d-8            [-1, 16, 5, 30]               0\n",
      "            Conv2d-9            [-1, 32, 2, 27]           8,224\n",
      "             ReLU-10            [-1, 32, 2, 27]               0\n",
      "AdaptiveAvgPool2d-11             [-1, 32, 2, 2]               0\n",
      "      BatchNorm1d-12                  [-1, 128]             256\n",
      "          Dropout-13                  [-1, 128]               0\n",
      "           Linear-14                   [-1, 32]           4,128\n",
      "             ReLU-15                   [-1, 32]               0\n",
      "      BatchNorm1d-16                   [-1, 32]              64\n",
      "          Dropout-17                   [-1, 32]               0\n",
      "           Linear-18                    [-1, 1]              33\n",
      "================================================================\n",
      "Total params: 14,057\n",
      "Trainable params: 14,057\n",
      "Non-trainable params: 0\n",
      "----------------------------------------------------------------\n",
      "Input size (MB): 0.06\n",
      "Forward/backward pass size (MB): 3.34\n",
      "Params size (MB): 0.05\n",
      "Estimated Total Size (MB): 3.45\n",
      "----------------------------------------------------------------\n"
     ]
    }
   ],
   "source": [
    "\n",
    "\n",
    "# Check if GPU is available and set the device accordingly\n",
    "device = torch.device(\"cuda\" if torch.cuda.is_available() else \"cpu\")\n",
    "\n",
    "# Instantiate model and move it to the selected device\n",
    "model = MelChordClassifier().to(device)\n",
    "\n",
    "# Instantiate loss function and move it to the selected device\n",
    "criterion = nn.BCEWithLogitsLoss().to(device)\n",
    "\n",
    "# Instantiate optimizer and move it to the selected device\n",
    "optimizer = optim.Adam(model.parameters(), lr=0.0001, weight_decay=0.0001)\n",
    "\n",
    "# output summary of model\n",
    "summary(model, input_shape)\n",
    "\n"
   ]
  },
  {
   "cell_type": "code",
   "execution_count": 22,
   "metadata": {},
   "outputs": [
    {
     "name": "stderr",
     "output_type": "stream",
     "text": [
      "100%|██████████| 22/22 [00:03<00:00,  6.78it/s]\n"
     ]
    },
    {
     "name": "stdout",
     "output_type": "stream",
     "text": [
      "Training - Epoch 1/70, Loss: 0.7195, Accuracy: 0.5590\n",
      "Validation - Epoch 1/70, Loss: 0.6883, Accuracy: 0.6588\n"
     ]
    },
    {
     "name": "stderr",
     "output_type": "stream",
     "text": [
      "100%|██████████| 22/22 [00:03<00:00,  7.10it/s]\n"
     ]
    },
    {
     "name": "stdout",
     "output_type": "stream",
     "text": [
      "Training - Epoch 2/70, Loss: 0.7061, Accuracy: 0.5779\n",
      "Validation - Epoch 2/70, Loss: 0.7498, Accuracy: 0.6588\n"
     ]
    },
    {
     "name": "stderr",
     "output_type": "stream",
     "text": [
      "100%|██████████| 22/22 [00:03<00:00,  7.17it/s]\n"
     ]
    },
    {
     "name": "stdout",
     "output_type": "stream",
     "text": [
      "Training - Epoch 3/70, Loss: 0.6855, Accuracy: 0.5852\n",
      "Validation - Epoch 3/70, Loss: 1.5110, Accuracy: 0.6588\n"
     ]
    },
    {
     "name": "stderr",
     "output_type": "stream",
     "text": [
      "100%|██████████| 22/22 [00:03<00:00,  7.22it/s]\n"
     ]
    },
    {
     "name": "stdout",
     "output_type": "stream",
     "text": [
      "Training - Epoch 4/70, Loss: 0.6787, Accuracy: 0.5852\n",
      "Validation - Epoch 4/70, Loss: 0.8361, Accuracy: 0.6588\n"
     ]
    },
    {
     "name": "stderr",
     "output_type": "stream",
     "text": [
      "100%|██████████| 22/22 [00:03<00:00,  7.23it/s]\n"
     ]
    },
    {
     "name": "stdout",
     "output_type": "stream",
     "text": [
      "Training - Epoch 5/70, Loss: 0.6712, Accuracy: 0.5939\n",
      "Validation - Epoch 5/70, Loss: 0.7397, Accuracy: 0.6588\n"
     ]
    },
    {
     "name": "stderr",
     "output_type": "stream",
     "text": [
      "100%|██████████| 22/22 [00:03<00:00,  7.25it/s]\n"
     ]
    },
    {
     "name": "stdout",
     "output_type": "stream",
     "text": [
      "Training - Epoch 6/70, Loss: 0.6686, Accuracy: 0.6259\n",
      "Validation - Epoch 6/70, Loss: 0.6866, Accuracy: 0.6471\n"
     ]
    },
    {
     "name": "stderr",
     "output_type": "stream",
     "text": [
      "100%|██████████| 22/22 [00:03<00:00,  7.26it/s]\n"
     ]
    },
    {
     "name": "stdout",
     "output_type": "stream",
     "text": [
      "Training - Epoch 7/70, Loss: 0.6723, Accuracy: 0.6012\n",
      "Validation - Epoch 7/70, Loss: 0.6589, Accuracy: 0.6588\n"
     ]
    },
    {
     "name": "stderr",
     "output_type": "stream",
     "text": [
      "100%|██████████| 22/22 [00:03<00:00,  7.27it/s]\n"
     ]
    },
    {
     "name": "stdout",
     "output_type": "stream",
     "text": [
      "Training - Epoch 8/70, Loss: 0.6555, Accuracy: 0.6157\n",
      "Validation - Epoch 8/70, Loss: 0.7133, Accuracy: 0.6588\n"
     ]
    },
    {
     "name": "stderr",
     "output_type": "stream",
     "text": [
      "100%|██████████| 22/22 [00:03<00:00,  7.15it/s]\n"
     ]
    },
    {
     "name": "stdout",
     "output_type": "stream",
     "text": [
      "Training - Epoch 9/70, Loss: 0.6616, Accuracy: 0.6172\n",
      "Validation - Epoch 9/70, Loss: 0.7780, Accuracy: 0.6588\n"
     ]
    },
    {
     "name": "stderr",
     "output_type": "stream",
     "text": [
      "100%|██████████| 22/22 [00:03<00:00,  7.21it/s]\n"
     ]
    },
    {
     "name": "stdout",
     "output_type": "stream",
     "text": [
      "Training - Epoch 10/70, Loss: 0.6395, Accuracy: 0.6303\n",
      "Validation - Epoch 10/70, Loss: 0.7483, Accuracy: 0.6118\n"
     ]
    },
    {
     "name": "stderr",
     "output_type": "stream",
     "text": [
      "100%|██████████| 22/22 [00:03<00:00,  7.24it/s]\n"
     ]
    },
    {
     "name": "stdout",
     "output_type": "stream",
     "text": [
      "Training - Epoch 11/70, Loss: 0.6605, Accuracy: 0.6143\n",
      "Validation - Epoch 11/70, Loss: 0.6740, Accuracy: 0.6706\n"
     ]
    },
    {
     "name": "stderr",
     "output_type": "stream",
     "text": [
      "100%|██████████| 22/22 [00:03<00:00,  7.18it/s]\n"
     ]
    },
    {
     "name": "stdout",
     "output_type": "stream",
     "text": [
      "Training - Epoch 12/70, Loss: 0.6359, Accuracy: 0.6274\n",
      "Validation - Epoch 12/70, Loss: 0.6324, Accuracy: 0.6588\n"
     ]
    },
    {
     "name": "stderr",
     "output_type": "stream",
     "text": [
      "100%|██████████| 22/22 [00:03<00:00,  7.11it/s]\n"
     ]
    },
    {
     "name": "stdout",
     "output_type": "stream",
     "text": [
      "Training - Epoch 13/70, Loss: 0.6307, Accuracy: 0.6346\n",
      "Validation - Epoch 13/70, Loss: 0.6777, Accuracy: 0.6588\n"
     ]
    },
    {
     "name": "stderr",
     "output_type": "stream",
     "text": [
      "100%|██████████| 22/22 [00:03<00:00,  7.16it/s]\n"
     ]
    },
    {
     "name": "stdout",
     "output_type": "stream",
     "text": [
      "Training - Epoch 14/70, Loss: 0.6330, Accuracy: 0.6448\n",
      "Validation - Epoch 14/70, Loss: 0.6729, Accuracy: 0.6235\n"
     ]
    },
    {
     "name": "stderr",
     "output_type": "stream",
     "text": [
      "100%|██████████| 22/22 [00:03<00:00,  7.19it/s]\n"
     ]
    },
    {
     "name": "stdout",
     "output_type": "stream",
     "text": [
      "Training - Epoch 15/70, Loss: 0.6295, Accuracy: 0.6390\n",
      "Validation - Epoch 15/70, Loss: 0.7785, Accuracy: 0.5529\n"
     ]
    },
    {
     "name": "stderr",
     "output_type": "stream",
     "text": [
      "100%|██████████| 22/22 [00:03<00:00,  7.19it/s]\n"
     ]
    },
    {
     "name": "stdout",
     "output_type": "stream",
     "text": [
      "Training - Epoch 16/70, Loss: 0.6335, Accuracy: 0.6361\n",
      "Validation - Epoch 16/70, Loss: 1.0568, Accuracy: 0.6588\n"
     ]
    },
    {
     "name": "stderr",
     "output_type": "stream",
     "text": [
      "100%|██████████| 22/22 [00:03<00:00,  7.27it/s]\n"
     ]
    },
    {
     "name": "stdout",
     "output_type": "stream",
     "text": [
      "Training - Epoch 17/70, Loss: 0.6231, Accuracy: 0.6463\n",
      "Validation - Epoch 17/70, Loss: 0.7622, Accuracy: 0.5529\n"
     ]
    },
    {
     "name": "stderr",
     "output_type": "stream",
     "text": [
      "100%|██████████| 22/22 [00:03<00:00,  7.20it/s]\n"
     ]
    },
    {
     "name": "stdout",
     "output_type": "stream",
     "text": [
      "Training - Epoch 18/70, Loss: 0.6118, Accuracy: 0.6492\n",
      "Validation - Epoch 18/70, Loss: 0.6853, Accuracy: 0.6471\n"
     ]
    },
    {
     "name": "stderr",
     "output_type": "stream",
     "text": [
      "100%|██████████| 22/22 [00:03<00:00,  7.15it/s]\n"
     ]
    },
    {
     "name": "stdout",
     "output_type": "stream",
     "text": [
      "Training - Epoch 19/70, Loss: 0.6025, Accuracy: 0.6696\n",
      "Validation - Epoch 19/70, Loss: 0.7997, Accuracy: 0.5882\n"
     ]
    },
    {
     "name": "stderr",
     "output_type": "stream",
     "text": [
      "100%|██████████| 22/22 [00:03<00:00,  7.21it/s]\n"
     ]
    },
    {
     "name": "stdout",
     "output_type": "stream",
     "text": [
      "Training - Epoch 20/70, Loss: 0.6073, Accuracy: 0.6652\n",
      "Validation - Epoch 20/70, Loss: 0.6803, Accuracy: 0.6588\n"
     ]
    },
    {
     "name": "stderr",
     "output_type": "stream",
     "text": [
      "100%|██████████| 22/22 [00:03<00:00,  7.22it/s]\n"
     ]
    },
    {
     "name": "stdout",
     "output_type": "stream",
     "text": [
      "Training - Epoch 21/70, Loss: 0.5912, Accuracy: 0.6448\n",
      "Validation - Epoch 21/70, Loss: 0.7273, Accuracy: 0.6588\n"
     ]
    },
    {
     "name": "stderr",
     "output_type": "stream",
     "text": [
      "100%|██████████| 22/22 [00:03<00:00,  7.07it/s]\n"
     ]
    },
    {
     "name": "stdout",
     "output_type": "stream",
     "text": [
      "Training - Epoch 22/70, Loss: 0.5942, Accuracy: 0.6681\n",
      "Validation - Epoch 22/70, Loss: 0.9422, Accuracy: 0.6588\n"
     ]
    },
    {
     "name": "stderr",
     "output_type": "stream",
     "text": [
      "100%|██████████| 22/22 [00:03<00:00,  6.88it/s]\n"
     ]
    },
    {
     "name": "stdout",
     "output_type": "stream",
     "text": [
      "Training - Epoch 23/70, Loss: 0.5842, Accuracy: 0.6638\n",
      "Validation - Epoch 23/70, Loss: 0.8807, Accuracy: 0.5412\n"
     ]
    },
    {
     "name": "stderr",
     "output_type": "stream",
     "text": [
      "100%|██████████| 22/22 [00:03<00:00,  6.66it/s]\n"
     ]
    },
    {
     "name": "stdout",
     "output_type": "stream",
     "text": [
      "Training - Epoch 24/70, Loss: 0.5826, Accuracy: 0.6565\n",
      "Validation - Epoch 24/70, Loss: 0.7044, Accuracy: 0.6235\n"
     ]
    },
    {
     "name": "stderr",
     "output_type": "stream",
     "text": [
      "100%|██████████| 22/22 [00:02<00:00,  8.17it/s]\n"
     ]
    },
    {
     "name": "stdout",
     "output_type": "stream",
     "text": [
      "Training - Epoch 25/70, Loss: 0.5820, Accuracy: 0.6856\n",
      "Validation - Epoch 25/70, Loss: 0.8134, Accuracy: 0.5176\n"
     ]
    },
    {
     "name": "stderr",
     "output_type": "stream",
     "text": [
      "100%|██████████| 22/22 [00:02<00:00,  7.88it/s]\n"
     ]
    },
    {
     "name": "stdout",
     "output_type": "stream",
     "text": [
      "Training - Epoch 26/70, Loss: 0.5709, Accuracy: 0.6900\n",
      "Validation - Epoch 26/70, Loss: 0.7488, Accuracy: 0.6118\n"
     ]
    },
    {
     "name": "stderr",
     "output_type": "stream",
     "text": [
      "100%|██████████| 22/22 [00:03<00:00,  6.60it/s]\n"
     ]
    },
    {
     "name": "stdout",
     "output_type": "stream",
     "text": [
      "Training - Epoch 27/70, Loss: 0.5612, Accuracy: 0.7103\n",
      "Validation - Epoch 27/70, Loss: 1.0871, Accuracy: 0.4588\n"
     ]
    },
    {
     "name": "stderr",
     "output_type": "stream",
     "text": [
      "100%|██████████| 22/22 [00:02<00:00,  8.31it/s]\n"
     ]
    },
    {
     "name": "stdout",
     "output_type": "stream",
     "text": [
      "Training - Epoch 28/70, Loss: 0.5723, Accuracy: 0.6827\n",
      "Validation - Epoch 28/70, Loss: 0.8058, Accuracy: 0.6118\n"
     ]
    },
    {
     "name": "stderr",
     "output_type": "stream",
     "text": [
      "100%|██████████| 22/22 [00:02<00:00,  8.41it/s]\n"
     ]
    },
    {
     "name": "stdout",
     "output_type": "stream",
     "text": [
      "Training - Epoch 29/70, Loss: 0.5658, Accuracy: 0.6856\n",
      "Validation - Epoch 29/70, Loss: 1.3142, Accuracy: 0.4235\n"
     ]
    },
    {
     "name": "stderr",
     "output_type": "stream",
     "text": [
      "100%|██████████| 22/22 [00:02<00:00,  8.00it/s]\n"
     ]
    },
    {
     "name": "stdout",
     "output_type": "stream",
     "text": [
      "Training - Epoch 30/70, Loss: 0.5775, Accuracy: 0.6914\n",
      "Validation - Epoch 30/70, Loss: 1.7962, Accuracy: 0.6588\n"
     ]
    },
    {
     "name": "stderr",
     "output_type": "stream",
     "text": [
      "100%|██████████| 22/22 [00:02<00:00,  8.34it/s]\n"
     ]
    },
    {
     "name": "stdout",
     "output_type": "stream",
     "text": [
      "Training - Epoch 31/70, Loss: 0.5493, Accuracy: 0.7234\n",
      "Validation - Epoch 31/70, Loss: 0.7380, Accuracy: 0.5882\n"
     ]
    },
    {
     "name": "stderr",
     "output_type": "stream",
     "text": [
      "100%|██████████| 22/22 [00:02<00:00,  8.43it/s]\n"
     ]
    },
    {
     "name": "stdout",
     "output_type": "stream",
     "text": [
      "Training - Epoch 32/70, Loss: 0.5338, Accuracy: 0.7176\n",
      "Validation - Epoch 32/70, Loss: 0.6706, Accuracy: 0.6824\n"
     ]
    },
    {
     "name": "stderr",
     "output_type": "stream",
     "text": [
      "100%|██████████| 22/22 [00:02<00:00,  8.38it/s]\n"
     ]
    },
    {
     "name": "stdout",
     "output_type": "stream",
     "text": [
      "Training - Epoch 33/70, Loss: 0.5390, Accuracy: 0.7031\n",
      "Validation - Epoch 33/70, Loss: 0.7793, Accuracy: 0.5765\n"
     ]
    },
    {
     "name": "stderr",
     "output_type": "stream",
     "text": [
      "100%|██████████| 22/22 [00:02<00:00,  7.95it/s]\n"
     ]
    },
    {
     "name": "stdout",
     "output_type": "stream",
     "text": [
      "Training - Epoch 34/70, Loss: 0.5331, Accuracy: 0.7336\n",
      "Validation - Epoch 34/70, Loss: 0.7595, Accuracy: 0.6118\n"
     ]
    },
    {
     "name": "stderr",
     "output_type": "stream",
     "text": [
      "100%|██████████| 22/22 [00:02<00:00,  8.08it/s]\n"
     ]
    },
    {
     "name": "stdout",
     "output_type": "stream",
     "text": [
      "Training - Epoch 35/70, Loss: 0.5283, Accuracy: 0.7322\n",
      "Validation - Epoch 35/70, Loss: 1.0179, Accuracy: 0.5176\n"
     ]
    },
    {
     "name": "stderr",
     "output_type": "stream",
     "text": [
      "100%|██████████| 22/22 [00:02<00:00,  8.41it/s]\n"
     ]
    },
    {
     "name": "stdout",
     "output_type": "stream",
     "text": [
      "Training - Epoch 36/70, Loss: 0.5316, Accuracy: 0.7336\n",
      "Validation - Epoch 36/70, Loss: 0.7041, Accuracy: 0.6471\n"
     ]
    },
    {
     "name": "stderr",
     "output_type": "stream",
     "text": [
      "100%|██████████| 22/22 [00:02<00:00,  8.10it/s]\n"
     ]
    },
    {
     "name": "stdout",
     "output_type": "stream",
     "text": [
      "Training - Epoch 37/70, Loss: 0.5455, Accuracy: 0.7191\n",
      "Validation - Epoch 37/70, Loss: 0.6557, Accuracy: 0.6706\n"
     ]
    },
    {
     "name": "stderr",
     "output_type": "stream",
     "text": [
      "100%|██████████| 22/22 [00:02<00:00,  8.27it/s]\n"
     ]
    },
    {
     "name": "stdout",
     "output_type": "stream",
     "text": [
      "Training - Epoch 38/70, Loss: 0.5194, Accuracy: 0.7176\n",
      "Validation - Epoch 38/70, Loss: 0.8902, Accuracy: 0.5882\n"
     ]
    },
    {
     "name": "stderr",
     "output_type": "stream",
     "text": [
      "100%|██████████| 22/22 [00:02<00:00,  8.01it/s]\n"
     ]
    },
    {
     "name": "stdout",
     "output_type": "stream",
     "text": [
      "Training - Epoch 39/70, Loss: 0.5115, Accuracy: 0.7467\n",
      "Validation - Epoch 39/70, Loss: 1.3372, Accuracy: 0.4353\n"
     ]
    },
    {
     "name": "stderr",
     "output_type": "stream",
     "text": [
      "100%|██████████| 22/22 [00:02<00:00,  8.29it/s]\n"
     ]
    },
    {
     "name": "stdout",
     "output_type": "stream",
     "text": [
      "Training - Epoch 40/70, Loss: 0.5041, Accuracy: 0.7424\n",
      "Validation - Epoch 40/70, Loss: 0.8865, Accuracy: 0.5176\n"
     ]
    },
    {
     "name": "stderr",
     "output_type": "stream",
     "text": [
      "100%|██████████| 22/22 [00:02<00:00,  8.12it/s]\n"
     ]
    },
    {
     "name": "stdout",
     "output_type": "stream",
     "text": [
      "Training - Epoch 41/70, Loss: 0.4926, Accuracy: 0.7656\n",
      "Validation - Epoch 41/70, Loss: 0.7965, Accuracy: 0.6118\n"
     ]
    },
    {
     "name": "stderr",
     "output_type": "stream",
     "text": [
      "100%|██████████| 22/22 [00:02<00:00,  8.10it/s]\n"
     ]
    },
    {
     "name": "stdout",
     "output_type": "stream",
     "text": [
      "Training - Epoch 42/70, Loss: 0.4764, Accuracy: 0.7802\n",
      "Validation - Epoch 42/70, Loss: 0.6312, Accuracy: 0.6941\n"
     ]
    },
    {
     "name": "stderr",
     "output_type": "stream",
     "text": [
      "100%|██████████| 22/22 [00:02<00:00,  8.27it/s]\n"
     ]
    },
    {
     "name": "stdout",
     "output_type": "stream",
     "text": [
      "Training - Epoch 43/70, Loss: 0.4736, Accuracy: 0.7686\n",
      "Validation - Epoch 43/70, Loss: 0.6575, Accuracy: 0.6941\n"
     ]
    },
    {
     "name": "stderr",
     "output_type": "stream",
     "text": [
      "100%|██████████| 22/22 [00:02<00:00,  7.94it/s]\n"
     ]
    },
    {
     "name": "stdout",
     "output_type": "stream",
     "text": [
      "Training - Epoch 44/70, Loss: 0.4769, Accuracy: 0.7584\n",
      "Validation - Epoch 44/70, Loss: 1.0649, Accuracy: 0.5059\n"
     ]
    },
    {
     "name": "stderr",
     "output_type": "stream",
     "text": [
      "100%|██████████| 22/22 [00:02<00:00,  8.10it/s]\n"
     ]
    },
    {
     "name": "stdout",
     "output_type": "stream",
     "text": [
      "Training - Epoch 45/70, Loss: 0.4697, Accuracy: 0.7671\n",
      "Validation - Epoch 45/70, Loss: 1.0895, Accuracy: 0.4118\n"
     ]
    },
    {
     "name": "stderr",
     "output_type": "stream",
     "text": [
      "100%|██████████| 22/22 [00:02<00:00,  8.29it/s]\n"
     ]
    },
    {
     "name": "stdout",
     "output_type": "stream",
     "text": [
      "Training - Epoch 46/70, Loss: 0.4605, Accuracy: 0.7875\n",
      "Validation - Epoch 46/70, Loss: 2.6861, Accuracy: 0.3412\n"
     ]
    },
    {
     "name": "stderr",
     "output_type": "stream",
     "text": [
      "100%|██████████| 22/22 [00:02<00:00,  8.01it/s]\n"
     ]
    },
    {
     "name": "stdout",
     "output_type": "stream",
     "text": [
      "Training - Epoch 47/70, Loss: 0.4714, Accuracy: 0.7569\n",
      "Validation - Epoch 47/70, Loss: 0.8909, Accuracy: 0.6588\n"
     ]
    },
    {
     "name": "stderr",
     "output_type": "stream",
     "text": [
      "100%|██████████| 22/22 [00:02<00:00,  8.06it/s]\n"
     ]
    },
    {
     "name": "stdout",
     "output_type": "stream",
     "text": [
      "Training - Epoch 48/70, Loss: 0.4523, Accuracy: 0.7846\n",
      "Validation - Epoch 48/70, Loss: 1.4570, Accuracy: 0.4000\n"
     ]
    },
    {
     "name": "stderr",
     "output_type": "stream",
     "text": [
      "100%|██████████| 22/22 [00:02<00:00,  7.99it/s]\n"
     ]
    },
    {
     "name": "stdout",
     "output_type": "stream",
     "text": [
      "Training - Epoch 49/70, Loss: 0.4550, Accuracy: 0.8020\n",
      "Validation - Epoch 49/70, Loss: 1.3323, Accuracy: 0.6471\n"
     ]
    },
    {
     "name": "stderr",
     "output_type": "stream",
     "text": [
      "100%|██████████| 22/22 [00:02<00:00,  7.96it/s]\n"
     ]
    },
    {
     "name": "stdout",
     "output_type": "stream",
     "text": [
      "Training - Epoch 50/70, Loss: 0.4572, Accuracy: 0.7773\n",
      "Validation - Epoch 50/70, Loss: 2.0780, Accuracy: 0.6353\n"
     ]
    },
    {
     "name": "stderr",
     "output_type": "stream",
     "text": [
      "100%|██████████| 22/22 [00:02<00:00,  8.11it/s]\n"
     ]
    },
    {
     "name": "stdout",
     "output_type": "stream",
     "text": [
      "Training - Epoch 51/70, Loss: 0.4301, Accuracy: 0.8049\n",
      "Validation - Epoch 51/70, Loss: 1.4496, Accuracy: 0.6588\n"
     ]
    },
    {
     "name": "stderr",
     "output_type": "stream",
     "text": [
      "100%|██████████| 22/22 [00:02<00:00,  8.19it/s]\n"
     ]
    },
    {
     "name": "stdout",
     "output_type": "stream",
     "text": [
      "Training - Epoch 52/70, Loss: 0.4343, Accuracy: 0.8064\n",
      "Validation - Epoch 52/70, Loss: 1.0846, Accuracy: 0.4824\n"
     ]
    },
    {
     "name": "stderr",
     "output_type": "stream",
     "text": [
      "100%|██████████| 22/22 [00:02<00:00,  7.97it/s]\n"
     ]
    },
    {
     "name": "stdout",
     "output_type": "stream",
     "text": [
      "Training - Epoch 53/70, Loss: 0.4411, Accuracy: 0.8035\n",
      "Validation - Epoch 53/70, Loss: 0.8507, Accuracy: 0.6000\n"
     ]
    },
    {
     "name": "stderr",
     "output_type": "stream",
     "text": [
      "100%|██████████| 22/22 [00:02<00:00,  7.82it/s]\n"
     ]
    },
    {
     "name": "stdout",
     "output_type": "stream",
     "text": [
      "Training - Epoch 54/70, Loss: 0.4276, Accuracy: 0.8079\n",
      "Validation - Epoch 54/70, Loss: 1.2664, Accuracy: 0.6000\n"
     ]
    },
    {
     "name": "stderr",
     "output_type": "stream",
     "text": [
      "100%|██████████| 22/22 [00:02<00:00,  8.13it/s]\n"
     ]
    },
    {
     "name": "stdout",
     "output_type": "stream",
     "text": [
      "Training - Epoch 55/70, Loss: 0.4263, Accuracy: 0.8049\n",
      "Validation - Epoch 55/70, Loss: 1.0581, Accuracy: 0.5765\n"
     ]
    },
    {
     "name": "stderr",
     "output_type": "stream",
     "text": [
      "100%|██████████| 22/22 [00:02<00:00,  8.00it/s]\n"
     ]
    },
    {
     "name": "stdout",
     "output_type": "stream",
     "text": [
      "Training - Epoch 56/70, Loss: 0.4085, Accuracy: 0.8239\n",
      "Validation - Epoch 56/70, Loss: 3.5123, Accuracy: 0.3412\n"
     ]
    },
    {
     "name": "stderr",
     "output_type": "stream",
     "text": [
      "100%|██████████| 22/22 [00:02<00:00,  8.18it/s]\n"
     ]
    },
    {
     "name": "stdout",
     "output_type": "stream",
     "text": [
      "Training - Epoch 57/70, Loss: 0.3951, Accuracy: 0.8399\n",
      "Validation - Epoch 57/70, Loss: 2.8510, Accuracy: 0.6588\n"
     ]
    },
    {
     "name": "stderr",
     "output_type": "stream",
     "text": [
      "100%|██████████| 22/22 [00:02<00:00,  7.93it/s]\n"
     ]
    },
    {
     "name": "stdout",
     "output_type": "stream",
     "text": [
      "Training - Epoch 58/70, Loss: 0.4062, Accuracy: 0.8137\n",
      "Validation - Epoch 58/70, Loss: 1.5168, Accuracy: 0.6588\n"
     ]
    },
    {
     "name": "stderr",
     "output_type": "stream",
     "text": [
      "100%|██████████| 22/22 [00:02<00:00,  7.86it/s]\n"
     ]
    },
    {
     "name": "stdout",
     "output_type": "stream",
     "text": [
      "Training - Epoch 59/70, Loss: 0.3990, Accuracy: 0.8282\n",
      "Validation - Epoch 59/70, Loss: 3.1466, Accuracy: 0.3529\n"
     ]
    },
    {
     "name": "stderr",
     "output_type": "stream",
     "text": [
      "100%|██████████| 22/22 [00:02<00:00,  7.95it/s]\n"
     ]
    },
    {
     "name": "stdout",
     "output_type": "stream",
     "text": [
      "Training - Epoch 60/70, Loss: 0.3965, Accuracy: 0.8093\n",
      "Validation - Epoch 60/70, Loss: 3.4827, Accuracy: 0.3412\n"
     ]
    },
    {
     "name": "stderr",
     "output_type": "stream",
     "text": [
      "100%|██████████| 22/22 [00:02<00:00,  7.83it/s]\n"
     ]
    },
    {
     "name": "stdout",
     "output_type": "stream",
     "text": [
      "Training - Epoch 61/70, Loss: 0.3805, Accuracy: 0.8326\n",
      "Validation - Epoch 61/70, Loss: 0.9378, Accuracy: 0.5529\n"
     ]
    },
    {
     "name": "stderr",
     "output_type": "stream",
     "text": [
      "100%|██████████| 22/22 [00:02<00:00,  8.01it/s]\n"
     ]
    },
    {
     "name": "stdout",
     "output_type": "stream",
     "text": [
      "Training - Epoch 62/70, Loss: 0.3709, Accuracy: 0.8530\n",
      "Validation - Epoch 62/70, Loss: 0.7785, Accuracy: 0.6588\n"
     ]
    },
    {
     "name": "stderr",
     "output_type": "stream",
     "text": [
      "100%|██████████| 22/22 [00:02<00:00,  7.85it/s]\n"
     ]
    },
    {
     "name": "stdout",
     "output_type": "stream",
     "text": [
      "Training - Epoch 63/70, Loss: 0.3591, Accuracy: 0.8399\n",
      "Validation - Epoch 63/70, Loss: 1.0135, Accuracy: 0.6118\n"
     ]
    },
    {
     "name": "stderr",
     "output_type": "stream",
     "text": [
      "100%|██████████| 22/22 [00:02<00:00,  7.70it/s]\n"
     ]
    },
    {
     "name": "stdout",
     "output_type": "stream",
     "text": [
      "Training - Epoch 64/70, Loss: 0.3678, Accuracy: 0.8443\n",
      "Validation - Epoch 64/70, Loss: 0.6806, Accuracy: 0.6824\n"
     ]
    },
    {
     "name": "stderr",
     "output_type": "stream",
     "text": [
      "100%|██████████| 22/22 [00:02<00:00,  7.88it/s]\n"
     ]
    },
    {
     "name": "stdout",
     "output_type": "stream",
     "text": [
      "Training - Epoch 65/70, Loss: 0.3620, Accuracy: 0.8472\n",
      "Validation - Epoch 65/70, Loss: 1.0321, Accuracy: 0.5294\n"
     ]
    },
    {
     "name": "stderr",
     "output_type": "stream",
     "text": [
      "100%|██████████| 22/22 [00:02<00:00,  7.79it/s]\n"
     ]
    },
    {
     "name": "stdout",
     "output_type": "stream",
     "text": [
      "Training - Epoch 66/70, Loss: 0.3404, Accuracy: 0.8646\n",
      "Validation - Epoch 66/70, Loss: 0.8647, Accuracy: 0.6706\n"
     ]
    },
    {
     "name": "stderr",
     "output_type": "stream",
     "text": [
      "100%|██████████| 22/22 [00:02<00:00,  7.88it/s]\n"
     ]
    },
    {
     "name": "stdout",
     "output_type": "stream",
     "text": [
      "Training - Epoch 67/70, Loss: 0.3323, Accuracy: 0.8806\n",
      "Validation - Epoch 67/70, Loss: 1.8157, Accuracy: 0.6471\n"
     ]
    },
    {
     "name": "stderr",
     "output_type": "stream",
     "text": [
      "100%|██████████| 22/22 [00:02<00:00,  7.68it/s]\n"
     ]
    },
    {
     "name": "stdout",
     "output_type": "stream",
     "text": [
      "Training - Epoch 68/70, Loss: 0.3314, Accuracy: 0.8734\n",
      "Validation - Epoch 68/70, Loss: 0.7709, Accuracy: 0.6471\n"
     ]
    },
    {
     "name": "stderr",
     "output_type": "stream",
     "text": [
      "100%|██████████| 22/22 [00:02<00:00,  7.91it/s]\n"
     ]
    },
    {
     "name": "stdout",
     "output_type": "stream",
     "text": [
      "Training - Epoch 69/70, Loss: 0.3146, Accuracy: 0.8879\n",
      "Validation - Epoch 69/70, Loss: 1.1822, Accuracy: 0.5765\n"
     ]
    },
    {
     "name": "stderr",
     "output_type": "stream",
     "text": [
      "100%|██████████| 22/22 [00:02<00:00,  7.86it/s]\n"
     ]
    },
    {
     "name": "stdout",
     "output_type": "stream",
     "text": [
      "Training - Epoch 70/70, Loss: 0.3338, Accuracy: 0.8588\n",
      "Validation - Epoch 70/70, Loss: 1.1192, Accuracy: 0.6353\n",
      "Testing - Accuracy: 0.5287\n"
     ]
    },
    {
     "data": {
      "image/png": "[encoded data removed]",
      "text/plain": [
       "<Figure size 1200x400 with 2 Axes>"
      ]
     },
     "metadata": {},
     "output_type": "display_data"
    }
   ],
   "source": [
    "# Lists to store values for plotting\n",
    "from cgi import test\n",
    "\n",
    "\n",
    "train_losses = []\n",
    "train_accuracies = []\n",
    "val_losses = []\n",
    "val_accuracies = []\n",
    "\n",
    "# Training loop\n",
    "num_epochs = 70\n",
    "for epoch in range(num_epochs):\n",
    "    model.train()\n",
    "    total_loss = 0.0\n",
    "    total_correct = 0\n",
    "    total_samples = 0\n",
    "\n",
    "    for inputs, labels in tqdm(train_loader):\n",
    "        # convert labels to float because criterion requires float type labels\n",
    "        labels = labels.type(torch.FloatTensor)\n",
    "        inputs, labels = inputs.to(device), labels.to(device)\n",
    "        optimizer.zero_grad()\n",
    "        outputs = model(inputs)\n",
    "        loss = criterion(outputs, labels)\n",
    "        loss.backward()\n",
    "        optimizer.step()\n",
    "\n",
    "        total_loss += loss.item()\n",
    "        predicted = outputs > 0.5\n",
    "        total_correct += (predicted == labels).sum().item()\n",
    "        total_samples += labels.size(0)\n",
    "\n",
    "    average_loss = total_loss / len(train_loader)\n",
    "    accuracy = total_correct / total_samples\n",
    "\n",
    "    train_losses.append(average_loss)\n",
    "    train_accuracies.append(accuracy)\n",
    "\n",
    "    print(f'Training - Epoch {epoch+1}/{num_epochs}, Loss: {average_loss:.4f}, Accuracy: {accuracy:.4f}')\n",
    "\n",
    "    # Validation\n",
    "    model.eval()\n",
    "    val_loss = 0.0\n",
    "    val_correct = 0\n",
    "    val_samples = 0\n",
    "\n",
    "    with torch.no_grad():\n",
    "        for val_inputs, val_labels in val_loader:\n",
    "            val_labels = val_labels.type(torch.FloatTensor)\n",
    "            val_inputs, val_labels = val_inputs.to(device), val_labels.to(device)\n",
    "            val_outputs = model(val_inputs)\n",
    "            val_loss += criterion(val_outputs, val_labels).item()\n",
    "            val_predicted = val_outputs > 0.5\n",
    "            val_correct += (val_predicted == val_labels).sum().item()\n",
    "            val_samples += val_labels.size(0)\n",
    "\n",
    "    average_val_loss = val_loss / len(val_loader)\n",
    "    val_accuracy = val_correct / val_samples\n",
    "\n",
    "    val_losses.append(average_val_loss)\n",
    "    val_accuracies.append(val_accuracy)\n",
    "\n",
    "    print(f'Validation - Epoch {epoch+1}/{num_epochs}, Loss: {average_val_loss:.4f}, Accuracy: {val_accuracy:.4f}')\n",
    "\n",
    "# Testing\n",
    "model.eval()\n",
    "test_correct = 0\n",
    "test_samples = 0\n",
    "\n",
    "with torch.no_grad():\n",
    "    for test_inputs, test_labels in test_loader:\n",
    "        test_labels = test_labels.type(torch.FloatTensor)\n",
    "        test_inputs, test_labels = test_inputs.to(device), test_labels.to(device)\n",
    "        test_outputs = model(test_inputs)\n",
    "        test_predicted = test_outputs > 0.5\n",
    "        test_correct += (test_predicted == test_labels).sum().item()\n",
    "        test_samples += test_labels.size(0)\n",
    "\n",
    "test_accuracy = test_correct / test_samples\n",
    "print(f'Testing - Accuracy: {test_accuracy:.4f}')\n",
    "\n",
    "# Plot learning curves\n",
    "epochs = range(1, num_epochs + 1)\n",
    "\n",
    "plt.figure(figsize=(12, 4))\n",
    "plt.subplot(1, 2, 1)\n",
    "plt.plot(epochs, train_losses, label='Training Loss')\n",
    "plt.plot(epochs, val_losses, label='Validation Loss')\n",
    "plt.xlabel('Epoch')\n",
    "plt.ylabel('Loss')\n",
    "plt.legend()\n",
    "\n",
    "plt.subplot(1, 2, 2)\n",
    "plt.plot(epochs, train_accuracies, label='Training Accuracy')\n",
    "plt.plot(epochs, val_accuracies, label='Validation Accuracy')\n",
    "plt.xlabel('Epoch')\n",
    "plt.ylabel('Accuracy')\n",
    "plt.legend()\n",
    "\n",
    "plt.tight_layout()\n",
    "plt.show()\n"
   ]
  },
  {
   "cell_type": "code",
   "execution_count": 23,
   "metadata": {},
   "outputs": [
    {
     "data": {
      "text/plain": [
       "<matplotlib.legend.Legend at 0x1a4a3eb9310>"
      ]
     },
     "execution_count": 23,
     "metadata": {},
     "output_type": "execute_result"
    },
    {
     "data": {
      "image/png": "[encoded data removed]",
      "text/plain": [
       "<Figure size 1200x400 with 1 Axes>"
      ]
     },
     "metadata": {},
     "output_type": "display_data"
    }
   ],
   "source": [
    "xrange = range(1, num_epochs)\n",
    "plt.figure(figsize=(12, 4))\n",
    "plt.plot(xrange, train_losses[1:], label='Training Loss')\n",
    "plt.plot(xrange, val_losses[1:], label='Validation Loss')\n",
    "plt.xlabel('Epoch')\n",
    "plt.ylabel('Loss')\n",
    "plt.legend()"
   ]
  },
  {
   "cell_type": "code",
   "execution_count": 24,
   "metadata": {},
   "outputs": [
    {
     "name": "stdout",
     "output_type": "stream",
     "text": [
      "Testing - Accuracy: 0.5287\n"
     ]
    },
    {
     "data": {
      "image/png": "[encoded data removed]",
      "text/plain": [
       "<Figure size 600x600 with 2 Axes>"
      ]
     },
     "metadata": {},
     "output_type": "display_data"
    }
   ],
   "source": [
    "# Lists to store true labels and predicted labels\n",
    "true_labels = []\n",
    "predicted_labels = []\n",
    "\n",
    "# Testing\n",
    "model.eval()\n",
    "test_correct = 0\n",
    "test_samples = 0\n",
    "\n",
    "with torch.no_grad():\n",
    "    for test_inputs, test_labels in test_loader:\n",
    "        test_inputs, test_labels = test_inputs.to(device), test_labels.to(device)\n",
    "        test_outputs = model(test_inputs)\n",
    "        test_predicted = test_outputs > 0.5\n",
    "\n",
    "        true_labels.extend(test_labels.cpu().numpy())\n",
    "        predicted_labels.extend(test_predicted.cpu().numpy())\n",
    "\n",
    "        test_correct += (test_predicted == test_labels).sum().item()\n",
    "        test_samples += test_labels.size(0)\n",
    "\n",
    "test_accuracy = test_correct / test_samples\n",
    "print(f'Testing - Accuracy: {test_accuracy:.4f}')\n",
    "\n",
    "# Confusion matrix\n",
    "cm = confusion_matrix(true_labels, predicted_labels)\n",
    "class_names = ['Major', 'Minor']  # Modify based on your actual class names\n",
    "\n",
    "# Plot the confusion matrix\n",
    "plt.figure(figsize=(6, 6))\n",
    "sns.heatmap(cm, annot=True, fmt='d', cmap='Blues', xticklabels=class_names, yticklabels=class_names)\n",
    "plt.title('Confusion Matrix')\n",
    "plt.xlabel('Predicted')\n",
    "plt.ylabel('True')\n",
    "plt.show()"
   ]
  }
 ],
 "metadata": {
  "kernelspec": {
   "display_name": "pytorch",
   "language": "python",
   "name": "python3"
  },
  "language_info": {
   "codemirror_mode": {
    "name": "ipython",
    "version": 3
   },
   "file_extension": ".py",
   "mimetype": "text/x-python",
   "name": "python",
   "nbconvert_exporter": "python",
   "pygments_lexer": "ipython3",
   "version": "3.8.18"
  }
 },
 "nbformat": 4,
 "nbformat_minor": 2
}
