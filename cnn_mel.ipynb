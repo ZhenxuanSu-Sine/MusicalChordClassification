{
 "cells": [
  {
   "cell_type": "code",
   "execution_count": 1,
   "metadata": {},
   "outputs": [],
   "source": [
    "import torch\n",
    "import torch.nn as nn\n",
    "from sklearn.metrics import accuracy_score, f1_score, confusion_matrix\n",
    "import torch.optim as optim\n",
    "from torch.utils.data import DataLoader, random_split\n",
    "from tqdm import tqdm\n",
    "import matplotlib.pyplot as plt\n",
    "import seaborn as sns\n",
    "# Import your dataset and transforms\n",
    "from dataset_creater import *\n",
    "from torchsummary import summary\n",
    "from torchaudio import transforms as T"
   ]
  },
  {
   "cell_type": "code",
   "execution_count": 2,
   "metadata": {},
   "outputs": [
    {
     "name": "stderr",
     "output_type": "stream",
     "text": [
      "c:\\Users\\Sine\\anaconda3\\envs\\pytorch\\lib\\site-packages\\torchaudio\\functional\\functional.py:584: UserWarning: At least one mel filterbank has all zero values. The value for `n_mels` (128) may be set too high. Or, the value for `n_freqs` (201) may be set too low.\n",
      "  warnings.warn(\n"
     ]
    }
   ],
   "source": [
    "# Set the path to your dataset\n",
    "data_folder = \"./data\"\n",
    "# transform = T.MelSpectrogram(sample_rate=44100, n_mels=64)\n",
    "transform = T.MFCC(sample_rate=44100, n_mfcc=32)\n",
    "\n",
    "# Create an instance of your dataset\n",
    "dataset = AudioDataset(data_folder, transform=transform, scale=(-625, 195))\n",
    "\n",
    "# Define the sizes of your splits\n",
    "train_size = int(0.8 * len(dataset))\n",
    "val_size = int(0.10 * len(dataset))\n",
    "test_size = len(dataset) - train_size - val_size\n",
    "\n",
    "# Use random_split to create training, validation, and test sets\n",
    "train_set, val_set, test_set = random_split(dataset, [train_size, val_size, test_size])\n",
    "\n",
    "batch_size = 32\n",
    "# Move the training and validation data loaders to the selected device\n",
    "train_loader = DataLoader(train_set, batch_size=batch_size, shuffle=True)\n",
    "val_loader = DataLoader(val_set, shuffle=False)\n",
    "test_loader = DataLoader(test_set, shuffle=False)\n"
   ]
  },
  {
   "cell_type": "code",
   "execution_count": 3,
   "metadata": {},
   "outputs": [
    {
     "name": "stdout",
     "output_type": "stream",
     "text": [
      "torch.Size([1, 32, 508])\n",
      "Min amplitude: tensor(0.0004)\n",
      "Max amplitude: tensor(1.0007)\n"
     ]
    }
   ],
   "source": [
    "min_amplitude = np.inf\n",
    "max_amplitude = -np.inf\n",
    "for batch in train_loader:\n",
    "    padded_waveforms, labels = batch\n",
    "    # print(\"Padded waveforms shape:\", padded_waveforms.shape)\n",
    "    input_shape = padded_waveforms.shape[1:]\n",
    "    if min_amplitude > padded_waveforms.min():\n",
    "        min_amplitude = padded_waveforms.min()\n",
    "    if max_amplitude < padded_waveforms.max():\n",
    "        max_amplitude = padded_waveforms.max()\n",
    "print(input_shape)\n",
    "print(\"Min amplitude:\", min_amplitude)\n",
    "print(\"Max amplitude:\", max_amplitude)"
   ]
  },
  {
   "cell_type": "code",
   "execution_count": 4,
   "metadata": {},
   "outputs": [],
   "source": [
    "class MelChordClassifier(nn.Module):\n",
    "    def __init__(self):\n",
    "        super(MelChordClassifier, self).__init__()\n",
    "        # Define a CNN with input shape is (batch_size, 1, 128, 199) and output shape is (batch_size, 1)\n",
    "        # it should reduce the dimensionality very quickly because the dataset is small (<1000)\n",
    "        self.conv1 = nn.Conv2d(1, 8, kernel_size=(4,8), stride=1, padding=0) \n",
    "        self.bn1 = nn.BatchNorm2d(8)\n",
    "        self.relu1 = nn.ReLU()\n",
    "        self.pool1 = nn.MaxPool2d(kernel_size=(4,8), stride=(2, 4)) \n",
    "\n",
    "        self.conv2 = nn.Conv2d(8, 16, kernel_size=(2,4), stride=1, padding=0) \n",
    "        self.bn2 = nn.BatchNorm2d(16)\n",
    "        self.relu2 = nn.ReLU()\n",
    "        self.pool2 = nn.MaxPool2d(kernel_size=4, stride=(2,4))\n",
    "\n",
    "        self.conv3 = nn.Conv2d(16, 32, kernel_size=4, stride=1, padding=0)\n",
    "        self.relu3 = nn.ReLU()\n",
    "        self.pool3 = nn.AdaptiveAvgPool2d((2,2))\n",
    "\n",
    "        self.bn3 = nn.BatchNorm1d(32 * 2 * 2)\n",
    "        self.dropout1 = nn.Dropout(0.5)\n",
    "        self.fc1 = nn.Linear(32 * 2 * 2, 32)\n",
    "        self.relu4 = nn.ReLU()\n",
    "        self.bn4 = nn.BatchNorm1d(32)\n",
    "        self.dropout2 = nn.Dropout(0.2)\n",
    "        self.fc2 = nn.Linear(32, 1)\n",
    "         # no activation function because we use BCEWithLogitsLoss\n",
    "\n",
    "    def forward(self, x):\n",
    "        x = self.conv1(x)\n",
    "        x = self.bn1(x)\n",
    "        x = self.relu1(x)\n",
    "        x = self.pool1(x)\n",
    "\n",
    "        x = self.conv2(x)\n",
    "        x = self.bn2(x)\n",
    "        x = self.relu2(x)\n",
    "        x = self.pool2(x)\n",
    "\n",
    "        x = self.conv3(x)\n",
    "        x = self.relu3(x)\n",
    "        x = self.pool3(x)\n",
    "\n",
    "        x = x.view(x.size(0), -1) # flatten\n",
    "        x = self.bn3(x)\n",
    "        x = self.dropout1(x)\n",
    "        x = self.fc1(x)\n",
    "        x = self.relu4(x)\n",
    "        x = self.bn4(x)\n",
    "        x = self.dropout2(x)\n",
    "        x = self.fc2(x)\n",
    "        # Use BCEWithLogitsLoss instead of BCELoss because it combines a Sigmoid layer and the BCELoss in one single class\n",
    "        # the output shape should be (batch_size,)\n",
    "        return x.view(-1)"
   ]
  },
  {
   "cell_type": "code",
   "execution_count": 5,
   "metadata": {},
   "outputs": [
    {
     "name": "stdout",
     "output_type": "stream",
     "text": [
      "----------------------------------------------------------------\n",
      "        Layer (type)               Output Shape         Param #\n",
      "================================================================\n",
      "            Conv2d-1           [-1, 8, 29, 501]             264\n",
      "       BatchNorm2d-2           [-1, 8, 29, 501]              16\n",
      "              ReLU-3           [-1, 8, 29, 501]               0\n",
      "         MaxPool2d-4           [-1, 8, 13, 124]               0\n",
      "            Conv2d-5          [-1, 16, 12, 121]           1,040\n",
      "       BatchNorm2d-6          [-1, 16, 12, 121]              32\n",
      "              ReLU-7          [-1, 16, 12, 121]               0\n",
      "         MaxPool2d-8            [-1, 16, 5, 30]               0\n",
      "            Conv2d-9            [-1, 32, 2, 27]           8,224\n",
      "             ReLU-10            [-1, 32, 2, 27]               0\n",
      "AdaptiveAvgPool2d-11             [-1, 32, 2, 2]               0\n",
      "      BatchNorm1d-12                  [-1, 128]             256\n",
      "          Dropout-13                  [-1, 128]               0\n",
      "           Linear-14                   [-1, 32]           4,128\n",
      "             ReLU-15                   [-1, 32]               0\n",
      "      BatchNorm1d-16                   [-1, 32]              64\n",
      "          Dropout-17                   [-1, 32]               0\n",
      "           Linear-18                    [-1, 1]              33\n",
      "================================================================\n",
      "Total params: 14,057\n",
      "Trainable params: 14,057\n",
      "Non-trainable params: 0\n",
      "----------------------------------------------------------------\n",
      "Input size (MB): 0.06\n",
      "Forward/backward pass size (MB): 3.34\n",
      "Params size (MB): 0.05\n",
      "Estimated Total Size (MB): 3.45\n",
      "----------------------------------------------------------------\n"
     ]
    }
   ],
   "source": [
    "\n",
    "\n",
    "# Check if GPU is available and set the device accordingly\n",
    "device = torch.device(\"cuda\" if torch.cuda.is_available() else \"cpu\")\n",
    "\n",
    "# Instantiate model and move it to the selected device\n",
    "model = MelChordClassifier().to(device)\n",
    "\n",
    "# Instantiate loss function and move it to the selected device\n",
    "criterion = nn.BCEWithLogitsLoss().to(device)\n",
    "\n",
    "# Instantiate optimizer and move it to the selected device\n",
    "optimizer = optim.Adam(model.parameters(), lr=0.0001, weight_decay=0.001)\n",
    "\n",
    "# output summary of model\n",
    "summary(model, input_shape)\n",
    "\n"
   ]
  },
  {
   "cell_type": "code",
   "execution_count": 6,
   "metadata": {},
   "outputs": [
    {
     "name": "stderr",
     "output_type": "stream",
     "text": [
      "100%|██████████| 22/22 [00:02<00:00,  8.18it/s]\n"
     ]
    },
    {
     "name": "stdout",
     "output_type": "stream",
     "text": [
      "Training - Epoch 1/50, Loss: 0.7383, Accuracy: 0.5473\n",
      "Validation - Epoch 1/50, Loss: 0.7352, Accuracy: 0.5882\n"
     ]
    },
    {
     "name": "stderr",
     "output_type": "stream",
     "text": [
      "100%|██████████| 22/22 [00:03<00:00,  6.62it/s]\n"
     ]
    },
    {
     "name": "stdout",
     "output_type": "stream",
     "text": [
      "Training - Epoch 2/50, Loss: 0.7126, Accuracy: 0.5721\n",
      "Validation - Epoch 2/50, Loss: 1.0346, Accuracy: 0.4118\n"
     ]
    },
    {
     "name": "stderr",
     "output_type": "stream",
     "text": [
      "100%|██████████| 22/22 [00:03<00:00,  6.21it/s]\n"
     ]
    },
    {
     "name": "stdout",
     "output_type": "stream",
     "text": [
      "Training - Epoch 3/50, Loss: 0.7155, Accuracy: 0.5575\n",
      "Validation - Epoch 3/50, Loss: 0.7679, Accuracy: 0.4706\n"
     ]
    },
    {
     "name": "stderr",
     "output_type": "stream",
     "text": [
      "100%|██████████| 22/22 [00:03<00:00,  6.59it/s]\n"
     ]
    },
    {
     "name": "stdout",
     "output_type": "stream",
     "text": [
      "Training - Epoch 4/50, Loss: 0.7048, Accuracy: 0.5604\n",
      "Validation - Epoch 4/50, Loss: 0.6598, Accuracy: 0.5882\n"
     ]
    },
    {
     "name": "stderr",
     "output_type": "stream",
     "text": [
      "100%|██████████| 22/22 [00:03<00:00,  6.89it/s]\n"
     ]
    },
    {
     "name": "stdout",
     "output_type": "stream",
     "text": [
      "Training - Epoch 5/50, Loss: 0.7104, Accuracy: 0.5662\n",
      "Validation - Epoch 5/50, Loss: 0.7561, Accuracy: 0.5412\n"
     ]
    },
    {
     "name": "stderr",
     "output_type": "stream",
     "text": [
      "100%|██████████| 22/22 [00:03<00:00,  6.88it/s]\n"
     ]
    },
    {
     "name": "stdout",
     "output_type": "stream",
     "text": [
      "Training - Epoch 6/50, Loss: 0.6886, Accuracy: 0.5691\n",
      "Validation - Epoch 6/50, Loss: 0.6639, Accuracy: 0.5882\n"
     ]
    },
    {
     "name": "stderr",
     "output_type": "stream",
     "text": [
      "100%|██████████| 22/22 [00:03<00:00,  6.98it/s]\n"
     ]
    },
    {
     "name": "stdout",
     "output_type": "stream",
     "text": [
      "Training - Epoch 7/50, Loss: 0.6986, Accuracy: 0.5619\n",
      "Validation - Epoch 7/50, Loss: 0.6885, Accuracy: 0.5882\n"
     ]
    },
    {
     "name": "stderr",
     "output_type": "stream",
     "text": [
      "100%|██████████| 22/22 [00:03<00:00,  6.93it/s]\n"
     ]
    },
    {
     "name": "stdout",
     "output_type": "stream",
     "text": [
      "Training - Epoch 8/50, Loss: 0.6807, Accuracy: 0.5881\n",
      "Validation - Epoch 8/50, Loss: 0.6727, Accuracy: 0.6000\n"
     ]
    },
    {
     "name": "stderr",
     "output_type": "stream",
     "text": [
      "100%|██████████| 22/22 [00:03<00:00,  6.86it/s]\n"
     ]
    },
    {
     "name": "stdout",
     "output_type": "stream",
     "text": [
      "Training - Epoch 9/50, Loss: 0.6799, Accuracy: 0.5779\n",
      "Validation - Epoch 9/50, Loss: 0.6461, Accuracy: 0.6000\n"
     ]
    },
    {
     "name": "stderr",
     "output_type": "stream",
     "text": [
      "100%|██████████| 22/22 [00:03<00:00,  7.04it/s]\n"
     ]
    },
    {
     "name": "stdout",
     "output_type": "stream",
     "text": [
      "Training - Epoch 10/50, Loss: 0.6884, Accuracy: 0.5983\n",
      "Validation - Epoch 10/50, Loss: 0.6650, Accuracy: 0.6118\n"
     ]
    },
    {
     "name": "stderr",
     "output_type": "stream",
     "text": [
      "100%|██████████| 22/22 [00:03<00:00,  6.99it/s]\n"
     ]
    },
    {
     "name": "stdout",
     "output_type": "stream",
     "text": [
      "Training - Epoch 11/50, Loss: 0.6584, Accuracy: 0.5983\n",
      "Validation - Epoch 11/50, Loss: 0.9721, Accuracy: 0.5882\n"
     ]
    },
    {
     "name": "stderr",
     "output_type": "stream",
     "text": [
      "100%|██████████| 22/22 [00:03<00:00,  6.91it/s]\n"
     ]
    },
    {
     "name": "stdout",
     "output_type": "stream",
     "text": [
      "Training - Epoch 12/50, Loss: 0.6737, Accuracy: 0.5881\n",
      "Validation - Epoch 12/50, Loss: 0.6219, Accuracy: 0.5882\n"
     ]
    },
    {
     "name": "stderr",
     "output_type": "stream",
     "text": [
      "100%|██████████| 22/22 [00:03<00:00,  7.04it/s]\n"
     ]
    },
    {
     "name": "stdout",
     "output_type": "stream",
     "text": [
      "Training - Epoch 13/50, Loss: 0.6679, Accuracy: 0.5997\n",
      "Validation - Epoch 13/50, Loss: 0.7695, Accuracy: 0.5882\n"
     ]
    },
    {
     "name": "stderr",
     "output_type": "stream",
     "text": [
      "100%|██████████| 22/22 [00:03<00:00,  7.10it/s]\n"
     ]
    },
    {
     "name": "stdout",
     "output_type": "stream",
     "text": [
      "Training - Epoch 14/50, Loss: 0.6602, Accuracy: 0.5997\n",
      "Validation - Epoch 14/50, Loss: 0.6619, Accuracy: 0.6118\n"
     ]
    },
    {
     "name": "stderr",
     "output_type": "stream",
     "text": [
      "100%|██████████| 22/22 [00:03<00:00,  7.06it/s]\n"
     ]
    },
    {
     "name": "stdout",
     "output_type": "stream",
     "text": [
      "Training - Epoch 15/50, Loss: 0.6384, Accuracy: 0.6128\n",
      "Validation - Epoch 15/50, Loss: 0.6480, Accuracy: 0.6353\n"
     ]
    },
    {
     "name": "stderr",
     "output_type": "stream",
     "text": [
      "100%|██████████| 22/22 [00:03<00:00,  7.06it/s]\n"
     ]
    },
    {
     "name": "stdout",
     "output_type": "stream",
     "text": [
      "Training - Epoch 16/50, Loss: 0.6520, Accuracy: 0.5939\n",
      "Validation - Epoch 16/50, Loss: 0.6442, Accuracy: 0.6000\n"
     ]
    },
    {
     "name": "stderr",
     "output_type": "stream",
     "text": [
      "100%|██████████| 22/22 [00:03<00:00,  7.07it/s]\n"
     ]
    },
    {
     "name": "stdout",
     "output_type": "stream",
     "text": [
      "Training - Epoch 17/50, Loss: 0.6643, Accuracy: 0.5939\n",
      "Validation - Epoch 17/50, Loss: 0.6850, Accuracy: 0.6353\n"
     ]
    },
    {
     "name": "stderr",
     "output_type": "stream",
     "text": [
      "100%|██████████| 22/22 [00:03<00:00,  7.07it/s]\n"
     ]
    },
    {
     "name": "stdout",
     "output_type": "stream",
     "text": [
      "Training - Epoch 18/50, Loss: 0.6361, Accuracy: 0.6041\n",
      "Validation - Epoch 18/50, Loss: 0.6597, Accuracy: 0.5882\n"
     ]
    },
    {
     "name": "stderr",
     "output_type": "stream",
     "text": [
      "100%|██████████| 22/22 [00:03<00:00,  7.09it/s]\n"
     ]
    },
    {
     "name": "stdout",
     "output_type": "stream",
     "text": [
      "Training - Epoch 19/50, Loss: 0.6554, Accuracy: 0.5997\n",
      "Validation - Epoch 19/50, Loss: 0.7194, Accuracy: 0.5882\n"
     ]
    },
    {
     "name": "stderr",
     "output_type": "stream",
     "text": [
      "100%|██████████| 22/22 [00:03<00:00,  6.99it/s]\n"
     ]
    },
    {
     "name": "stdout",
     "output_type": "stream",
     "text": [
      "Training - Epoch 20/50, Loss: 0.6430, Accuracy: 0.6157\n",
      "Validation - Epoch 20/50, Loss: 0.6686, Accuracy: 0.5882\n"
     ]
    },
    {
     "name": "stderr",
     "output_type": "stream",
     "text": [
      "100%|██████████| 22/22 [00:03<00:00,  7.13it/s]\n"
     ]
    },
    {
     "name": "stdout",
     "output_type": "stream",
     "text": [
      "Training - Epoch 21/50, Loss: 0.6311, Accuracy: 0.6172\n",
      "Validation - Epoch 21/50, Loss: 0.8567, Accuracy: 0.5882\n"
     ]
    },
    {
     "name": "stderr",
     "output_type": "stream",
     "text": [
      "100%|██████████| 22/22 [00:03<00:00,  7.01it/s]\n"
     ]
    },
    {
     "name": "stdout",
     "output_type": "stream",
     "text": [
      "Training - Epoch 22/50, Loss: 0.6546, Accuracy: 0.6114\n",
      "Validation - Epoch 22/50, Loss: 0.6352, Accuracy: 0.6118\n"
     ]
    },
    {
     "name": "stderr",
     "output_type": "stream",
     "text": [
      "100%|██████████| 22/22 [00:03<00:00,  7.09it/s]\n"
     ]
    },
    {
     "name": "stdout",
     "output_type": "stream",
     "text": [
      "Training - Epoch 23/50, Loss: 0.6433, Accuracy: 0.6143\n",
      "Validation - Epoch 23/50, Loss: 0.6354, Accuracy: 0.5765\n"
     ]
    },
    {
     "name": "stderr",
     "output_type": "stream",
     "text": [
      "100%|██████████| 22/22 [00:03<00:00,  7.11it/s]\n"
     ]
    },
    {
     "name": "stdout",
     "output_type": "stream",
     "text": [
      "Training - Epoch 24/50, Loss: 0.6349, Accuracy: 0.6346\n",
      "Validation - Epoch 24/50, Loss: 0.6284, Accuracy: 0.5882\n"
     ]
    },
    {
     "name": "stderr",
     "output_type": "stream",
     "text": [
      "100%|██████████| 22/22 [00:03<00:00,  7.03it/s]\n"
     ]
    },
    {
     "name": "stdout",
     "output_type": "stream",
     "text": [
      "Training - Epoch 25/50, Loss: 0.6178, Accuracy: 0.6215\n",
      "Validation - Epoch 25/50, Loss: 0.6251, Accuracy: 0.6000\n"
     ]
    },
    {
     "name": "stderr",
     "output_type": "stream",
     "text": [
      "100%|██████████| 22/22 [00:03<00:00,  6.99it/s]\n"
     ]
    },
    {
     "name": "stdout",
     "output_type": "stream",
     "text": [
      "Training - Epoch 26/50, Loss: 0.6236, Accuracy: 0.6114\n",
      "Validation - Epoch 26/50, Loss: 0.6271, Accuracy: 0.6471\n"
     ]
    },
    {
     "name": "stderr",
     "output_type": "stream",
     "text": [
      "100%|██████████| 22/22 [00:03<00:00,  6.99it/s]\n"
     ]
    },
    {
     "name": "stdout",
     "output_type": "stream",
     "text": [
      "Training - Epoch 27/50, Loss: 0.6233, Accuracy: 0.6303\n",
      "Validation - Epoch 27/50, Loss: 0.6478, Accuracy: 0.7059\n"
     ]
    },
    {
     "name": "stderr",
     "output_type": "stream",
     "text": [
      "100%|██████████| 22/22 [00:03<00:00,  7.06it/s]\n"
     ]
    },
    {
     "name": "stdout",
     "output_type": "stream",
     "text": [
      "Training - Epoch 28/50, Loss: 0.6221, Accuracy: 0.6215\n",
      "Validation - Epoch 28/50, Loss: 0.7993, Accuracy: 0.5882\n"
     ]
    },
    {
     "name": "stderr",
     "output_type": "stream",
     "text": [
      "100%|██████████| 22/22 [00:03<00:00,  6.98it/s]\n"
     ]
    },
    {
     "name": "stdout",
     "output_type": "stream",
     "text": [
      "Training - Epoch 29/50, Loss: 0.6152, Accuracy: 0.6259\n",
      "Validation - Epoch 29/50, Loss: 0.6902, Accuracy: 0.5882\n"
     ]
    },
    {
     "name": "stderr",
     "output_type": "stream",
     "text": [
      "100%|██████████| 22/22 [00:03<00:00,  7.02it/s]\n"
     ]
    },
    {
     "name": "stdout",
     "output_type": "stream",
     "text": [
      "Training - Epoch 30/50, Loss: 0.6143, Accuracy: 0.6332\n",
      "Validation - Epoch 30/50, Loss: 0.5926, Accuracy: 0.6118\n"
     ]
    },
    {
     "name": "stderr",
     "output_type": "stream",
     "text": [
      "100%|██████████| 22/22 [00:03<00:00,  6.91it/s]\n"
     ]
    },
    {
     "name": "stdout",
     "output_type": "stream",
     "text": [
      "Training - Epoch 31/50, Loss: 0.6104, Accuracy: 0.6346\n",
      "Validation - Epoch 31/50, Loss: 0.6881, Accuracy: 0.6706\n"
     ]
    },
    {
     "name": "stderr",
     "output_type": "stream",
     "text": [
      "100%|██████████| 22/22 [00:03<00:00,  7.01it/s]\n"
     ]
    },
    {
     "name": "stdout",
     "output_type": "stream",
     "text": [
      "Training - Epoch 32/50, Loss: 0.6039, Accuracy: 0.6536\n",
      "Validation - Epoch 32/50, Loss: 0.6421, Accuracy: 0.5882\n"
     ]
    },
    {
     "name": "stderr",
     "output_type": "stream",
     "text": [
      "100%|██████████| 22/22 [00:03<00:00,  7.00it/s]\n"
     ]
    },
    {
     "name": "stdout",
     "output_type": "stream",
     "text": [
      "Training - Epoch 33/50, Loss: 0.6025, Accuracy: 0.6434\n",
      "Validation - Epoch 33/50, Loss: 0.7242, Accuracy: 0.5882\n"
     ]
    },
    {
     "name": "stderr",
     "output_type": "stream",
     "text": [
      "100%|██████████| 22/22 [00:03<00:00,  7.06it/s]\n"
     ]
    },
    {
     "name": "stdout",
     "output_type": "stream",
     "text": [
      "Training - Epoch 34/50, Loss: 0.6052, Accuracy: 0.6419\n",
      "Validation - Epoch 34/50, Loss: 0.7873, Accuracy: 0.5882\n"
     ]
    },
    {
     "name": "stderr",
     "output_type": "stream",
     "text": [
      "100%|██████████| 22/22 [00:03<00:00,  7.06it/s]\n"
     ]
    },
    {
     "name": "stdout",
     "output_type": "stream",
     "text": [
      "Training - Epoch 35/50, Loss: 0.5969, Accuracy: 0.6507\n",
      "Validation - Epoch 35/50, Loss: 1.1689, Accuracy: 0.5882\n"
     ]
    },
    {
     "name": "stderr",
     "output_type": "stream",
     "text": [
      "100%|██████████| 22/22 [00:03<00:00,  6.96it/s]\n"
     ]
    },
    {
     "name": "stdout",
     "output_type": "stream",
     "text": [
      "Training - Epoch 36/50, Loss: 0.5968, Accuracy: 0.6492\n",
      "Validation - Epoch 36/50, Loss: 0.6148, Accuracy: 0.5882\n"
     ]
    },
    {
     "name": "stderr",
     "output_type": "stream",
     "text": [
      "100%|██████████| 22/22 [00:03<00:00,  7.00it/s]\n"
     ]
    },
    {
     "name": "stdout",
     "output_type": "stream",
     "text": [
      "Training - Epoch 37/50, Loss: 0.5949, Accuracy: 0.6550\n",
      "Validation - Epoch 37/50, Loss: 0.6268, Accuracy: 0.5765\n"
     ]
    },
    {
     "name": "stderr",
     "output_type": "stream",
     "text": [
      "100%|██████████| 22/22 [00:03<00:00,  7.03it/s]\n"
     ]
    },
    {
     "name": "stdout",
     "output_type": "stream",
     "text": [
      "Training - Epoch 38/50, Loss: 0.5795, Accuracy: 0.6521\n",
      "Validation - Epoch 38/50, Loss: 0.5928, Accuracy: 0.6000\n"
     ]
    },
    {
     "name": "stderr",
     "output_type": "stream",
     "text": [
      "100%|██████████| 22/22 [00:03<00:00,  7.06it/s]\n"
     ]
    },
    {
     "name": "stdout",
     "output_type": "stream",
     "text": [
      "Training - Epoch 39/50, Loss: 0.5773, Accuracy: 0.6725\n",
      "Validation - Epoch 39/50, Loss: 0.6836, Accuracy: 0.5882\n"
     ]
    },
    {
     "name": "stderr",
     "output_type": "stream",
     "text": [
      "100%|██████████| 22/22 [00:03<00:00,  7.02it/s]\n"
     ]
    },
    {
     "name": "stdout",
     "output_type": "stream",
     "text": [
      "Training - Epoch 40/50, Loss: 0.5840, Accuracy: 0.6550\n",
      "Validation - Epoch 40/50, Loss: 0.8975, Accuracy: 0.5882\n"
     ]
    },
    {
     "name": "stderr",
     "output_type": "stream",
     "text": [
      "100%|██████████| 22/22 [00:03<00:00,  7.02it/s]\n"
     ]
    },
    {
     "name": "stdout",
     "output_type": "stream",
     "text": [
      "Training - Epoch 41/50, Loss: 0.5902, Accuracy: 0.6507\n",
      "Validation - Epoch 41/50, Loss: 0.8218, Accuracy: 0.5882\n"
     ]
    },
    {
     "name": "stderr",
     "output_type": "stream",
     "text": [
      "100%|██████████| 22/22 [00:03<00:00,  6.97it/s]\n"
     ]
    },
    {
     "name": "stdout",
     "output_type": "stream",
     "text": [
      "Training - Epoch 42/50, Loss: 0.5708, Accuracy: 0.6856\n",
      "Validation - Epoch 42/50, Loss: 0.5763, Accuracy: 0.6471\n"
     ]
    },
    {
     "name": "stderr",
     "output_type": "stream",
     "text": [
      "100%|██████████| 22/22 [00:03<00:00,  7.04it/s]\n"
     ]
    },
    {
     "name": "stdout",
     "output_type": "stream",
     "text": [
      "Training - Epoch 43/50, Loss: 0.5616, Accuracy: 0.6696\n",
      "Validation - Epoch 43/50, Loss: 1.2621, Accuracy: 0.5882\n"
     ]
    },
    {
     "name": "stderr",
     "output_type": "stream",
     "text": [
      "100%|██████████| 22/22 [00:03<00:00,  7.07it/s]\n"
     ]
    },
    {
     "name": "stdout",
     "output_type": "stream",
     "text": [
      "Training - Epoch 44/50, Loss: 0.5754, Accuracy: 0.6710\n",
      "Validation - Epoch 44/50, Loss: 0.8767, Accuracy: 0.5882\n"
     ]
    },
    {
     "name": "stderr",
     "output_type": "stream",
     "text": [
      "100%|██████████| 22/22 [00:03<00:00,  6.99it/s]\n"
     ]
    },
    {
     "name": "stdout",
     "output_type": "stream",
     "text": [
      "Training - Epoch 45/50, Loss: 0.5661, Accuracy: 0.6754\n",
      "Validation - Epoch 45/50, Loss: 0.7411, Accuracy: 0.5647\n"
     ]
    },
    {
     "name": "stderr",
     "output_type": "stream",
     "text": [
      "100%|██████████| 22/22 [00:03<00:00,  7.04it/s]\n"
     ]
    },
    {
     "name": "stdout",
     "output_type": "stream",
     "text": [
      "Training - Epoch 46/50, Loss: 0.5526, Accuracy: 0.6958\n",
      "Validation - Epoch 46/50, Loss: 1.1434, Accuracy: 0.5882\n"
     ]
    },
    {
     "name": "stderr",
     "output_type": "stream",
     "text": [
      "100%|██████████| 22/22 [00:03<00:00,  6.85it/s]\n"
     ]
    },
    {
     "name": "stdout",
     "output_type": "stream",
     "text": [
      "Training - Epoch 47/50, Loss: 0.5413, Accuracy: 0.6987\n",
      "Validation - Epoch 47/50, Loss: 0.6703, Accuracy: 0.5882\n"
     ]
    },
    {
     "name": "stderr",
     "output_type": "stream",
     "text": [
      "100%|██████████| 22/22 [00:03<00:00,  7.07it/s]\n"
     ]
    },
    {
     "name": "stdout",
     "output_type": "stream",
     "text": [
      "Training - Epoch 48/50, Loss: 0.5601, Accuracy: 0.7016\n",
      "Validation - Epoch 48/50, Loss: 0.6852, Accuracy: 0.6353\n"
     ]
    },
    {
     "name": "stderr",
     "output_type": "stream",
     "text": [
      "100%|██████████| 22/22 [00:03<00:00,  7.07it/s]\n"
     ]
    },
    {
     "name": "stdout",
     "output_type": "stream",
     "text": [
      "Training - Epoch 49/50, Loss: 0.5372, Accuracy: 0.7132\n",
      "Validation - Epoch 49/50, Loss: 0.8366, Accuracy: 0.5647\n"
     ]
    },
    {
     "name": "stderr",
     "output_type": "stream",
     "text": [
      "100%|██████████| 22/22 [00:03<00:00,  7.08it/s]\n"
     ]
    },
    {
     "name": "stdout",
     "output_type": "stream",
     "text": [
      "Training - Epoch 50/50, Loss: 0.5523, Accuracy: 0.6652\n",
      "Validation - Epoch 50/50, Loss: 0.6647, Accuracy: 0.6235\n",
      "Testing - Accuracy: 0.6437\n"
     ]
    },
    {
     "data": {
      "image/png": "[encoded data removed]",
      "text/plain": [
       "<Figure size 1200x400 with 2 Axes>"
      ]
     },
     "metadata": {},
     "output_type": "display_data"
    }
   ],
   "source": [
    "# Lists to store values for plotting\n",
    "from cgi import test\n",
    "\n",
    "\n",
    "train_losses = []\n",
    "train_accuracies = []\n",
    "val_losses = []\n",
    "val_accuracies = []\n",
    "\n",
    "# Training loop\n",
    "num_epochs = 50\n",
    "for epoch in range(num_epochs):\n",
    "    model.train()\n",
    "    total_loss = 0.0\n",
    "    total_correct = 0\n",
    "    total_samples = 0\n",
    "\n",
    "    for inputs, labels in tqdm(train_loader):\n",
    "        # convert labels to float because criterion requires float type labels\n",
    "        labels = labels.type(torch.FloatTensor)\n",
    "        inputs, labels = inputs.to(device), labels.to(device)\n",
    "        optimizer.zero_grad()\n",
    "        outputs = model(inputs)\n",
    "        loss = criterion(outputs, labels)\n",
    "        loss.backward()\n",
    "        optimizer.step()\n",
    "\n",
    "        total_loss += loss.item()\n",
    "        predicted = outputs > 0.5\n",
    "        total_correct += (predicted == labels).sum().item()\n",
    "        total_samples += labels.size(0)\n",
    "\n",
    "    average_loss = total_loss / len(train_loader)\n",
    "    accuracy = total_correct / total_samples\n",
    "\n",
    "    train_losses.append(average_loss)\n",
    "    train_accuracies.append(accuracy)\n",
    "\n",
    "    print(f'Training - Epoch {epoch+1}/{num_epochs}, Loss: {average_loss:.4f}, Accuracy: {accuracy:.4f}')\n",
    "\n",
    "    # Validation\n",
    "    model.eval()\n",
    "    val_loss = 0.0\n",
    "    val_correct = 0\n",
    "    val_samples = 0\n",
    "\n",
    "    with torch.no_grad():\n",
    "        for val_inputs, val_labels in val_loader:\n",
    "            val_labels = val_labels.type(torch.FloatTensor)\n",
    "            val_inputs, val_labels = val_inputs.to(device), val_labels.to(device)\n",
    "            val_outputs = model(val_inputs)\n",
    "            val_loss += criterion(val_outputs, val_labels).item()\n",
    "            val_predicted = val_outputs > 0.5\n",
    "            val_correct += (val_predicted == val_labels).sum().item()\n",
    "            val_samples += val_labels.size(0)\n",
    "\n",
    "    average_val_loss = val_loss / len(val_loader)\n",
    "    val_accuracy = val_correct / val_samples\n",
    "\n",
    "    val_losses.append(average_val_loss)\n",
    "    val_accuracies.append(val_accuracy)\n",
    "\n",
    "    print(f'Validation - Epoch {epoch+1}/{num_epochs}, Loss: {average_val_loss:.4f}, Accuracy: {val_accuracy:.4f}')\n",
    "\n",
    "# Testing\n",
    "model.eval()\n",
    "test_correct = 0\n",
    "test_samples = 0\n",
    "\n",
    "with torch.no_grad():\n",
    "    for test_inputs, test_labels in test_loader:\n",
    "        test_labels = test_labels.type(torch.FloatTensor)\n",
    "        test_inputs, test_labels = test_inputs.to(device), test_labels.to(device)\n",
    "        test_outputs = model(test_inputs)\n",
    "        test_predicted = test_outputs > 0.5\n",
    "        test_correct += (test_predicted == test_labels).sum().item()\n",
    "        test_samples += test_labels.size(0)\n",
    "\n",
    "test_accuracy = test_correct / test_samples\n",
    "print(f'Testing - Accuracy: {test_accuracy:.4f}')\n",
    "\n",
    "# Plot learning curves\n",
    "epochs = range(1, num_epochs + 1)\n",
    "\n",
    "plt.figure(figsize=(12, 4))\n",
    "plt.subplot(1, 2, 1)\n",
    "plt.plot(epochs, train_losses, label='Training Loss')\n",
    "plt.plot(epochs, val_losses, label='Validation Loss')\n",
    "plt.xlabel('Epoch')\n",
    "plt.ylabel('Loss')\n",
    "plt.legend()\n",
    "\n",
    "plt.subplot(1, 2, 2)\n",
    "plt.plot(epochs, train_accuracies, label='Training Accuracy')\n",
    "plt.plot(epochs, val_accuracies, label='Validation Accuracy')\n",
    "plt.xlabel('Epoch')\n",
    "plt.ylabel('Accuracy')\n",
    "plt.legend()\n",
    "\n",
    "plt.tight_layout()\n",
    "plt.show()\n"
   ]
  },
  {
   "cell_type": "code",
   "execution_count": 7,
   "metadata": {},
   "outputs": [
    {
     "data": {
      "text/plain": [
       "<matplotlib.legend.Legend at 0x1a4a34bbfa0>"
      ]
     },
     "execution_count": 7,
     "metadata": {},
     "output_type": "execute_result"
    },
    {
     "data": {
      "image/png": "[encoded data removed]",
      "text/plain": [
       "<Figure size 1200x400 with 1 Axes>"
      ]
     },
     "metadata": {},
     "output_type": "display_data"
    }
   ],
   "source": [
    "xrange = range(1, num_epochs)\n",
    "plt.figure(figsize=(12, 4))\n",
    "plt.plot(xrange, train_losses[1:], label='Training Loss')\n",
    "plt.plot(xrange, val_losses[1:], label='Validation Loss')\n",
    "plt.xlabel('Epoch')\n",
    "plt.ylabel('Loss')\n",
    "plt.legend()"
   ]
  },
  {
   "cell_type": "code",
   "execution_count": 8,
   "metadata": {},
   "outputs": [
    {
     "name": "stdout",
     "output_type": "stream",
     "text": [
      "Testing - Accuracy: 0.6437\n"
     ]
    },
    {
     "data": {
      "image/png": "[encoded data removed]",
      "text/plain": [
       "<Figure size 600x600 with 2 Axes>"
      ]
     },
     "metadata": {},
     "output_type": "display_data"
    }
   ],
   "source": [
    "# Lists to store true labels and predicted labels\n",
    "true_labels = []\n",
    "predicted_labels = []\n",
    "\n",
    "# Testing\n",
    "model.eval()\n",
    "test_correct = 0\n",
    "test_samples = 0\n",
    "\n",
    "with torch.no_grad():\n",
    "    for test_inputs, test_labels in test_loader:\n",
    "        test_inputs, test_labels = test_inputs.to(device), test_labels.to(device)\n",
    "        test_outputs = model(test_inputs)\n",
    "        test_predicted = test_outputs > 0.5\n",
    "\n",
    "        true_labels.extend(test_labels.cpu().numpy())\n",
    "        predicted_labels.extend(test_predicted.cpu().numpy())\n",
    "\n",
    "        test_correct += (test_predicted == test_labels).sum().item()\n",
    "        test_samples += test_labels.size(0)\n",
    "\n",
    "test_accuracy = test_correct / test_samples\n",
    "print(f'Testing - Accuracy: {test_accuracy:.4f}')\n",
    "\n",
    "# Confusion matrix\n",
    "cm = confusion_matrix(true_labels, predicted_labels)\n",
    "class_names = ['Major', 'Minor']  # Modify based on your actual class names\n",
    "\n",
    "# Plot the confusion matrix\n",
    "plt.figure(figsize=(6, 6))\n",
    "sns.heatmap(cm, annot=True, fmt='d', cmap='Blues', xticklabels=class_names, yticklabels=class_names)\n",
    "plt.title('Confusion Matrix')\n",
    "plt.xlabel('Predicted')\n",
    "plt.ylabel('True')\n",
    "plt.show()"
   ]
  }
 ],
 "metadata": {
  "kernelspec": {
   "display_name": "pytorch",
   "language": "python",
   "name": "python3"
  },
  "language_info": {
   "codemirror_mode": {
    "name": "ipython",
    "version": 3
   },
   "file_extension": ".py",
   "mimetype": "text/x-python",
   "name": "python",
   "nbconvert_exporter": "python",
   "pygments_lexer": "ipython3",
   "version": "3.8.18"
  }
 },
 "nbformat": 4,
 "nbformat_minor": 2
}
