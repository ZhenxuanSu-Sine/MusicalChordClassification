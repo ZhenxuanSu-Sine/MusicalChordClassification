{
 "cells": [
  {
   "cell_type": "code",
   "execution_count": 41,
   "metadata": {},
   "outputs": [],
   "source": [
    "import torch\n",
    "import torch.nn as nn\n",
    "import torch.optim as optim\n",
    "from torch.utils.data import DataLoader, random_split\n",
    "from sklearn.metrics import accuracy_score, f1_score, confusion_matrix\n",
    "from tqdm import tqdm\n",
    "import matplotlib.pyplot as plt\n",
    "import seaborn as sns\n",
    "# Import your dataset and transforms\n",
    "from dataset_creater import *\n",
    "from torchsummary import summary\n"
   ]
  },
  {
   "cell_type": "code",
   "execution_count": 42,
   "metadata": {},
   "outputs": [
    {
     "name": "stdout",
     "output_type": "stream",
     "text": [
      "25472\n"
     ]
    }
   ],
   "source": [
    "# Set the path to your dataset\n",
    "data_folder = \"./data\"\n",
    "transform = Spectrogram_transform\n",
    "\n",
    "# Create an instance of your dataset\n",
    "dataset = AudioDataset(data_folder, transform=transform, scale=(-80, 0))\n",
    "\n",
    "# Define the sizes of your splits\n",
    "train_size = int(0.8 * len(dataset))\n",
    "val_size = int(0.10 * len(dataset))\n",
    "test_size = len(dataset) - train_size - val_size\n",
    "\n",
    "# Use random_split to create training, validation, and test sets\n",
    "train_set, val_set, test_set = random_split(dataset, [train_size, val_size, test_size])\n",
    "\n",
    "batch_size = 32\n",
    "# Move the training and validation data loaders to the selected device\n",
    "train_loader = DataLoader(train_set, batch_size=batch_size, shuffle=True)\n",
    "val_loader = DataLoader(val_set, shuffle=False)\n",
    "test_loader = DataLoader(test_set, shuffle=False)\n",
    "\n",
    "# Calculate the fc1 input size\n",
    "for batch in train_loader:\n",
    "    sample, label =  batch\n",
    "    if len(sample.size()) == 3:\n",
    "        fc1_input_size = sample.size(len(sample.size())-1)\n",
    "        print(fc1_input_size)\n",
    "    elif len(sample.size()) == 4:\n",
    "        fc1_input_size = sample.size(len(sample.size())-1) * sample.size(len(sample.size())-2)\n",
    "        print(fc1_input_size)\n",
    "    break"
   ]
  },
  {
   "cell_type": "code",
   "execution_count": 43,
   "metadata": {},
   "outputs": [
    {
     "name": "stdout",
     "output_type": "stream",
     "text": [
      "torch.Size([1, 128, 199])\n",
      "Min amplitude: tensor(0.)\n",
      "Max amplitude: tensor(1.)\n"
     ]
    }
   ],
   "source": [
    "min_amplitude = np.inf\n",
    "max_amplitude = -np.inf\n",
    "for batch in train_loader:\n",
    "    padded_waveforms, labels = batch\n",
    "    # print(\"Padded waveforms shape:\", padded_waveforms.shape)\n",
    "    input_shape = padded_waveforms.shape[1:]\n",
    "    if min_amplitude > padded_waveforms.min():\n",
    "        min_amplitude = padded_waveforms.min()\n",
    "    if max_amplitude < padded_waveforms.max():\n",
    "        max_amplitude = padded_waveforms.max()\n",
    "    input_shape = padded_waveforms.shape[1:]\n",
    "print(input_shape)\n",
    "print(\"Min amplitude:\", min_amplitude)\n",
    "print(\"Max amplitude:\", max_amplitude)"
   ]
  },
  {
   "cell_type": "code",
   "execution_count": 44,
   "metadata": {},
   "outputs": [
    {
     "data": {
      "text/plain": [
       "'\\n\\n\\nimport torch.nn as nn\\n\\nclass ChordClassifier(nn.Module):\\n    def __init__(self):\\n        super(ChordClassifier, self).__init__()\\n\\n        self.conv1 = nn.Conv2d(1, 32, kernel_size=3, stride=1, padding=1)\\n        self.relu1 = nn.ReLU()\\n        self.pool1 = nn.MaxPool2d(kernel_size=2, stride=2)\\n\\n        self.conv2 = nn.Conv2d(32, 64, kernel_size=3, stride=1, padding=1)\\n        self.relu2 = nn.ReLU()\\n        self.pool2 = nn.MaxPool2d(kernel_size=2, stride=2)\\n\\n        \\n        # Add more hidden layers\\n        self.conv3 = nn.Conv2d(64, 128, kernel_size=3, stride=1, padding=1)\\n        self.relu3 = nn.ReLU()\\n        self.pool3 = nn.MaxPool2d(kernel_size=2, stride=2)\\n\\n        self.conv4 = nn.Conv2d(128, 256, kernel_size=3, stride=1, padding=1)\\n        self.relu4 = nn.ReLU()\\n        self.pool4 = nn.MaxPool2d(kernel_size=2, stride=2)\\n        \\n\\n        # Adjust the size of the fully connected layer\\n        self.fc1 = nn.Linear(24576, 512)  # Adapt this size based on your actual tensor size\\n        self.relu5 = nn.ReLU()\\n        self.fc2 = nn.Linear(512, 128)\\n        self.relu6 = nn.ReLU()\\n        self.fc3 = nn.Linear(128, 2)  # 2 classes: Major and Minor\\n\\n    def forward(self, x):\\n        x = self.pool1(self.relu1(self.conv1(x)))\\n        x = self.pool2(self.relu2(self.conv2(x)))\\n        x = self.pool3(self.relu3(self.conv3(x)))\\n        x = self.pool4(self.relu4(self.conv4(x)))\\n\\n        x = x.view(x.size(0), -1)  # Flatten the tensor before fully connected layer\\n\\n        x = self.relu5(self.fc1(x))\\n        x = self.relu6(self.fc2(x))\\n        x = self.fc3(x)\\n\\n        return x\\n'"
      ]
     },
     "execution_count": 44,
     "metadata": {},
     "output_type": "execute_result"
    }
   ],
   "source": [
    "class ChordClassifier(nn.Module):\n",
    "    def __init__(self):\n",
    "        super(ChordClassifier, self).__init__()\n",
    "        # Define a CNN with input shape is (batch_size, 1, 128, 199) and output shape is (batch_size, 1)\n",
    "        # it should reduce the dimensionality very quickly because the dataset is small (<1000)\n",
    "        self.conv1 = nn.Conv2d(1, 16, kernel_size=5, stride=1, padding=0) \n",
    "        self.bn1 = nn.BatchNorm2d(16)\n",
    "        self.relu1 = nn.ReLU()\n",
    "        self.pool1 = nn.MaxPool2d(kernel_size=2, stride=2) \n",
    "        self.conv2 = nn.Conv2d(16, 64, kernel_size=5, stride=1, padding=0) \n",
    "        self.bn2 = nn.BatchNorm2d(64)\n",
    "        self.relu2 = nn.ReLU()\n",
    "        self.pool2 = nn.MaxPool2d(kernel_size=4, stride=4) \n",
    "        self.conv3 = nn.Conv2d(64, 64, kernel_size=3, stride=1, padding=0)\n",
    "        self.relu3 = nn.ReLU()\n",
    "        # global average pooling\n",
    "        self.pool3 = nn.AdaptiveAvgPool2d((2, 2)) # shape (batch_size, 128, 1, 1)\n",
    "        self.bn3 = nn.BatchNorm1d(64 * 2 * 2)\n",
    "        self.dropout1 = nn.Dropout(0.5)\n",
    "        self.fc1 = nn.Linear(64 * 2 * 2, 32)\n",
    "        self.relu4 = nn.ReLU()\n",
    "        self.bn4 = nn.BatchNorm1d(32)\n",
    "        self.dropout2 = nn.Dropout(0.2)\n",
    "        self.fc2 = nn.Linear(32, 1)\n",
    "         # no activation function because we use BCEWithLogitsLoss\n",
    "\n",
    "    def forward(self, x):\n",
    "        x = self.pool1(self.relu1(self.bn1(self.conv1(x))))\n",
    "        x = self.pool2(self.relu2(self.bn2(self.conv2(x))))\n",
    "        x = self.pool3(self.relu3(self.conv3(x)))\n",
    "        x = x.view(x.size(0), -1) # flatten the tensor before fully connected layer\n",
    "        x = self.bn3(x)\n",
    "        x = self.dropout1(x)\n",
    "        x = self.fc1(x)\n",
    "        x = self.relu4(x)\n",
    "        x = self.bn4(x)\n",
    "        x = self.dropout2(x)\n",
    "        x = self.fc2(x)\n",
    "        # Use BCEWithLogitsLoss instead of BCELoss because it combines a Sigmoid layer and the BCELoss in one single class\n",
    "        # the output shape should be (batch_size,)\n",
    "        return x.view(-1)\n",
    "\n",
    "\n",
    "'''\n",
    "\n",
    "\n",
    "import torch.nn as nn\n",
    "\n",
    "class ChordClassifier(nn.Module):\n",
    "    def __init__(self):\n",
    "        super(ChordClassifier, self).__init__()\n",
    "\n",
    "        self.conv1 = nn.Conv2d(1, 32, kernel_size=3, stride=1, padding=1)\n",
    "        self.relu1 = nn.ReLU()\n",
    "        self.pool1 = nn.MaxPool2d(kernel_size=2, stride=2)\n",
    "\n",
    "        self.conv2 = nn.Conv2d(32, 64, kernel_size=3, stride=1, padding=1)\n",
    "        self.relu2 = nn.ReLU()\n",
    "        self.pool2 = nn.MaxPool2d(kernel_size=2, stride=2)\n",
    "\n",
    "        \n",
    "        # Add more hidden layers\n",
    "        self.conv3 = nn.Conv2d(64, 128, kernel_size=3, stride=1, padding=1)\n",
    "        self.relu3 = nn.ReLU()\n",
    "        self.pool3 = nn.MaxPool2d(kernel_size=2, stride=2)\n",
    "\n",
    "        self.conv4 = nn.Conv2d(128, 256, kernel_size=3, stride=1, padding=1)\n",
    "        self.relu4 = nn.ReLU()\n",
    "        self.pool4 = nn.MaxPool2d(kernel_size=2, stride=2)\n",
    "        \n",
    "\n",
    "        # Adjust the size of the fully connected layer\n",
    "        self.fc1 = nn.Linear(24576, 512)  # Adapt this size based on your actual tensor size\n",
    "        self.relu5 = nn.ReLU()\n",
    "        self.fc2 = nn.Linear(512, 128)\n",
    "        self.relu6 = nn.ReLU()\n",
    "        self.fc3 = nn.Linear(128, 2)  # 2 classes: Major and Minor\n",
    "\n",
    "    def forward(self, x):\n",
    "        x = self.pool1(self.relu1(self.conv1(x)))\n",
    "        x = self.pool2(self.relu2(self.conv2(x)))\n",
    "        x = self.pool3(self.relu3(self.conv3(x)))\n",
    "        x = self.pool4(self.relu4(self.conv4(x)))\n",
    "\n",
    "        x = x.view(x.size(0), -1)  # Flatten the tensor before fully connected layer\n",
    "\n",
    "        x = self.relu5(self.fc1(x))\n",
    "        x = self.relu6(self.fc2(x))\n",
    "        x = self.fc3(x)\n",
    "\n",
    "        return x\n",
    "'''"
   ]
  },
  {
   "cell_type": "code",
   "execution_count": 45,
   "metadata": {},
   "outputs": [
    {
     "name": "stdout",
     "output_type": "stream",
     "text": [
      "----------------------------------------------------------------\n",
      "        Layer (type)               Output Shape         Param #\n",
      "================================================================\n",
      "            Conv2d-1         [-1, 16, 124, 195]             416\n",
      "       BatchNorm2d-2         [-1, 16, 124, 195]              32\n",
      "              ReLU-3         [-1, 16, 124, 195]               0\n",
      "         MaxPool2d-4           [-1, 16, 62, 97]               0\n",
      "            Conv2d-5           [-1, 64, 58, 93]          25,664\n",
      "       BatchNorm2d-6           [-1, 64, 58, 93]             128\n",
      "              ReLU-7           [-1, 64, 58, 93]               0\n",
      "         MaxPool2d-8           [-1, 64, 14, 23]               0\n",
      "            Conv2d-9           [-1, 64, 12, 21]          36,928\n",
      "             ReLU-10           [-1, 64, 12, 21]               0\n",
      "AdaptiveAvgPool2d-11             [-1, 64, 2, 2]               0\n",
      "      BatchNorm1d-12                  [-1, 256]             512\n",
      "          Dropout-13                  [-1, 256]               0\n",
      "           Linear-14                   [-1, 32]           8,224\n",
      "             ReLU-15                   [-1, 32]               0\n",
      "      BatchNorm1d-16                   [-1, 32]              64\n",
      "          Dropout-17                   [-1, 32]               0\n",
      "           Linear-18                    [-1, 1]              33\n",
      "================================================================\n",
      "Total params: 72,001\n",
      "Trainable params: 72,001\n",
      "Non-trainable params: 0\n",
      "----------------------------------------------------------------\n",
      "Input size (MB): 0.10\n",
      "Forward/backward pass size (MB): 17.90\n",
      "Params size (MB): 0.27\n",
      "Estimated Total Size (MB): 18.27\n",
      "----------------------------------------------------------------\n"
     ]
    }
   ],
   "source": [
    "\n",
    "\n",
    "# Check if GPU is available and set the device accordingly\n",
    "device = torch.device(\"cuda\" if torch.cuda.is_available() else \"cpu\")\n",
    "\n",
    "# Instantiate model and move it to the selected device\n",
    "model = ChordClassifier().to(device)\n",
    "\n",
    "# Instantiate loss function and move it to the selected device\n",
    "criterion = nn.BCEWithLogitsLoss().to(device)\n",
    "\n",
    "# Instantiate optimizer and move it to the selected device\n",
    "optimizer = optim.Adam(model.parameters(), lr=0.0001, weight_decay=0.1)\n",
    "\n",
    "# output summary of model\n",
    "summary(model, input_size=input_shape)\n",
    "\n"
   ]
  },
  {
   "cell_type": "code",
   "execution_count": 46,
   "metadata": {},
   "outputs": [
    {
     "name": "stderr",
     "output_type": "stream",
     "text": [
      "100%|██████████| 22/22 [00:08<00:00,  2.69it/s]\n"
     ]
    },
    {
     "name": "stdout",
     "output_type": "stream",
     "text": [
      "Training - Epoch 1/70, Loss: 0.7523, Accuracy: 0.5386\n",
      "Validation - Epoch 1/70, Loss: 0.6955, Accuracy: 0.5882\n"
     ]
    },
    {
     "name": "stderr",
     "output_type": "stream",
     "text": [
      "100%|██████████| 22/22 [00:07<00:00,  2.79it/s]\n"
     ]
    },
    {
     "name": "stdout",
     "output_type": "stream",
     "text": [
      "Training - Epoch 2/70, Loss: 0.7147, Accuracy: 0.5881\n",
      "Validation - Epoch 2/70, Loss: 0.7718, Accuracy: 0.4824\n"
     ]
    },
    {
     "name": "stderr",
     "output_type": "stream",
     "text": [
      "100%|██████████| 22/22 [00:08<00:00,  2.73it/s]\n"
     ]
    },
    {
     "name": "stdout",
     "output_type": "stream",
     "text": [
      "Training - Epoch 3/70, Loss: 0.6936, Accuracy: 0.5939\n",
      "Validation - Epoch 3/70, Loss: 0.7321, Accuracy: 0.5882\n"
     ]
    },
    {
     "name": "stderr",
     "output_type": "stream",
     "text": [
      "100%|██████████| 22/22 [00:08<00:00,  2.59it/s]\n"
     ]
    },
    {
     "name": "stdout",
     "output_type": "stream",
     "text": [
      "Training - Epoch 4/70, Loss: 0.6710, Accuracy: 0.6230\n",
      "Validation - Epoch 4/70, Loss: 0.6815, Accuracy: 0.6118\n"
     ]
    },
    {
     "name": "stderr",
     "output_type": "stream",
     "text": [
      "100%|██████████| 22/22 [00:08<00:00,  2.66it/s]\n"
     ]
    },
    {
     "name": "stdout",
     "output_type": "stream",
     "text": [
      "Training - Epoch 5/70, Loss: 0.6648, Accuracy: 0.6128\n",
      "Validation - Epoch 5/70, Loss: 0.6633, Accuracy: 0.5882\n"
     ]
    },
    {
     "name": "stderr",
     "output_type": "stream",
     "text": [
      "100%|██████████| 22/22 [00:08<00:00,  2.65it/s]\n"
     ]
    },
    {
     "name": "stdout",
     "output_type": "stream",
     "text": [
      "Training - Epoch 6/70, Loss: 0.6690, Accuracy: 0.6332\n",
      "Validation - Epoch 6/70, Loss: 0.6631, Accuracy: 0.6000\n"
     ]
    },
    {
     "name": "stderr",
     "output_type": "stream",
     "text": [
      "100%|██████████| 22/22 [00:08<00:00,  2.70it/s]\n"
     ]
    },
    {
     "name": "stdout",
     "output_type": "stream",
     "text": [
      "Training - Epoch 7/70, Loss: 0.6563, Accuracy: 0.6317\n",
      "Validation - Epoch 7/70, Loss: 0.6915, Accuracy: 0.6118\n"
     ]
    },
    {
     "name": "stderr",
     "output_type": "stream",
     "text": [
      "100%|██████████| 22/22 [00:08<00:00,  2.59it/s]\n"
     ]
    },
    {
     "name": "stdout",
     "output_type": "stream",
     "text": [
      "Training - Epoch 8/70, Loss: 0.6549, Accuracy: 0.6332\n",
      "Validation - Epoch 8/70, Loss: 0.6945, Accuracy: 0.6000\n"
     ]
    },
    {
     "name": "stderr",
     "output_type": "stream",
     "text": [
      "100%|██████████| 22/22 [00:08<00:00,  2.60it/s]\n"
     ]
    },
    {
     "name": "stdout",
     "output_type": "stream",
     "text": [
      "Training - Epoch 9/70, Loss: 0.6464, Accuracy: 0.6550\n",
      "Validation - Epoch 9/70, Loss: 0.6554, Accuracy: 0.6118\n"
     ]
    },
    {
     "name": "stderr",
     "output_type": "stream",
     "text": [
      "100%|██████████| 22/22 [00:08<00:00,  2.59it/s]\n"
     ]
    },
    {
     "name": "stdout",
     "output_type": "stream",
     "text": [
      "Training - Epoch 10/70, Loss: 0.6475, Accuracy: 0.6550\n",
      "Validation - Epoch 10/70, Loss: 0.6487, Accuracy: 0.6235\n"
     ]
    },
    {
     "name": "stderr",
     "output_type": "stream",
     "text": [
      "100%|██████████| 22/22 [00:08<00:00,  2.64it/s]\n"
     ]
    },
    {
     "name": "stdout",
     "output_type": "stream",
     "text": [
      "Training - Epoch 11/70, Loss: 0.6216, Accuracy: 0.6769\n",
      "Validation - Epoch 11/70, Loss: 0.6404, Accuracy: 0.6118\n"
     ]
    },
    {
     "name": "stderr",
     "output_type": "stream",
     "text": [
      "100%|██████████| 22/22 [00:08<00:00,  2.56it/s]\n"
     ]
    },
    {
     "name": "stdout",
     "output_type": "stream",
     "text": [
      "Training - Epoch 12/70, Loss: 0.5967, Accuracy: 0.7060\n",
      "Validation - Epoch 12/70, Loss: 0.6558, Accuracy: 0.5765\n"
     ]
    },
    {
     "name": "stderr",
     "output_type": "stream",
     "text": [
      "100%|██████████| 22/22 [00:08<00:00,  2.68it/s]\n"
     ]
    },
    {
     "name": "stdout",
     "output_type": "stream",
     "text": [
      "Training - Epoch 13/70, Loss: 0.6153, Accuracy: 0.6754\n",
      "Validation - Epoch 13/70, Loss: 0.6909, Accuracy: 0.6353\n"
     ]
    },
    {
     "name": "stderr",
     "output_type": "stream",
     "text": [
      "100%|██████████| 22/22 [00:08<00:00,  2.61it/s]\n"
     ]
    },
    {
     "name": "stdout",
     "output_type": "stream",
     "text": [
      "Training - Epoch 14/70, Loss: 0.5970, Accuracy: 0.6972\n",
      "Validation - Epoch 14/70, Loss: 0.6317, Accuracy: 0.6588\n"
     ]
    },
    {
     "name": "stderr",
     "output_type": "stream",
     "text": [
      "100%|██████████| 22/22 [00:08<00:00,  2.58it/s]\n"
     ]
    },
    {
     "name": "stdout",
     "output_type": "stream",
     "text": [
      "Training - Epoch 15/70, Loss: 0.5980, Accuracy: 0.6841\n",
      "Validation - Epoch 15/70, Loss: 0.6258, Accuracy: 0.6353\n"
     ]
    },
    {
     "name": "stderr",
     "output_type": "stream",
     "text": [
      "100%|██████████| 22/22 [00:08<00:00,  2.66it/s]\n"
     ]
    },
    {
     "name": "stdout",
     "output_type": "stream",
     "text": [
      "Training - Epoch 16/70, Loss: 0.5918, Accuracy: 0.7045\n",
      "Validation - Epoch 16/70, Loss: 0.6193, Accuracy: 0.5882\n"
     ]
    },
    {
     "name": "stderr",
     "output_type": "stream",
     "text": [
      "100%|██████████| 22/22 [00:08<00:00,  2.58it/s]\n"
     ]
    },
    {
     "name": "stdout",
     "output_type": "stream",
     "text": [
      "Training - Epoch 17/70, Loss: 0.5788, Accuracy: 0.7176\n",
      "Validation - Epoch 17/70, Loss: 0.6993, Accuracy: 0.6353\n"
     ]
    },
    {
     "name": "stderr",
     "output_type": "stream",
     "text": [
      "100%|██████████| 22/22 [00:08<00:00,  2.68it/s]\n"
     ]
    },
    {
     "name": "stdout",
     "output_type": "stream",
     "text": [
      "Training - Epoch 18/70, Loss: 0.5681, Accuracy: 0.7162\n",
      "Validation - Epoch 18/70, Loss: 0.6121, Accuracy: 0.6471\n"
     ]
    },
    {
     "name": "stderr",
     "output_type": "stream",
     "text": [
      "100%|██████████| 22/22 [00:08<00:00,  2.67it/s]\n"
     ]
    },
    {
     "name": "stdout",
     "output_type": "stream",
     "text": [
      "Training - Epoch 19/70, Loss: 0.5750, Accuracy: 0.7045\n",
      "Validation - Epoch 19/70, Loss: 0.6202, Accuracy: 0.6471\n"
     ]
    },
    {
     "name": "stderr",
     "output_type": "stream",
     "text": [
      "100%|██████████| 22/22 [00:08<00:00,  2.66it/s]\n"
     ]
    },
    {
     "name": "stdout",
     "output_type": "stream",
     "text": [
      "Training - Epoch 20/70, Loss: 0.5543, Accuracy: 0.7234\n",
      "Validation - Epoch 20/70, Loss: 0.5945, Accuracy: 0.6588\n"
     ]
    },
    {
     "name": "stderr",
     "output_type": "stream",
     "text": [
      "100%|██████████| 22/22 [00:08<00:00,  2.64it/s]\n"
     ]
    },
    {
     "name": "stdout",
     "output_type": "stream",
     "text": [
      "Training - Epoch 21/70, Loss: 0.5340, Accuracy: 0.7496\n",
      "Validation - Epoch 21/70, Loss: 0.6057, Accuracy: 0.6353\n"
     ]
    },
    {
     "name": "stderr",
     "output_type": "stream",
     "text": [
      "100%|██████████| 22/22 [00:08<00:00,  2.63it/s]\n"
     ]
    },
    {
     "name": "stdout",
     "output_type": "stream",
     "text": [
      "Training - Epoch 22/70, Loss: 0.5172, Accuracy: 0.7642\n",
      "Validation - Epoch 22/70, Loss: 0.7284, Accuracy: 0.6235\n"
     ]
    },
    {
     "name": "stderr",
     "output_type": "stream",
     "text": [
      "100%|██████████| 22/22 [00:08<00:00,  2.68it/s]\n"
     ]
    },
    {
     "name": "stdout",
     "output_type": "stream",
     "text": [
      "Training - Epoch 23/70, Loss: 0.5040, Accuracy: 0.7700\n",
      "Validation - Epoch 23/70, Loss: 0.6763, Accuracy: 0.5882\n"
     ]
    },
    {
     "name": "stderr",
     "output_type": "stream",
     "text": [
      "100%|██████████| 22/22 [00:08<00:00,  2.64it/s]\n"
     ]
    },
    {
     "name": "stdout",
     "output_type": "stream",
     "text": [
      "Training - Epoch 24/70, Loss: 0.5102, Accuracy: 0.7598\n",
      "Validation - Epoch 24/70, Loss: 0.6080, Accuracy: 0.6706\n"
     ]
    },
    {
     "name": "stderr",
     "output_type": "stream",
     "text": [
      "100%|██████████| 22/22 [00:08<00:00,  2.66it/s]\n"
     ]
    },
    {
     "name": "stdout",
     "output_type": "stream",
     "text": [
      "Training - Epoch 25/70, Loss: 0.5066, Accuracy: 0.7642\n",
      "Validation - Epoch 25/70, Loss: 0.6471, Accuracy: 0.7059\n"
     ]
    },
    {
     "name": "stderr",
     "output_type": "stream",
     "text": [
      "100%|██████████| 22/22 [00:08<00:00,  2.64it/s]\n"
     ]
    },
    {
     "name": "stdout",
     "output_type": "stream",
     "text": [
      "Training - Epoch 26/70, Loss: 0.4913, Accuracy: 0.7758\n",
      "Validation - Epoch 26/70, Loss: 0.5888, Accuracy: 0.6706\n"
     ]
    },
    {
     "name": "stderr",
     "output_type": "stream",
     "text": [
      "100%|██████████| 22/22 [00:08<00:00,  2.62it/s]\n"
     ]
    },
    {
     "name": "stdout",
     "output_type": "stream",
     "text": [
      "Training - Epoch 27/70, Loss: 0.4656, Accuracy: 0.8035\n",
      "Validation - Epoch 27/70, Loss: 0.5918, Accuracy: 0.6588\n"
     ]
    },
    {
     "name": "stderr",
     "output_type": "stream",
     "text": [
      "100%|██████████| 22/22 [00:08<00:00,  2.62it/s]\n"
     ]
    },
    {
     "name": "stdout",
     "output_type": "stream",
     "text": [
      "Training - Epoch 28/70, Loss: 0.4727, Accuracy: 0.7904\n",
      "Validation - Epoch 28/70, Loss: 0.7328, Accuracy: 0.5882\n"
     ]
    },
    {
     "name": "stderr",
     "output_type": "stream",
     "text": [
      "100%|██████████| 22/22 [00:08<00:00,  2.61it/s]\n"
     ]
    },
    {
     "name": "stdout",
     "output_type": "stream",
     "text": [
      "Training - Epoch 29/70, Loss: 0.4834, Accuracy: 0.7802\n",
      "Validation - Epoch 29/70, Loss: 0.6000, Accuracy: 0.6353\n"
     ]
    },
    {
     "name": "stderr",
     "output_type": "stream",
     "text": [
      "100%|██████████| 22/22 [00:08<00:00,  2.64it/s]\n"
     ]
    },
    {
     "name": "stdout",
     "output_type": "stream",
     "text": [
      "Training - Epoch 30/70, Loss: 0.4600, Accuracy: 0.8006\n",
      "Validation - Epoch 30/70, Loss: 0.7089, Accuracy: 0.6588\n"
     ]
    },
    {
     "name": "stderr",
     "output_type": "stream",
     "text": [
      "100%|██████████| 22/22 [00:08<00:00,  2.61it/s]\n"
     ]
    },
    {
     "name": "stdout",
     "output_type": "stream",
     "text": [
      "Training - Epoch 31/70, Loss: 0.4521, Accuracy: 0.7962\n",
      "Validation - Epoch 31/70, Loss: 0.5667, Accuracy: 0.6941\n"
     ]
    },
    {
     "name": "stderr",
     "output_type": "stream",
     "text": [
      "100%|██████████| 22/22 [00:08<00:00,  2.62it/s]\n"
     ]
    },
    {
     "name": "stdout",
     "output_type": "stream",
     "text": [
      "Training - Epoch 32/70, Loss: 0.4477, Accuracy: 0.7962\n",
      "Validation - Epoch 32/70, Loss: 0.5558, Accuracy: 0.6824\n"
     ]
    },
    {
     "name": "stderr",
     "output_type": "stream",
     "text": [
      "100%|██████████| 22/22 [00:08<00:00,  2.67it/s]\n"
     ]
    },
    {
     "name": "stdout",
     "output_type": "stream",
     "text": [
      "Training - Epoch 33/70, Loss: 0.4344, Accuracy: 0.8180\n",
      "Validation - Epoch 33/70, Loss: 0.5683, Accuracy: 0.6824\n"
     ]
    },
    {
     "name": "stderr",
     "output_type": "stream",
     "text": [
      "100%|██████████| 22/22 [00:08<00:00,  2.62it/s]\n"
     ]
    },
    {
     "name": "stdout",
     "output_type": "stream",
     "text": [
      "Training - Epoch 34/70, Loss: 0.4132, Accuracy: 0.8355\n",
      "Validation - Epoch 34/70, Loss: 0.5422, Accuracy: 0.6941\n"
     ]
    },
    {
     "name": "stderr",
     "output_type": "stream",
     "text": [
      "100%|██████████| 22/22 [00:08<00:00,  2.70it/s]\n"
     ]
    },
    {
     "name": "stdout",
     "output_type": "stream",
     "text": [
      "Training - Epoch 35/70, Loss: 0.4090, Accuracy: 0.8326\n",
      "Validation - Epoch 35/70, Loss: 1.3038, Accuracy: 0.5294\n"
     ]
    },
    {
     "name": "stderr",
     "output_type": "stream",
     "text": [
      "100%|██████████| 22/22 [00:08<00:00,  2.65it/s]\n"
     ]
    },
    {
     "name": "stdout",
     "output_type": "stream",
     "text": [
      "Training - Epoch 36/70, Loss: 0.4192, Accuracy: 0.8093\n",
      "Validation - Epoch 36/70, Loss: 0.6446, Accuracy: 0.6235\n"
     ]
    },
    {
     "name": "stderr",
     "output_type": "stream",
     "text": [
      "100%|██████████| 22/22 [00:08<00:00,  2.72it/s]\n"
     ]
    },
    {
     "name": "stdout",
     "output_type": "stream",
     "text": [
      "Training - Epoch 37/70, Loss: 0.4222, Accuracy: 0.8253\n",
      "Validation - Epoch 37/70, Loss: 0.5687, Accuracy: 0.6118\n"
     ]
    },
    {
     "name": "stderr",
     "output_type": "stream",
     "text": [
      "100%|██████████| 22/22 [00:08<00:00,  2.57it/s]\n"
     ]
    },
    {
     "name": "stdout",
     "output_type": "stream",
     "text": [
      "Training - Epoch 38/70, Loss: 0.3945, Accuracy: 0.8370\n",
      "Validation - Epoch 38/70, Loss: 0.5990, Accuracy: 0.6235\n"
     ]
    },
    {
     "name": "stderr",
     "output_type": "stream",
     "text": [
      "100%|██████████| 22/22 [00:08<00:00,  2.61it/s]\n"
     ]
    },
    {
     "name": "stdout",
     "output_type": "stream",
     "text": [
      "Training - Epoch 39/70, Loss: 0.3629, Accuracy: 0.8574\n",
      "Validation - Epoch 39/70, Loss: 0.5030, Accuracy: 0.7412\n"
     ]
    },
    {
     "name": "stderr",
     "output_type": "stream",
     "text": [
      "100%|██████████| 22/22 [00:08<00:00,  2.59it/s]\n"
     ]
    },
    {
     "name": "stdout",
     "output_type": "stream",
     "text": [
      "Training - Epoch 40/70, Loss: 0.3590, Accuracy: 0.8603\n",
      "Validation - Epoch 40/70, Loss: 0.8707, Accuracy: 0.6353\n"
     ]
    },
    {
     "name": "stderr",
     "output_type": "stream",
     "text": [
      "100%|██████████| 22/22 [00:08<00:00,  2.70it/s]\n"
     ]
    },
    {
     "name": "stdout",
     "output_type": "stream",
     "text": [
      "Training - Epoch 41/70, Loss: 0.3722, Accuracy: 0.8486\n",
      "Validation - Epoch 41/70, Loss: 0.5338, Accuracy: 0.6471\n"
     ]
    },
    {
     "name": "stderr",
     "output_type": "stream",
     "text": [
      "100%|██████████| 22/22 [00:08<00:00,  2.62it/s]\n"
     ]
    },
    {
     "name": "stdout",
     "output_type": "stream",
     "text": [
      "Training - Epoch 42/70, Loss: 0.3513, Accuracy: 0.8530\n",
      "Validation - Epoch 42/70, Loss: 0.4996, Accuracy: 0.7529\n"
     ]
    },
    {
     "name": "stderr",
     "output_type": "stream",
     "text": [
      "100%|██████████| 22/22 [00:08<00:00,  2.64it/s]\n"
     ]
    },
    {
     "name": "stdout",
     "output_type": "stream",
     "text": [
      "Training - Epoch 43/70, Loss: 0.3355, Accuracy: 0.8675\n",
      "Validation - Epoch 43/70, Loss: 0.5886, Accuracy: 0.7529\n"
     ]
    },
    {
     "name": "stderr",
     "output_type": "stream",
     "text": [
      "100%|██████████| 22/22 [00:08<00:00,  2.52it/s]\n"
     ]
    },
    {
     "name": "stdout",
     "output_type": "stream",
     "text": [
      "Training - Epoch 44/70, Loss: 0.3343, Accuracy: 0.8734\n",
      "Validation - Epoch 44/70, Loss: 0.5786, Accuracy: 0.7176\n"
     ]
    },
    {
     "name": "stderr",
     "output_type": "stream",
     "text": [
      "100%|██████████| 22/22 [00:08<00:00,  2.61it/s]\n"
     ]
    },
    {
     "name": "stdout",
     "output_type": "stream",
     "text": [
      "Training - Epoch 45/70, Loss: 0.3430, Accuracy: 0.8486\n",
      "Validation - Epoch 45/70, Loss: 0.5071, Accuracy: 0.7176\n"
     ]
    },
    {
     "name": "stderr",
     "output_type": "stream",
     "text": [
      "100%|██████████| 22/22 [00:08<00:00,  2.64it/s]\n"
     ]
    },
    {
     "name": "stdout",
     "output_type": "stream",
     "text": [
      "Training - Epoch 46/70, Loss: 0.3218, Accuracy: 0.8748\n",
      "Validation - Epoch 46/70, Loss: 0.6016, Accuracy: 0.6235\n"
     ]
    },
    {
     "name": "stderr",
     "output_type": "stream",
     "text": [
      "100%|██████████| 22/22 [00:08<00:00,  2.63it/s]\n"
     ]
    },
    {
     "name": "stdout",
     "output_type": "stream",
     "text": [
      "Training - Epoch 47/70, Loss: 0.3428, Accuracy: 0.8530\n",
      "Validation - Epoch 47/70, Loss: 0.5446, Accuracy: 0.7647\n"
     ]
    },
    {
     "name": "stderr",
     "output_type": "stream",
     "text": [
      "100%|██████████| 22/22 [00:08<00:00,  2.69it/s]\n"
     ]
    },
    {
     "name": "stdout",
     "output_type": "stream",
     "text": [
      "Training - Epoch 48/70, Loss: 0.3156, Accuracy: 0.8879\n",
      "Validation - Epoch 48/70, Loss: 0.4846, Accuracy: 0.7765\n"
     ]
    },
    {
     "name": "stderr",
     "output_type": "stream",
     "text": [
      "100%|██████████| 22/22 [00:08<00:00,  2.66it/s]\n"
     ]
    },
    {
     "name": "stdout",
     "output_type": "stream",
     "text": [
      "Training - Epoch 49/70, Loss: 0.3046, Accuracy: 0.8719\n",
      "Validation - Epoch 49/70, Loss: 0.7888, Accuracy: 0.6000\n"
     ]
    },
    {
     "name": "stderr",
     "output_type": "stream",
     "text": [
      "100%|██████████| 22/22 [00:08<00:00,  2.64it/s]\n"
     ]
    },
    {
     "name": "stdout",
     "output_type": "stream",
     "text": [
      "Training - Epoch 50/70, Loss: 0.3003, Accuracy: 0.8836\n",
      "Validation - Epoch 50/70, Loss: 0.4909, Accuracy: 0.7294\n"
     ]
    },
    {
     "name": "stderr",
     "output_type": "stream",
     "text": [
      "100%|██████████| 22/22 [00:08<00:00,  2.61it/s]\n"
     ]
    },
    {
     "name": "stdout",
     "output_type": "stream",
     "text": [
      "Training - Epoch 51/70, Loss: 0.2743, Accuracy: 0.9068\n",
      "Validation - Epoch 51/70, Loss: 0.6055, Accuracy: 0.7765\n"
     ]
    },
    {
     "name": "stderr",
     "output_type": "stream",
     "text": [
      "100%|██████████| 22/22 [00:08<00:00,  2.63it/s]\n"
     ]
    },
    {
     "name": "stdout",
     "output_type": "stream",
     "text": [
      "Training - Epoch 52/70, Loss: 0.2778, Accuracy: 0.9010\n",
      "Validation - Epoch 52/70, Loss: 0.4876, Accuracy: 0.7529\n"
     ]
    },
    {
     "name": "stderr",
     "output_type": "stream",
     "text": [
      "100%|██████████| 22/22 [00:08<00:00,  2.63it/s]\n"
     ]
    },
    {
     "name": "stdout",
     "output_type": "stream",
     "text": [
      "Training - Epoch 53/70, Loss: 0.2739, Accuracy: 0.9112\n",
      "Validation - Epoch 53/70, Loss: 0.5944, Accuracy: 0.7294\n"
     ]
    },
    {
     "name": "stderr",
     "output_type": "stream",
     "text": [
      "100%|██████████| 22/22 [00:08<00:00,  2.64it/s]\n"
     ]
    },
    {
     "name": "stdout",
     "output_type": "stream",
     "text": [
      "Training - Epoch 54/70, Loss: 0.3011, Accuracy: 0.8821\n",
      "Validation - Epoch 54/70, Loss: 0.9331, Accuracy: 0.5882\n"
     ]
    },
    {
     "name": "stderr",
     "output_type": "stream",
     "text": [
      "100%|██████████| 22/22 [00:08<00:00,  2.64it/s]\n"
     ]
    },
    {
     "name": "stdout",
     "output_type": "stream",
     "text": [
      "Training - Epoch 55/70, Loss: 0.2821, Accuracy: 0.8937\n",
      "Validation - Epoch 55/70, Loss: 0.5653, Accuracy: 0.6824\n"
     ]
    },
    {
     "name": "stderr",
     "output_type": "stream",
     "text": [
      "100%|██████████| 22/22 [00:08<00:00,  2.68it/s]\n"
     ]
    },
    {
     "name": "stdout",
     "output_type": "stream",
     "text": [
      "Training - Epoch 56/70, Loss: 0.2633, Accuracy: 0.9170\n",
      "Validation - Epoch 56/70, Loss: 0.5580, Accuracy: 0.7294\n"
     ]
    },
    {
     "name": "stderr",
     "output_type": "stream",
     "text": [
      "100%|██████████| 22/22 [00:08<00:00,  2.64it/s]\n"
     ]
    },
    {
     "name": "stdout",
     "output_type": "stream",
     "text": [
      "Training - Epoch 57/70, Loss: 0.2738, Accuracy: 0.8981\n",
      "Validation - Epoch 57/70, Loss: 0.5920, Accuracy: 0.7412\n"
     ]
    },
    {
     "name": "stderr",
     "output_type": "stream",
     "text": [
      "100%|██████████| 22/22 [00:08<00:00,  2.58it/s]\n"
     ]
    },
    {
     "name": "stdout",
     "output_type": "stream",
     "text": [
      "Training - Epoch 58/70, Loss: 0.2736, Accuracy: 0.8908\n",
      "Validation - Epoch 58/70, Loss: 0.5012, Accuracy: 0.7412\n"
     ]
    },
    {
     "name": "stderr",
     "output_type": "stream",
     "text": [
      "100%|██████████| 22/22 [00:08<00:00,  2.64it/s]\n"
     ]
    },
    {
     "name": "stdout",
     "output_type": "stream",
     "text": [
      "Training - Epoch 59/70, Loss: 0.2689, Accuracy: 0.8894\n",
      "Validation - Epoch 59/70, Loss: 0.5482, Accuracy: 0.7647\n"
     ]
    },
    {
     "name": "stderr",
     "output_type": "stream",
     "text": [
      "100%|██████████| 22/22 [00:08<00:00,  2.58it/s]\n"
     ]
    },
    {
     "name": "stdout",
     "output_type": "stream",
     "text": [
      "Training - Epoch 60/70, Loss: 0.2932, Accuracy: 0.8792\n",
      "Validation - Epoch 60/70, Loss: 0.5744, Accuracy: 0.6588\n"
     ]
    },
    {
     "name": "stderr",
     "output_type": "stream",
     "text": [
      "100%|██████████| 22/22 [00:08<00:00,  2.69it/s]\n"
     ]
    },
    {
     "name": "stdout",
     "output_type": "stream",
     "text": [
      "Training - Epoch 61/70, Loss: 0.2557, Accuracy: 0.9039\n",
      "Validation - Epoch 61/70, Loss: 0.4570, Accuracy: 0.7412\n"
     ]
    },
    {
     "name": "stderr",
     "output_type": "stream",
     "text": [
      "100%|██████████| 22/22 [00:08<00:00,  2.61it/s]\n"
     ]
    },
    {
     "name": "stdout",
     "output_type": "stream",
     "text": [
      "Training - Epoch 62/70, Loss: 0.2499, Accuracy: 0.9083\n",
      "Validation - Epoch 62/70, Loss: 0.4575, Accuracy: 0.7647\n"
     ]
    },
    {
     "name": "stderr",
     "output_type": "stream",
     "text": [
      "100%|██████████| 22/22 [00:08<00:00,  2.58it/s]\n"
     ]
    },
    {
     "name": "stdout",
     "output_type": "stream",
     "text": [
      "Training - Epoch 63/70, Loss: 0.2367, Accuracy: 0.9127\n",
      "Validation - Epoch 63/70, Loss: 0.5037, Accuracy: 0.7882\n"
     ]
    },
    {
     "name": "stderr",
     "output_type": "stream",
     "text": [
      "100%|██████████| 22/22 [00:08<00:00,  2.52it/s]\n"
     ]
    },
    {
     "name": "stdout",
     "output_type": "stream",
     "text": [
      "Training - Epoch 64/70, Loss: 0.2360, Accuracy: 0.9098\n",
      "Validation - Epoch 64/70, Loss: 0.5162, Accuracy: 0.7294\n"
     ]
    },
    {
     "name": "stderr",
     "output_type": "stream",
     "text": [
      "100%|██████████| 22/22 [00:08<00:00,  2.69it/s]\n"
     ]
    },
    {
     "name": "stdout",
     "output_type": "stream",
     "text": [
      "Training - Epoch 65/70, Loss: 0.2611, Accuracy: 0.9025\n",
      "Validation - Epoch 65/70, Loss: 0.4636, Accuracy: 0.7529\n"
     ]
    },
    {
     "name": "stderr",
     "output_type": "stream",
     "text": [
      "100%|██████████| 22/22 [00:08<00:00,  2.61it/s]\n"
     ]
    },
    {
     "name": "stdout",
     "output_type": "stream",
     "text": [
      "Training - Epoch 66/70, Loss: 0.2458, Accuracy: 0.9098\n",
      "Validation - Epoch 66/70, Loss: 0.5204, Accuracy: 0.7059\n"
     ]
    },
    {
     "name": "stderr",
     "output_type": "stream",
     "text": [
      "100%|██████████| 22/22 [00:08<00:00,  2.57it/s]\n"
     ]
    },
    {
     "name": "stdout",
     "output_type": "stream",
     "text": [
      "Training - Epoch 67/70, Loss: 0.2548, Accuracy: 0.9039\n",
      "Validation - Epoch 67/70, Loss: 0.9011, Accuracy: 0.6941\n"
     ]
    },
    {
     "name": "stderr",
     "output_type": "stream",
     "text": [
      "100%|██████████| 22/22 [00:08<00:00,  2.69it/s]\n"
     ]
    },
    {
     "name": "stdout",
     "output_type": "stream",
     "text": [
      "Training - Epoch 68/70, Loss: 0.2307, Accuracy: 0.9199\n",
      "Validation - Epoch 68/70, Loss: 0.9220, Accuracy: 0.7059\n"
     ]
    },
    {
     "name": "stderr",
     "output_type": "stream",
     "text": [
      "100%|██████████| 22/22 [00:08<00:00,  2.64it/s]\n"
     ]
    },
    {
     "name": "stdout",
     "output_type": "stream",
     "text": [
      "Training - Epoch 69/70, Loss: 0.2730, Accuracy: 0.8952\n",
      "Validation - Epoch 69/70, Loss: 0.5020, Accuracy: 0.7176\n"
     ]
    },
    {
     "name": "stderr",
     "output_type": "stream",
     "text": [
      "100%|██████████| 22/22 [00:08<00:00,  2.52it/s]\n"
     ]
    },
    {
     "name": "stdout",
     "output_type": "stream",
     "text": [
      "Training - Epoch 70/70, Loss: 0.2670, Accuracy: 0.8952\n",
      "Validation - Epoch 70/70, Loss: 0.6160, Accuracy: 0.6941\n",
      "Testing - Accuracy: 0.6667\n"
     ]
    },
    {
     "data": {
      "image/png": "[encoded data removed]",
      "text/plain": [
       "<Figure size 1200x400 with 2 Axes>"
      ]
     },
     "metadata": {},
     "output_type": "display_data"
    }
   ],
   "source": [
    "# Lists to store values for plotting\n",
    "from cgi import test\n",
    "\n",
    "\n",
    "train_losses = []\n",
    "train_accuracies = []\n",
    "val_losses = []\n",
    "val_accuracies = []\n",
    "\n",
    "# Training loop\n",
    "num_epochs = 70\n",
    "for epoch in range(num_epochs):\n",
    "    model.train()\n",
    "    total_loss = 0.0\n",
    "    total_correct = 0\n",
    "    total_samples = 0\n",
    "\n",
    "    for inputs, labels in tqdm(train_loader):\n",
    "        # convert labels to float because criterion requires float type labels\n",
    "        labels = labels.type(torch.FloatTensor)\n",
    "        inputs, labels = inputs.to(device), labels.to(device)\n",
    "        optimizer.zero_grad()\n",
    "        outputs = model(inputs)\n",
    "        loss = criterion(outputs, labels)\n",
    "        loss.backward()\n",
    "        optimizer.step()\n",
    "\n",
    "        total_loss += loss.item()\n",
    "        predicted = outputs > 0.5\n",
    "        total_correct += (predicted == labels).sum().item()\n",
    "        total_samples += labels.size(0)\n",
    "\n",
    "    average_loss = total_loss / len(train_loader)\n",
    "    accuracy = total_correct / total_samples\n",
    "\n",
    "    train_losses.append(average_loss)\n",
    "    train_accuracies.append(accuracy)\n",
    "\n",
    "    print(f'Training - Epoch {epoch+1}/{num_epochs}, Loss: {average_loss:.4f}, Accuracy: {accuracy:.4f}')\n",
    "\n",
    "    # Validation\n",
    "    model.eval()\n",
    "    val_loss = 0.0\n",
    "    val_correct = 0\n",
    "    val_samples = 0\n",
    "\n",
    "    with torch.no_grad():\n",
    "        for val_inputs, val_labels in val_loader:\n",
    "            val_labels = val_labels.type(torch.FloatTensor)\n",
    "            val_inputs, val_labels = val_inputs.to(device), val_labels.to(device)\n",
    "            val_outputs = model(val_inputs)\n",
    "            val_loss += criterion(val_outputs, val_labels).item()\n",
    "            val_predicted = val_outputs > 0.5\n",
    "            val_correct += (val_predicted == val_labels).sum().item()\n",
    "            val_samples += val_labels.size(0)\n",
    "\n",
    "    average_val_loss = val_loss / len(val_loader)\n",
    "    val_accuracy = val_correct / val_samples\n",
    "\n",
    "    val_losses.append(average_val_loss)\n",
    "    val_accuracies.append(val_accuracy)\n",
    "\n",
    "    print(f'Validation - Epoch {epoch+1}/{num_epochs}, Loss: {average_val_loss:.4f}, Accuracy: {val_accuracy:.4f}')\n",
    "\n",
    "# Testing\n",
    "model.eval()\n",
    "test_correct = 0\n",
    "test_samples = 0\n",
    "\n",
    "with torch.no_grad():\n",
    "    for test_inputs, test_labels in test_loader:\n",
    "        test_labels = test_labels.type(torch.FloatTensor)\n",
    "        test_inputs, test_labels = test_inputs.to(device), test_labels.to(device)\n",
    "        test_outputs = model(test_inputs)\n",
    "        test_predicted = test_outputs > 0.5\n",
    "        test_correct += (test_predicted == test_labels).sum().item()\n",
    "        test_samples += test_labels.size(0)\n",
    "\n",
    "test_accuracy = test_correct / test_samples\n",
    "print(f'Testing - Accuracy: {test_accuracy:.4f}')\n",
    "\n",
    "# Plot learning curves\n",
    "epochs = range(1, num_epochs + 1)\n",
    "\n",
    "plt.figure(figsize=(12, 4))\n",
    "plt.subplot(1, 2, 1)\n",
    "plt.plot(epochs, train_losses, label='Training Loss')\n",
    "plt.plot(epochs, val_losses, label='Validation Loss')\n",
    "plt.xlabel('Epoch')\n",
    "plt.ylabel('Loss')\n",
    "plt.legend()\n",
    "\n",
    "plt.subplot(1, 2, 2)\n",
    "plt.plot(epochs, train_accuracies, label='Training Accuracy')\n",
    "plt.plot(epochs, val_accuracies, label='Validation Accuracy')\n",
    "plt.xlabel('Epoch')\n",
    "plt.ylabel('Accuracy')\n",
    "plt.legend()\n",
    "\n",
    "plt.tight_layout()\n",
    "plt.show()\n"
   ]
  },
  {
   "cell_type": "code",
   "execution_count": 47,
   "metadata": {},
   "outputs": [
    {
     "data": {
      "text/plain": [
       "<matplotlib.legend.Legend at 0x253be28de20>"
      ]
     },
     "execution_count": 47,
     "metadata": {},
     "output_type": "execute_result"
    },
    {
     "data": {
      "image/png": "[encoded data removed]",
      "text/plain": [
       "<Figure size 1200x400 with 1 Axes>"
      ]
     },
     "metadata": {},
     "output_type": "display_data"
    }
   ],
   "source": [
    "xrange = range(1, num_epochs)\n",
    "plt.figure(figsize=(12, 4))\n",
    "plt.plot(xrange, train_losses[1:], label='Training Loss')\n",
    "plt.plot(xrange, val_losses[1:], label='Validation Loss')\n",
    "plt.xlabel('Epoch')\n",
    "plt.ylabel('Loss')\n",
    "plt.legend()"
   ]
  },
  {
   "cell_type": "code",
   "execution_count": 48,
   "metadata": {},
   "outputs": [
    {
     "name": "stdout",
     "output_type": "stream",
     "text": [
      "Testing - Accuracy: 0.6667\n"
     ]
    },
    {
     "data": {
      "image/png": "[encoded data removed]",
      "text/plain": [
       "<Figure size 600x600 with 2 Axes>"
      ]
     },
     "metadata": {},
     "output_type": "display_data"
    }
   ],
   "source": [
    "# Lists to store true labels and predicted labels\n",
    "true_labels = []\n",
    "predicted_labels = []\n",
    "\n",
    "# Testing\n",
    "model.eval()\n",
    "test_correct = 0\n",
    "test_samples = 0\n",
    "\n",
    "with torch.no_grad():\n",
    "    for test_inputs, test_labels in test_loader:\n",
    "        test_inputs, test_labels = test_inputs.to(device), test_labels.to(device)\n",
    "        test_outputs = model(test_inputs)\n",
    "        test_predicted = test_outputs > 0.5\n",
    "\n",
    "        true_labels.extend(test_labels.cpu().numpy())\n",
    "        predicted_labels.extend(test_predicted.cpu().numpy())\n",
    "\n",
    "        test_correct += (test_predicted == test_labels).sum().item()\n",
    "        test_samples += test_labels.size(0)\n",
    "\n",
    "test_accuracy = test_correct / test_samples\n",
    "print(f'Testing - Accuracy: {test_accuracy:.4f}')\n",
    "\n",
    "# Confusion matrix\n",
    "cm = confusion_matrix(true_labels, predicted_labels)\n",
    "class_names = ['Major', 'Minor']  # Modify based on your actual class names\n",
    "\n",
    "# Plot the confusion matrix\n",
    "plt.figure(figsize=(6, 6))\n",
    "sns.heatmap(cm, annot=True, fmt='d', cmap='Blues', xticklabels=class_names, yticklabels=class_names)\n",
    "plt.title('Confusion Matrix')\n",
    "plt.xlabel('Predicted')\n",
    "plt.ylabel('True')\n",
    "plt.show()"
   ]
  }
 ],
 "metadata": {
  "kernelspec": {
   "display_name": "finbert",
   "language": "python",
   "name": "python3"
  },
  "language_info": {
   "codemirror_mode": {
    "name": "ipython",
    "version": 3
   },
   "file_extension": ".py",
   "mimetype": "text/x-python",
   "name": "python",
   "nbconvert_exporter": "python",
   "pygments_lexer": "ipython3",
   "version": "3.8.18"
  }
 },
 "nbformat": 4,
 "nbformat_minor": 2
}
