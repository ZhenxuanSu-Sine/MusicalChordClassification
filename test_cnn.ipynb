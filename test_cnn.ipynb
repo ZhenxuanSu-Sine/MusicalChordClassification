{
 "cells": [
  {
   "cell_type": "code",
   "execution_count": 1,
   "metadata": {},
   "outputs": [],
   "source": [
    "import torch\n",
    "import torch.nn as nn\n",
    "import torch.optim as optim\n",
    "from torch.utils.data import DataLoader, random_split\n",
    "from sklearn.metrics import accuracy_score, f1_score, confusion_matrix\n",
    "from tqdm import tqdm\n",
    "import matplotlib.pyplot as plt\n",
    "import seaborn as sns\n",
    "# Import your dataset and transforms\n",
    "from dataset_creater import *\n",
    "from torchsummary import summary\n"
   ]
  },
  {
   "cell_type": "code",
   "execution_count": 2,
   "metadata": {},
   "outputs": [
    {
     "name": "stdout",
     "output_type": "stream",
     "text": [
      "25472\n"
     ]
    }
   ],
   "source": [
    "# Set the path to your dataset\n",
    "data_folder = \"./data\"\n",
    "transform = Spectrogram_transform\n",
    "\n",
    "# Create an instance of your dataset\n",
    "dataset = AudioDataset(data_folder, transform=transform)\n",
    "\n",
    "# Define the sizes of your splits\n",
    "train_size = int(0.8 * len(dataset))\n",
    "val_size = int(0.10 * len(dataset))\n",
    "test_size = len(dataset) - train_size - val_size\n",
    "\n",
    "# Use random_split to create training, validation, and test sets\n",
    "train_set, val_set, test_set = random_split(dataset, [train_size, val_size, test_size])\n",
    "\n",
    "batch_size = 32\n",
    "# Move the training and validation data loaders to the selected device\n",
    "train_loader = DataLoader(train_set, batch_size=batch_size, shuffle=True)\n",
    "val_loader = DataLoader(val_set, shuffle=False)\n",
    "test_loader = DataLoader(test_set, shuffle=False)\n",
    "\n",
    "# Calculate the fc1 input size\n",
    "for batch in train_loader:\n",
    "    sample, label =  batch\n",
    "    if len(sample.size()) == 3:\n",
    "        fc1_input_size = sample.size(len(sample.size())-1)\n",
    "        print(fc1_input_size)\n",
    "    elif len(sample.size()) == 4:\n",
    "        fc1_input_size = sample.size(len(sample.size())-1) * sample.size(len(sample.size())-2)\n",
    "        print(fc1_input_size)\n",
    "    break"
   ]
  },
  {
   "cell_type": "code",
   "execution_count": 3,
   "metadata": {},
   "outputs": [
    {
     "name": "stdout",
     "output_type": "stream",
     "text": [
      "Padded waveforms shape: torch.Size([1, 1, 128, 199])\n",
      "Padded waveforms shape: torch.Size([1, 1, 128, 199])\n",
      "Padded waveforms shape: torch.Size([1, 1, 128, 199])\n",
      "Padded waveforms shape: torch.Size([1, 1, 128, 199])\n",
      "Padded waveforms shape: torch.Size([1, 1, 128, 199])\n",
      "Padded waveforms shape: torch.Size([1, 1, 128, 199])\n",
      "Padded waveforms shape: torch.Size([1, 1, 128, 199])\n",
      "Padded waveforms shape: torch.Size([1, 1, 128, 199])\n",
      "Padded waveforms shape: torch.Size([1, 1, 128, 199])\n",
      "Padded waveforms shape: torch.Size([1, 1, 128, 199])\n",
      "Padded waveforms shape: torch.Size([1, 1, 128, 199])\n",
      "Padded waveforms shape: torch.Size([1, 1, 128, 199])\n",
      "Padded waveforms shape: torch.Size([1, 1, 128, 199])\n",
      "Padded waveforms shape: torch.Size([1, 1, 128, 199])\n",
      "Padded waveforms shape: torch.Size([1, 1, 128, 199])\n",
      "Padded waveforms shape: torch.Size([1, 1, 128, 199])\n",
      "Padded waveforms shape: torch.Size([1, 1, 128, 199])\n",
      "Padded waveforms shape: torch.Size([1, 1, 128, 199])\n",
      "Padded waveforms shape: torch.Size([1, 1, 128, 199])\n",
      "Padded waveforms shape: torch.Size([1, 1, 128, 199])\n",
      "Padded waveforms shape: torch.Size([1, 1, 128, 199])\n",
      "Padded waveforms shape: torch.Size([1, 1, 128, 199])\n",
      "Padded waveforms shape: torch.Size([1, 1, 128, 199])\n",
      "Padded waveforms shape: torch.Size([1, 1, 128, 199])\n",
      "Padded waveforms shape: torch.Size([1, 1, 128, 199])\n",
      "Padded waveforms shape: torch.Size([1, 1, 128, 199])\n",
      "Padded waveforms shape: torch.Size([1, 1, 128, 199])\n",
      "Padded waveforms shape: torch.Size([1, 1, 128, 199])\n",
      "Padded waveforms shape: torch.Size([1, 1, 128, 199])\n",
      "Padded waveforms shape: torch.Size([1, 1, 128, 199])\n",
      "Padded waveforms shape: torch.Size([1, 1, 128, 199])\n",
      "Padded waveforms shape: torch.Size([1, 1, 128, 199])\n",
      "Padded waveforms shape: torch.Size([1, 1, 128, 199])\n",
      "Padded waveforms shape: torch.Size([1, 1, 128, 199])\n",
      "Padded waveforms shape: torch.Size([1, 1, 128, 199])\n",
      "Padded waveforms shape: torch.Size([1, 1, 128, 199])\n",
      "Padded waveforms shape: torch.Size([1, 1, 128, 199])\n",
      "Padded waveforms shape: torch.Size([1, 1, 128, 199])\n",
      "Padded waveforms shape: torch.Size([1, 1, 128, 199])\n",
      "Padded waveforms shape: torch.Size([1, 1, 128, 199])\n",
      "Padded waveforms shape: torch.Size([1, 1, 128, 199])\n",
      "Padded waveforms shape: torch.Size([1, 1, 128, 199])\n",
      "Padded waveforms shape: torch.Size([1, 1, 128, 199])\n",
      "Padded waveforms shape: torch.Size([1, 1, 128, 199])\n",
      "Padded waveforms shape: torch.Size([1, 1, 128, 199])\n",
      "Padded waveforms shape: torch.Size([1, 1, 128, 199])\n",
      "Padded waveforms shape: torch.Size([1, 1, 128, 199])\n",
      "Padded waveforms shape: torch.Size([1, 1, 128, 199])\n",
      "Padded waveforms shape: torch.Size([1, 1, 128, 199])\n",
      "Padded waveforms shape: torch.Size([1, 1, 128, 199])\n",
      "Padded waveforms shape: torch.Size([1, 1, 128, 199])\n",
      "Padded waveforms shape: torch.Size([1, 1, 128, 199])\n",
      "Padded waveforms shape: torch.Size([1, 1, 128, 199])\n",
      "Padded waveforms shape: torch.Size([1, 1, 128, 199])\n",
      "Padded waveforms shape: torch.Size([1, 1, 128, 199])\n",
      "Padded waveforms shape: torch.Size([1, 1, 128, 199])\n",
      "Padded waveforms shape: torch.Size([1, 1, 128, 199])\n",
      "Padded waveforms shape: torch.Size([1, 1, 128, 199])\n",
      "Padded waveforms shape: torch.Size([1, 1, 128, 199])\n",
      "Padded waveforms shape: torch.Size([1, 1, 128, 199])\n",
      "Padded waveforms shape: torch.Size([1, 1, 128, 199])\n",
      "Padded waveforms shape: torch.Size([1, 1, 128, 199])\n",
      "Padded waveforms shape: torch.Size([1, 1, 128, 199])\n",
      "Padded waveforms shape: torch.Size([1, 1, 128, 199])\n",
      "Padded waveforms shape: torch.Size([1, 1, 128, 199])\n",
      "Padded waveforms shape: torch.Size([1, 1, 128, 199])\n",
      "Padded waveforms shape: torch.Size([1, 1, 128, 199])\n",
      "Padded waveforms shape: torch.Size([1, 1, 128, 199])\n",
      "Padded waveforms shape: torch.Size([1, 1, 128, 199])\n",
      "Padded waveforms shape: torch.Size([1, 1, 128, 199])\n",
      "Padded waveforms shape: torch.Size([1, 1, 128, 199])\n",
      "Padded waveforms shape: torch.Size([1, 1, 128, 199])\n",
      "Padded waveforms shape: torch.Size([1, 1, 128, 199])\n",
      "Padded waveforms shape: torch.Size([1, 1, 128, 199])\n",
      "Padded waveforms shape: torch.Size([1, 1, 128, 199])\n",
      "Padded waveforms shape: torch.Size([1, 1, 128, 199])\n",
      "Padded waveforms shape: torch.Size([1, 1, 128, 199])\n",
      "Padded waveforms shape: torch.Size([1, 1, 128, 199])\n",
      "Padded waveforms shape: torch.Size([1, 1, 128, 199])\n",
      "Padded waveforms shape: torch.Size([1, 1, 128, 199])\n",
      "Padded waveforms shape: torch.Size([1, 1, 128, 199])\n",
      "Padded waveforms shape: torch.Size([1, 1, 128, 199])\n",
      "Padded waveforms shape: torch.Size([1, 1, 128, 199])\n",
      "Padded waveforms shape: torch.Size([1, 1, 128, 199])\n",
      "Padded waveforms shape: torch.Size([1, 1, 128, 199])\n",
      "Padded waveforms shape: torch.Size([1, 1, 128, 199])\n",
      "Padded waveforms shape: torch.Size([1, 1, 128, 199])\n"
     ]
    }
   ],
   "source": [
    "for batch in test_loader:\n",
    "    padded_waveforms, labels = batch\n",
    "    print(\"Padded waveforms shape:\", padded_waveforms.shape)"
   ]
  },
  {
   "cell_type": "code",
   "execution_count": 4,
   "metadata": {},
   "outputs": [
    {
     "data": {
      "text/plain": [
       "'\\n\\n\\nimport torch.nn as nn\\n\\nclass ChordClassifier(nn.Module):\\n    def __init__(self):\\n        super(ChordClassifier, self).__init__()\\n\\n        self.conv1 = nn.Conv2d(1, 32, kernel_size=3, stride=1, padding=1)\\n        self.relu1 = nn.ReLU()\\n        self.pool1 = nn.MaxPool2d(kernel_size=2, stride=2)\\n\\n        self.conv2 = nn.Conv2d(32, 64, kernel_size=3, stride=1, padding=1)\\n        self.relu2 = nn.ReLU()\\n        self.pool2 = nn.MaxPool2d(kernel_size=2, stride=2)\\n\\n        \\n        # Add more hidden layers\\n        self.conv3 = nn.Conv2d(64, 128, kernel_size=3, stride=1, padding=1)\\n        self.relu3 = nn.ReLU()\\n        self.pool3 = nn.MaxPool2d(kernel_size=2, stride=2)\\n\\n        self.conv4 = nn.Conv2d(128, 256, kernel_size=3, stride=1, padding=1)\\n        self.relu4 = nn.ReLU()\\n        self.pool4 = nn.MaxPool2d(kernel_size=2, stride=2)\\n        \\n\\n        # Adjust the size of the fully connected layer\\n        self.fc1 = nn.Linear(24576, 512)  # Adapt this size based on your actual tensor size\\n        self.relu5 = nn.ReLU()\\n        self.fc2 = nn.Linear(512, 128)\\n        self.relu6 = nn.ReLU()\\n        self.fc3 = nn.Linear(128, 2)  # 2 classes: Major and Minor\\n\\n    def forward(self, x):\\n        x = self.pool1(self.relu1(self.conv1(x)))\\n        x = self.pool2(self.relu2(self.conv2(x)))\\n        x = self.pool3(self.relu3(self.conv3(x)))\\n        x = self.pool4(self.relu4(self.conv4(x)))\\n\\n        x = x.view(x.size(0), -1)  # Flatten the tensor before fully connected layer\\n\\n        x = self.relu5(self.fc1(x))\\n        x = self.relu6(self.fc2(x))\\n        x = self.fc3(x)\\n\\n        return x\\n'"
      ]
     },
     "execution_count": 4,
     "metadata": {},
     "output_type": "execute_result"
    }
   ],
   "source": [
    "class ChordClassifier(nn.Module):\n",
    "    def __init__(self):\n",
    "        super(ChordClassifier, self).__init__()\n",
    "        # Define a CNN with input shape is (batch_size, 1, 128, 199) and output shape is (batch_size, 1)\n",
    "        # it should reduce the dimensionality very quickly because the dataset is small (<1000)\n",
    "        self.conv1 = nn.Conv2d(1, 32, kernel_size=5, stride=1, padding=0) \n",
    "        self.bn1 = nn.BatchNorm2d(32)\n",
    "        self.relu1 = nn.ReLU()\n",
    "        self.pool1 = nn.MaxPool2d(kernel_size=2, stride=2) \n",
    "        self.conv2 = nn.Conv2d(32, 64, kernel_size=5, stride=1, padding=0) \n",
    "        self.bn2 = nn.BatchNorm2d(64)\n",
    "        self.relu2 = nn.ReLU()\n",
    "        self.pool2 = nn.MaxPool2d(kernel_size=4, stride=4) \n",
    "        self.conv3 = nn.Conv2d(64, 128, kernel_size=3, stride=1, padding=0)\n",
    "        self.relu3 = nn.ReLU()\n",
    "        # global average pooling\n",
    "        self.pool3 = nn.AdaptiveAvgPool2d((1, 1)) # shape (batch_size, 128, 1, 1)\n",
    "        self.bn3 = nn.BatchNorm1d(128)\n",
    "        self.dropout = nn.Dropout(0.3)\n",
    "        self.fc1 = nn.Linear(128, 1) # no activation function because we use BCEWithLogitsLoss\n",
    "\n",
    "    def forward(self, x):\n",
    "        x = self.pool1(self.relu1(self.bn1(self.conv1(x))))\n",
    "        x = self.pool2(self.relu2(self.bn2(self.conv2(x))))\n",
    "        x = self.pool3(self.relu3(self.conv3(x)))\n",
    "        x = x.view(x.size(0), -1) # flatten the tensor before fully connected layer\n",
    "        x = self.bn3(x)\n",
    "        x = self.dropout(x)\n",
    "        x = self.fc1(x)\n",
    "        # Use BCEWithLogitsLoss instead of BCELoss because it combines a Sigmoid layer and the BCELoss in one single class\n",
    "        # the output shape should be (batch_size,)\n",
    "        return x.view(-1)\n",
    "\n",
    "\n",
    "'''\n",
    "\n",
    "\n",
    "import torch.nn as nn\n",
    "\n",
    "class ChordClassifier(nn.Module):\n",
    "    def __init__(self):\n",
    "        super(ChordClassifier, self).__init__()\n",
    "\n",
    "        self.conv1 = nn.Conv2d(1, 32, kernel_size=3, stride=1, padding=1)\n",
    "        self.relu1 = nn.ReLU()\n",
    "        self.pool1 = nn.MaxPool2d(kernel_size=2, stride=2)\n",
    "\n",
    "        self.conv2 = nn.Conv2d(32, 64, kernel_size=3, stride=1, padding=1)\n",
    "        self.relu2 = nn.ReLU()\n",
    "        self.pool2 = nn.MaxPool2d(kernel_size=2, stride=2)\n",
    "\n",
    "        \n",
    "        # Add more hidden layers\n",
    "        self.conv3 = nn.Conv2d(64, 128, kernel_size=3, stride=1, padding=1)\n",
    "        self.relu3 = nn.ReLU()\n",
    "        self.pool3 = nn.MaxPool2d(kernel_size=2, stride=2)\n",
    "\n",
    "        self.conv4 = nn.Conv2d(128, 256, kernel_size=3, stride=1, padding=1)\n",
    "        self.relu4 = nn.ReLU()\n",
    "        self.pool4 = nn.MaxPool2d(kernel_size=2, stride=2)\n",
    "        \n",
    "\n",
    "        # Adjust the size of the fully connected layer\n",
    "        self.fc1 = nn.Linear(24576, 512)  # Adapt this size based on your actual tensor size\n",
    "        self.relu5 = nn.ReLU()\n",
    "        self.fc2 = nn.Linear(512, 128)\n",
    "        self.relu6 = nn.ReLU()\n",
    "        self.fc3 = nn.Linear(128, 2)  # 2 classes: Major and Minor\n",
    "\n",
    "    def forward(self, x):\n",
    "        x = self.pool1(self.relu1(self.conv1(x)))\n",
    "        x = self.pool2(self.relu2(self.conv2(x)))\n",
    "        x = self.pool3(self.relu3(self.conv3(x)))\n",
    "        x = self.pool4(self.relu4(self.conv4(x)))\n",
    "\n",
    "        x = x.view(x.size(0), -1)  # Flatten the tensor before fully connected layer\n",
    "\n",
    "        x = self.relu5(self.fc1(x))\n",
    "        x = self.relu6(self.fc2(x))\n",
    "        x = self.fc3(x)\n",
    "\n",
    "        return x\n",
    "'''"
   ]
  },
  {
   "cell_type": "code",
   "execution_count": 5,
   "metadata": {},
   "outputs": [
    {
     "name": "stdout",
     "output_type": "stream",
     "text": [
      "----------------------------------------------------------------\n",
      "        Layer (type)               Output Shape         Param #\n",
      "================================================================\n",
      "            Conv2d-1         [-1, 32, 124, 195]             832\n",
      "       BatchNorm2d-2         [-1, 32, 124, 195]              64\n",
      "              ReLU-3         [-1, 32, 124, 195]               0\n",
      "         MaxPool2d-4           [-1, 32, 62, 97]               0\n",
      "            Conv2d-5           [-1, 64, 58, 93]          51,264\n",
      "       BatchNorm2d-6           [-1, 64, 58, 93]             128\n",
      "              ReLU-7           [-1, 64, 58, 93]               0\n",
      "         MaxPool2d-8           [-1, 64, 14, 23]               0\n",
      "            Conv2d-9          [-1, 128, 12, 21]          73,856\n",
      "             ReLU-10          [-1, 128, 12, 21]               0\n",
      "AdaptiveAvgPool2d-11            [-1, 128, 1, 1]               0\n",
      "      BatchNorm1d-12                  [-1, 128]             256\n",
      "          Dropout-13                  [-1, 128]               0\n",
      "           Linear-14                    [-1, 1]             129\n",
      "================================================================\n",
      "Total params: 126,529\n",
      "Trainable params: 126,529\n",
      "Non-trainable params: 0\n",
      "----------------------------------------------------------------\n",
      "Input size (MB): 0.10\n",
      "Forward/backward pass size (MB): 27.73\n",
      "Params size (MB): 0.48\n",
      "Estimated Total Size (MB): 28.31\n",
      "----------------------------------------------------------------\n"
     ]
    }
   ],
   "source": [
    "\n",
    "\n",
    "# Check if GPU is available and set the device accordingly\n",
    "device = torch.device(\"cuda\" if torch.cuda.is_available() else \"cpu\")\n",
    "\n",
    "# Instantiate model and move it to the selected device\n",
    "model = ChordClassifier().to(device)\n",
    "\n",
    "# Instantiate loss function and move it to the selected device\n",
    "criterion = nn.BCEWithLogitsLoss().to(device)\n",
    "\n",
    "# Instantiate optimizer and move it to the selected device\n",
    "optimizer = optim.Adam(model.parameters(), lr=0.00001, weight_decay=0.00001)\n",
    "\n",
    "# output summary of model\n",
    "summary(model, (1, 128, 199))\n",
    "\n"
   ]
  },
  {
   "cell_type": "code",
   "execution_count": 6,
   "metadata": {},
   "outputs": [
    {
     "name": "stderr",
     "output_type": "stream",
     "text": [
      "  0%|          | 0/22 [00:00<?, ?it/s]"
     ]
    },
    {
     "name": "stderr",
     "output_type": "stream",
     "text": [
      "100%|██████████| 22/22 [00:08<00:00,  2.69it/s]\n"
     ]
    },
    {
     "name": "stdout",
     "output_type": "stream",
     "text": [
      "Training - Epoch 1/30, Loss: 0.7153, Accuracy: 0.5415\n",
      "Validation - Epoch 1/30, Loss: 0.6864, Accuracy: 0.5765\n"
     ]
    },
    {
     "name": "stderr",
     "output_type": "stream",
     "text": [
      "100%|██████████| 22/22 [00:08<00:00,  2.71it/s]\n"
     ]
    },
    {
     "name": "stdout",
     "output_type": "stream",
     "text": [
      "Training - Epoch 2/30, Loss: 0.6822, Accuracy: 0.5953\n",
      "Validation - Epoch 2/30, Loss: 0.6997, Accuracy: 0.5647\n"
     ]
    },
    {
     "name": "stderr",
     "output_type": "stream",
     "text": [
      "100%|██████████| 22/22 [00:08<00:00,  2.73it/s]\n"
     ]
    },
    {
     "name": "stdout",
     "output_type": "stream",
     "text": [
      "Training - Epoch 3/30, Loss: 0.6735, Accuracy: 0.6070\n",
      "Validation - Epoch 3/30, Loss: 0.6972, Accuracy: 0.5529\n"
     ]
    },
    {
     "name": "stderr",
     "output_type": "stream",
     "text": [
      "100%|██████████| 22/22 [00:07<00:00,  2.80it/s]\n"
     ]
    },
    {
     "name": "stdout",
     "output_type": "stream",
     "text": [
      "Training - Epoch 4/30, Loss: 0.6614, Accuracy: 0.6172\n",
      "Validation - Epoch 4/30, Loss: 0.6824, Accuracy: 0.6000\n"
     ]
    },
    {
     "name": "stderr",
     "output_type": "stream",
     "text": [
      "100%|██████████| 22/22 [00:07<00:00,  2.78it/s]\n"
     ]
    },
    {
     "name": "stdout",
     "output_type": "stream",
     "text": [
      "Training - Epoch 5/30, Loss: 0.6493, Accuracy: 0.6346\n",
      "Validation - Epoch 5/30, Loss: 0.6704, Accuracy: 0.6000\n"
     ]
    },
    {
     "name": "stderr",
     "output_type": "stream",
     "text": [
      "100%|██████████| 22/22 [00:08<00:00,  2.71it/s]\n"
     ]
    },
    {
     "name": "stdout",
     "output_type": "stream",
     "text": [
      "Training - Epoch 6/30, Loss: 0.6634, Accuracy: 0.6128\n",
      "Validation - Epoch 6/30, Loss: 0.6688, Accuracy: 0.6000\n"
     ]
    },
    {
     "name": "stderr",
     "output_type": "stream",
     "text": [
      "100%|██████████| 22/22 [00:08<00:00,  2.67it/s]\n"
     ]
    },
    {
     "name": "stdout",
     "output_type": "stream",
     "text": [
      "Training - Epoch 7/30, Loss: 0.6428, Accuracy: 0.6477\n",
      "Validation - Epoch 7/30, Loss: 0.6688, Accuracy: 0.6000\n"
     ]
    },
    {
     "name": "stderr",
     "output_type": "stream",
     "text": [
      "100%|██████████| 22/22 [00:08<00:00,  2.64it/s]\n"
     ]
    },
    {
     "name": "stdout",
     "output_type": "stream",
     "text": [
      "Training - Epoch 8/30, Loss: 0.6342, Accuracy: 0.6317\n",
      "Validation - Epoch 8/30, Loss: 0.6739, Accuracy: 0.6000\n"
     ]
    },
    {
     "name": "stderr",
     "output_type": "stream",
     "text": [
      "100%|██████████| 22/22 [00:08<00:00,  2.71it/s]\n"
     ]
    },
    {
     "name": "stdout",
     "output_type": "stream",
     "text": [
      "Training - Epoch 9/30, Loss: 0.6254, Accuracy: 0.6594\n",
      "Validation - Epoch 9/30, Loss: 0.6654, Accuracy: 0.6118\n"
     ]
    },
    {
     "name": "stderr",
     "output_type": "stream",
     "text": [
      "100%|██████████| 22/22 [00:08<00:00,  2.65it/s]\n"
     ]
    },
    {
     "name": "stdout",
     "output_type": "stream",
     "text": [
      "Training - Epoch 10/30, Loss: 0.6284, Accuracy: 0.6492\n",
      "Validation - Epoch 10/30, Loss: 0.6574, Accuracy: 0.5882\n"
     ]
    },
    {
     "name": "stderr",
     "output_type": "stream",
     "text": [
      "100%|██████████| 22/22 [00:08<00:00,  2.73it/s]\n"
     ]
    },
    {
     "name": "stdout",
     "output_type": "stream",
     "text": [
      "Training - Epoch 11/30, Loss: 0.6259, Accuracy: 0.6550\n",
      "Validation - Epoch 11/30, Loss: 0.6656, Accuracy: 0.6235\n"
     ]
    },
    {
     "name": "stderr",
     "output_type": "stream",
     "text": [
      "100%|██████████| 22/22 [00:08<00:00,  2.72it/s]\n"
     ]
    },
    {
     "name": "stdout",
     "output_type": "stream",
     "text": [
      "Training - Epoch 12/30, Loss: 0.6085, Accuracy: 0.6725\n",
      "Validation - Epoch 12/30, Loss: 0.6660, Accuracy: 0.6118\n"
     ]
    },
    {
     "name": "stderr",
     "output_type": "stream",
     "text": [
      "100%|██████████| 22/22 [00:08<00:00,  2.67it/s]\n"
     ]
    },
    {
     "name": "stdout",
     "output_type": "stream",
     "text": [
      "Training - Epoch 13/30, Loss: 0.6183, Accuracy: 0.6667\n",
      "Validation - Epoch 13/30, Loss: 0.6594, Accuracy: 0.6235\n"
     ]
    },
    {
     "name": "stderr",
     "output_type": "stream",
     "text": [
      "100%|██████████| 22/22 [00:08<00:00,  2.66it/s]\n"
     ]
    },
    {
     "name": "stdout",
     "output_type": "stream",
     "text": [
      "Training - Epoch 14/30, Loss: 0.6164, Accuracy: 0.6798\n",
      "Validation - Epoch 14/30, Loss: 0.6555, Accuracy: 0.6000\n"
     ]
    },
    {
     "name": "stderr",
     "output_type": "stream",
     "text": [
      "100%|██████████| 22/22 [00:08<00:00,  2.68it/s]\n"
     ]
    },
    {
     "name": "stdout",
     "output_type": "stream",
     "text": [
      "Training - Epoch 15/30, Loss: 0.5990, Accuracy: 0.6783\n",
      "Validation - Epoch 15/30, Loss: 0.6619, Accuracy: 0.6000\n"
     ]
    },
    {
     "name": "stderr",
     "output_type": "stream",
     "text": [
      "100%|██████████| 22/22 [00:08<00:00,  2.66it/s]\n"
     ]
    },
    {
     "name": "stdout",
     "output_type": "stream",
     "text": [
      "Training - Epoch 16/30, Loss: 0.6039, Accuracy: 0.6812\n",
      "Validation - Epoch 16/30, Loss: 0.6564, Accuracy: 0.5882\n"
     ]
    },
    {
     "name": "stderr",
     "output_type": "stream",
     "text": [
      "100%|██████████| 22/22 [00:07<00:00,  2.76it/s]\n"
     ]
    },
    {
     "name": "stdout",
     "output_type": "stream",
     "text": [
      "Training - Epoch 17/30, Loss: 0.5964, Accuracy: 0.6914\n",
      "Validation - Epoch 17/30, Loss: 0.6611, Accuracy: 0.5882\n"
     ]
    },
    {
     "name": "stderr",
     "output_type": "stream",
     "text": [
      "100%|██████████| 22/22 [00:08<00:00,  2.64it/s]\n"
     ]
    },
    {
     "name": "stdout",
     "output_type": "stream",
     "text": [
      "Training - Epoch 18/30, Loss: 0.5870, Accuracy: 0.7103\n",
      "Validation - Epoch 18/30, Loss: 0.6530, Accuracy: 0.6235\n"
     ]
    },
    {
     "name": "stderr",
     "output_type": "stream",
     "text": [
      "100%|██████████| 22/22 [00:08<00:00,  2.67it/s]\n"
     ]
    },
    {
     "name": "stdout",
     "output_type": "stream",
     "text": [
      "Training - Epoch 19/30, Loss: 0.5871, Accuracy: 0.7074\n",
      "Validation - Epoch 19/30, Loss: 0.6479, Accuracy: 0.6118\n"
     ]
    },
    {
     "name": "stderr",
     "output_type": "stream",
     "text": [
      "100%|██████████| 22/22 [00:08<00:00,  2.69it/s]\n"
     ]
    },
    {
     "name": "stdout",
     "output_type": "stream",
     "text": [
      "Training - Epoch 20/30, Loss: 0.5941, Accuracy: 0.6812\n",
      "Validation - Epoch 20/30, Loss: 0.6496, Accuracy: 0.6000\n"
     ]
    },
    {
     "name": "stderr",
     "output_type": "stream",
     "text": [
      "100%|██████████| 22/22 [00:08<00:00,  2.57it/s]\n"
     ]
    },
    {
     "name": "stdout",
     "output_type": "stream",
     "text": [
      "Training - Epoch 21/30, Loss: 0.5743, Accuracy: 0.7278\n",
      "Validation - Epoch 21/30, Loss: 0.6450, Accuracy: 0.6118\n"
     ]
    },
    {
     "name": "stderr",
     "output_type": "stream",
     "text": [
      "100%|██████████| 22/22 [00:08<00:00,  2.63it/s]\n"
     ]
    },
    {
     "name": "stdout",
     "output_type": "stream",
     "text": [
      "Training - Epoch 22/30, Loss: 0.5720, Accuracy: 0.7205\n",
      "Validation - Epoch 22/30, Loss: 0.6464, Accuracy: 0.5765\n"
     ]
    },
    {
     "name": "stderr",
     "output_type": "stream",
     "text": [
      "100%|██████████| 22/22 [00:08<00:00,  2.72it/s]\n"
     ]
    },
    {
     "name": "stdout",
     "output_type": "stream",
     "text": [
      "Training - Epoch 23/30, Loss: 0.5641, Accuracy: 0.7103\n",
      "Validation - Epoch 23/30, Loss: 0.6509, Accuracy: 0.6235\n"
     ]
    },
    {
     "name": "stderr",
     "output_type": "stream",
     "text": [
      "100%|██████████| 22/22 [00:08<00:00,  2.57it/s]\n"
     ]
    },
    {
     "name": "stdout",
     "output_type": "stream",
     "text": [
      "Training - Epoch 24/30, Loss: 0.5714, Accuracy: 0.7001\n",
      "Validation - Epoch 24/30, Loss: 0.6519, Accuracy: 0.5765\n"
     ]
    },
    {
     "name": "stderr",
     "output_type": "stream",
     "text": [
      "100%|██████████| 22/22 [00:08<00:00,  2.59it/s]\n"
     ]
    },
    {
     "name": "stdout",
     "output_type": "stream",
     "text": [
      "Training - Epoch 25/30, Loss: 0.5531, Accuracy: 0.7453\n",
      "Validation - Epoch 25/30, Loss: 0.6480, Accuracy: 0.6235\n"
     ]
    },
    {
     "name": "stderr",
     "output_type": "stream",
     "text": [
      "100%|██████████| 22/22 [00:08<00:00,  2.62it/s]\n"
     ]
    },
    {
     "name": "stdout",
     "output_type": "stream",
     "text": [
      "Training - Epoch 26/30, Loss: 0.5537, Accuracy: 0.7322\n",
      "Validation - Epoch 26/30, Loss: 0.6408, Accuracy: 0.6235\n"
     ]
    },
    {
     "name": "stderr",
     "output_type": "stream",
     "text": [
      "100%|██████████| 22/22 [00:08<00:00,  2.55it/s]\n"
     ]
    },
    {
     "name": "stdout",
     "output_type": "stream",
     "text": [
      "Training - Epoch 27/30, Loss: 0.5510, Accuracy: 0.7249\n",
      "Validation - Epoch 27/30, Loss: 0.6409, Accuracy: 0.5882\n"
     ]
    },
    {
     "name": "stderr",
     "output_type": "stream",
     "text": [
      "100%|██████████| 22/22 [00:08<00:00,  2.52it/s]\n"
     ]
    },
    {
     "name": "stdout",
     "output_type": "stream",
     "text": [
      "Training - Epoch 28/30, Loss: 0.5610, Accuracy: 0.7336\n",
      "Validation - Epoch 28/30, Loss: 0.6522, Accuracy: 0.6235\n"
     ]
    },
    {
     "name": "stderr",
     "output_type": "stream",
     "text": [
      "100%|██████████| 22/22 [00:08<00:00,  2.55it/s]\n"
     ]
    },
    {
     "name": "stdout",
     "output_type": "stream",
     "text": [
      "Training - Epoch 29/30, Loss: 0.5423, Accuracy: 0.7278\n",
      "Validation - Epoch 29/30, Loss: 0.6458, Accuracy: 0.6118\n"
     ]
    },
    {
     "name": "stderr",
     "output_type": "stream",
     "text": [
      "100%|██████████| 22/22 [00:08<00:00,  2.54it/s]\n"
     ]
    },
    {
     "name": "stdout",
     "output_type": "stream",
     "text": [
      "Training - Epoch 30/30, Loss: 0.5439, Accuracy: 0.7569\n",
      "Validation - Epoch 30/30, Loss: 0.6420, Accuracy: 0.6000\n",
      "Testing - Accuracy: 0.7126\n"
     ]
    },
    {
     "data": {
      "image/png": "[encoded data removed]",
      "text/plain": [
       "<Figure size 1200x400 with 2 Axes>"
      ]
     },
     "metadata": {},
     "output_type": "display_data"
    }
   ],
   "source": [
    "# Lists to store values for plotting\n",
    "from cgi import test\n",
    "\n",
    "\n",
    "train_losses = []\n",
    "train_accuracies = []\n",
    "val_losses = []\n",
    "val_accuracies = []\n",
    "\n",
    "# Training loop\n",
    "num_epochs = 30\n",
    "for epoch in range(num_epochs):\n",
    "    model.train()\n",
    "    total_loss = 0.0\n",
    "    total_correct = 0\n",
    "    total_samples = 0\n",
    "\n",
    "    for inputs, labels in tqdm(train_loader):\n",
    "        # convert labels to float because criterion requires float type labels\n",
    "        labels = labels.type(torch.FloatTensor)\n",
    "        inputs, labels = inputs.to(device), labels.to(device)\n",
    "        optimizer.zero_grad()\n",
    "        outputs = model(inputs)\n",
    "        loss = criterion(outputs, labels)\n",
    "        loss.backward()\n",
    "        optimizer.step()\n",
    "\n",
    "        total_loss += loss.item()\n",
    "        predicted = outputs > 0.5\n",
    "        total_correct += (predicted == labels).sum().item()\n",
    "        total_samples += labels.size(0)\n",
    "\n",
    "    average_loss = total_loss / len(train_loader)\n",
    "    accuracy = total_correct / total_samples\n",
    "\n",
    "    train_losses.append(average_loss)\n",
    "    train_accuracies.append(accuracy)\n",
    "\n",
    "    print(f'Training - Epoch {epoch+1}/{num_epochs}, Loss: {average_loss:.4f}, Accuracy: {accuracy:.4f}')\n",
    "\n",
    "    # Validation\n",
    "    model.eval()\n",
    "    val_loss = 0.0\n",
    "    val_correct = 0\n",
    "    val_samples = 0\n",
    "\n",
    "    with torch.no_grad():\n",
    "        for val_inputs, val_labels in val_loader:\n",
    "            val_labels = val_labels.type(torch.FloatTensor)\n",
    "            val_inputs, val_labels = val_inputs.to(device), val_labels.to(device)\n",
    "            val_outputs = model(val_inputs)\n",
    "            val_loss += criterion(val_outputs, val_labels).item()\n",
    "            val_predicted = val_outputs > 0.5\n",
    "            val_correct += (val_predicted == val_labels).sum().item()\n",
    "            val_samples += val_labels.size(0)\n",
    "\n",
    "    average_val_loss = val_loss / len(val_loader)\n",
    "    val_accuracy = val_correct / val_samples\n",
    "\n",
    "    val_losses.append(average_val_loss)\n",
    "    val_accuracies.append(val_accuracy)\n",
    "\n",
    "    print(f'Validation - Epoch {epoch+1}/{num_epochs}, Loss: {average_val_loss:.4f}, Accuracy: {val_accuracy:.4f}')\n",
    "\n",
    "# Testing\n",
    "model.eval()\n",
    "test_correct = 0\n",
    "test_samples = 0\n",
    "\n",
    "with torch.no_grad():\n",
    "    for test_inputs, test_labels in test_loader:\n",
    "        test_labels = test_labels.type(torch.FloatTensor)\n",
    "        test_inputs, test_labels = test_inputs.to(device), test_labels.to(device)\n",
    "        test_outputs = model(test_inputs)\n",
    "        test_predicted = test_outputs > 0.5\n",
    "        test_correct += (test_predicted == test_labels).sum().item()\n",
    "        test_samples += test_labels.size(0)\n",
    "\n",
    "test_accuracy = test_correct / test_samples\n",
    "print(f'Testing - Accuracy: {test_accuracy:.4f}')\n",
    "\n",
    "# Plot learning curves\n",
    "epochs = range(1, num_epochs + 1)\n",
    "\n",
    "plt.figure(figsize=(12, 4))\n",
    "plt.subplot(1, 2, 1)\n",
    "plt.plot(epochs, train_losses, label='Training Loss')\n",
    "plt.plot(epochs, val_losses, label='Validation Loss')\n",
    "plt.xlabel('Epoch')\n",
    "plt.ylabel('Loss')\n",
    "plt.legend()\n",
    "\n",
    "plt.subplot(1, 2, 2)\n",
    "plt.plot(epochs, train_accuracies, label='Training Accuracy')\n",
    "plt.plot(epochs, val_accuracies, label='Validation Accuracy')\n",
    "plt.xlabel('Epoch')\n",
    "plt.ylabel('Accuracy')\n",
    "plt.legend()\n",
    "\n",
    "plt.tight_layout()\n",
    "plt.show()\n"
   ]
  },
  {
   "cell_type": "code",
   "execution_count": 7,
   "metadata": {},
   "outputs": [
    {
     "data": {
      "text/plain": [
       "<matplotlib.legend.Legend at 0x21c4ae34430>"
      ]
     },
     "execution_count": 7,
     "metadata": {},
     "output_type": "execute_result"
    },
    {
     "data": {
      "image/png": "[encoded data removed]",
      "text/plain": [
       "<Figure size 1200x400 with 1 Axes>"
      ]
     },
     "metadata": {},
     "output_type": "display_data"
    }
   ],
   "source": [
    "xrange = range(1, num_epochs)\n",
    "plt.figure(figsize=(12, 4))\n",
    "plt.plot(xrange, train_losses[1:], label='Training Loss')\n",
    "plt.plot(xrange, val_losses[1:], label='Validation Loss')\n",
    "plt.xlabel('Epoch')\n",
    "plt.ylabel('Loss')\n",
    "plt.legend()"
   ]
  },
  {
   "cell_type": "code",
   "execution_count": 8,
   "metadata": {},
   "outputs": [
    {
     "name": "stdout",
     "output_type": "stream",
     "text": [
      "Testing - Accuracy: 0.7126\n"
     ]
    },
    {
     "data": {
      "image/png": "[encoded data removed]",
      "text/plain": [
       "<Figure size 600x600 with 2 Axes>"
      ]
     },
     "metadata": {},
     "output_type": "display_data"
    }
   ],
   "source": [
    "# Lists to store true labels and predicted labels\n",
    "true_labels = []\n",
    "predicted_labels = []\n",
    "\n",
    "# Testing\n",
    "model.eval()\n",
    "test_correct = 0\n",
    "test_samples = 0\n",
    "\n",
    "with torch.no_grad():\n",
    "    for test_inputs, test_labels in test_loader:\n",
    "        test_inputs, test_labels = test_inputs.to(device), test_labels.to(device)\n",
    "        test_outputs = model(test_inputs)\n",
    "        test_predicted = test_outputs > 0.5\n",
    "\n",
    "        true_labels.extend(test_labels.cpu().numpy())\n",
    "        predicted_labels.extend(test_predicted.cpu().numpy())\n",
    "\n",
    "        test_correct += (test_predicted == test_labels).sum().item()\n",
    "        test_samples += test_labels.size(0)\n",
    "\n",
    "test_accuracy = test_correct / test_samples\n",
    "print(f'Testing - Accuracy: {test_accuracy:.4f}')\n",
    "\n",
    "# Confusion matrix\n",
    "cm = confusion_matrix(true_labels, predicted_labels)\n",
    "class_names = ['Major', 'Minor']  # Modify based on your actual class names\n",
    "\n",
    "# Plot the confusion matrix\n",
    "plt.figure(figsize=(6, 6))\n",
    "sns.heatmap(cm, annot=True, fmt='d', cmap='Blues', xticklabels=class_names, yticklabels=class_names)\n",
    "plt.title('Confusion Matrix')\n",
    "plt.xlabel('Predicted')\n",
    "plt.ylabel('True')\n",
    "plt.show()"
   ]
  }
 ],
 "metadata": {
  "kernelspec": {
   "display_name": "finbert",
   "language": "python",
   "name": "python3"
  },
  "language_info": {
   "codemirror_mode": {
    "name": "ipython",
    "version": 3
   },
   "file_extension": ".py",
   "mimetype": "text/x-python",
   "name": "python",
   "nbconvert_exporter": "python",
   "pygments_lexer": "ipython3",
   "version": "3.8.18"
  }
 },
 "nbformat": 4,
 "nbformat_minor": 2
}
