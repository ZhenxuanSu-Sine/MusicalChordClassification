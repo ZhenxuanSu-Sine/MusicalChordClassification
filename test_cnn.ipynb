{
 "cells": [
  {
   "cell_type": "code",
   "execution_count": 17,
   "metadata": {},
   "outputs": [],
   "source": [
    "import torch\n",
    "import torch.nn as nn\n",
    "import torch.optim as optim\n",
    "from torch.utils.data import DataLoader, random_split\n",
    "from sklearn.metrics import accuracy_score, f1_score, confusion_matrix\n",
    "from tqdm import tqdm\n",
    "import matplotlib.pyplot as plt\n",
    "import seaborn as sns\n",
    "# Import your dataset and transforms\n",
    "from dataset_creater import *\n"
   ]
  },
  {
   "cell_type": "code",
   "execution_count": 18,
   "metadata": {},
   "outputs": [
    {
     "name": "stdout",
     "output_type": "stream",
     "text": [
      "25472\n"
     ]
    }
   ],
   "source": [
    "# Set the path to your dataset\n",
    "data_folder = \"./data\"\n",
    "transform = Spectrogram_transform\n",
    "\n",
    "# Create an instance of your dataset\n",
    "dataset = AudioDataset(data_folder, transform=transform)\n",
    "\n",
    "# Define the sizes of your splits\n",
    "train_size = int(0.8 * len(dataset))\n",
    "val_size = int(0.10 * len(dataset))\n",
    "test_size = len(dataset) - train_size - val_size\n",
    "\n",
    "# Use random_split to create training, validation, and test sets\n",
    "train_set, val_set, test_set = random_split(dataset, [train_size, val_size, test_size])\n",
    "\n",
    "batch_size = 32\n",
    "# Move the training and validation data loaders to the selected device\n",
    "train_loader = DataLoader(train_set, batch_size=batch_size, shuffle=True)\n",
    "val_loader = DataLoader(val_set, shuffle=False)\n",
    "test_loader = DataLoader(test_set, shuffle=False)\n",
    "\n",
    "# Calculate the fc1 input size\n",
    "for batch in train_loader:\n",
    "    sample, label =  batch\n",
    "    if len(sample.size()) == 3:\n",
    "        fc1_input_size = sample.size(len(sample.size())-1)\n",
    "        print(fc1_input_size)\n",
    "    elif len(sample.size()) == 4:\n",
    "        fc1_input_size = sample.size(len(sample.size())-1) * sample.size(len(sample.size())-2)\n",
    "        print(fc1_input_size)\n",
    "    break"
   ]
  },
  {
   "cell_type": "code",
   "execution_count": 19,
   "metadata": {},
   "outputs": [
    {
     "name": "stdout",
     "output_type": "stream",
     "text": [
      "Padded waveforms shape: torch.Size([1, 1, 128, 199])\n",
      "Padded waveforms shape: torch.Size([1, 1, 128, 199])\n",
      "Padded waveforms shape: torch.Size([1, 1, 128, 199])\n",
      "Padded waveforms shape: torch.Size([1, 1, 128, 199])\n",
      "Padded waveforms shape: torch.Size([1, 1, 128, 199])\n",
      "Padded waveforms shape: torch.Size([1, 1, 128, 199])\n",
      "Padded waveforms shape: torch.Size([1, 1, 128, 199])\n",
      "Padded waveforms shape: torch.Size([1, 1, 128, 199])\n",
      "Padded waveforms shape: torch.Size([1, 1, 128, 199])\n",
      "Padded waveforms shape: torch.Size([1, 1, 128, 199])\n",
      "Padded waveforms shape: torch.Size([1, 1, 128, 199])\n",
      "Padded waveforms shape: torch.Size([1, 1, 128, 199])\n",
      "Padded waveforms shape: torch.Size([1, 1, 128, 199])\n",
      "Padded waveforms shape: torch.Size([1, 1, 128, 199])\n",
      "Padded waveforms shape: torch.Size([1, 1, 128, 199])\n",
      "Padded waveforms shape: torch.Size([1, 1, 128, 199])\n",
      "Padded waveforms shape: torch.Size([1, 1, 128, 199])\n",
      "Padded waveforms shape: torch.Size([1, 1, 128, 199])\n",
      "Padded waveforms shape: torch.Size([1, 1, 128, 199])\n",
      "Padded waveforms shape: torch.Size([1, 1, 128, 199])\n",
      "Padded waveforms shape: torch.Size([1, 1, 128, 199])\n",
      "Padded waveforms shape: torch.Size([1, 1, 128, 199])\n",
      "Padded waveforms shape: torch.Size([1, 1, 128, 199])\n",
      "Padded waveforms shape: torch.Size([1, 1, 128, 199])\n",
      "Padded waveforms shape: torch.Size([1, 1, 128, 199])\n",
      "Padded waveforms shape: torch.Size([1, 1, 128, 199])\n",
      "Padded waveforms shape: torch.Size([1, 1, 128, 199])\n",
      "Padded waveforms shape: torch.Size([1, 1, 128, 199])\n",
      "Padded waveforms shape: torch.Size([1, 1, 128, 199])\n",
      "Padded waveforms shape: torch.Size([1, 1, 128, 199])\n",
      "Padded waveforms shape: torch.Size([1, 1, 128, 199])\n",
      "Padded waveforms shape: torch.Size([1, 1, 128, 199])\n",
      "Padded waveforms shape: torch.Size([1, 1, 128, 199])\n",
      "Padded waveforms shape: torch.Size([1, 1, 128, 199])\n",
      "Padded waveforms shape: torch.Size([1, 1, 128, 199])\n",
      "Padded waveforms shape: torch.Size([1, 1, 128, 199])\n",
      "Padded waveforms shape: torch.Size([1, 1, 128, 199])\n",
      "Padded waveforms shape: torch.Size([1, 1, 128, 199])\n",
      "Padded waveforms shape: torch.Size([1, 1, 128, 199])\n",
      "Padded waveforms shape: torch.Size([1, 1, 128, 199])\n",
      "Padded waveforms shape: torch.Size([1, 1, 128, 199])\n",
      "Padded waveforms shape: torch.Size([1, 1, 128, 199])\n",
      "Padded waveforms shape: torch.Size([1, 1, 128, 199])\n",
      "Padded waveforms shape: torch.Size([1, 1, 128, 199])\n",
      "Padded waveforms shape: torch.Size([1, 1, 128, 199])\n",
      "Padded waveforms shape: torch.Size([1, 1, 128, 199])\n",
      "Padded waveforms shape: torch.Size([1, 1, 128, 199])\n",
      "Padded waveforms shape: torch.Size([1, 1, 128, 199])\n",
      "Padded waveforms shape: torch.Size([1, 1, 128, 199])\n",
      "Padded waveforms shape: torch.Size([1, 1, 128, 199])\n",
      "Padded waveforms shape: torch.Size([1, 1, 128, 199])\n",
      "Padded waveforms shape: torch.Size([1, 1, 128, 199])\n",
      "Padded waveforms shape: torch.Size([1, 1, 128, 199])\n",
      "Padded waveforms shape: torch.Size([1, 1, 128, 199])\n",
      "Padded waveforms shape: torch.Size([1, 1, 128, 199])\n",
      "Padded waveforms shape: torch.Size([1, 1, 128, 199])\n",
      "Padded waveforms shape: torch.Size([1, 1, 128, 199])\n",
      "Padded waveforms shape: torch.Size([1, 1, 128, 199])\n",
      "Padded waveforms shape: torch.Size([1, 1, 128, 199])\n",
      "Padded waveforms shape: torch.Size([1, 1, 128, 199])\n",
      "Padded waveforms shape: torch.Size([1, 1, 128, 199])\n",
      "Padded waveforms shape: torch.Size([1, 1, 128, 199])\n",
      "Padded waveforms shape: torch.Size([1, 1, 128, 199])\n",
      "Padded waveforms shape: torch.Size([1, 1, 128, 199])\n",
      "Padded waveforms shape: torch.Size([1, 1, 128, 199])\n",
      "Padded waveforms shape: torch.Size([1, 1, 128, 199])\n",
      "Padded waveforms shape: torch.Size([1, 1, 128, 199])\n",
      "Padded waveforms shape: torch.Size([1, 1, 128, 199])\n",
      "Padded waveforms shape: torch.Size([1, 1, 128, 199])\n",
      "Padded waveforms shape: torch.Size([1, 1, 128, 199])\n",
      "Padded waveforms shape: torch.Size([1, 1, 128, 199])\n",
      "Padded waveforms shape: torch.Size([1, 1, 128, 199])\n",
      "Padded waveforms shape: torch.Size([1, 1, 128, 199])\n",
      "Padded waveforms shape: torch.Size([1, 1, 128, 199])\n",
      "Padded waveforms shape: torch.Size([1, 1, 128, 199])\n",
      "Padded waveforms shape: torch.Size([1, 1, 128, 199])\n",
      "Padded waveforms shape: torch.Size([1, 1, 128, 199])\n",
      "Padded waveforms shape: torch.Size([1, 1, 128, 199])\n",
      "Padded waveforms shape: torch.Size([1, 1, 128, 199])\n",
      "Padded waveforms shape: torch.Size([1, 1, 128, 199])\n",
      "Padded waveforms shape: torch.Size([1, 1, 128, 199])\n",
      "Padded waveforms shape: torch.Size([1, 1, 128, 199])\n",
      "Padded waveforms shape: torch.Size([1, 1, 128, 199])\n",
      "Padded waveforms shape: torch.Size([1, 1, 128, 199])\n",
      "Padded waveforms shape: torch.Size([1, 1, 128, 199])\n",
      "Padded waveforms shape: torch.Size([1, 1, 128, 199])\n",
      "Padded waveforms shape: torch.Size([1, 1, 128, 199])\n"
     ]
    }
   ],
   "source": [
    "for batch in test_loader:\n",
    "    padded_waveforms, labels = batch\n",
    "    print(\"Padded waveforms shape:\", padded_waveforms.shape)"
   ]
  },
  {
   "cell_type": "code",
   "execution_count": 20,
   "metadata": {},
   "outputs": [
    {
     "data": {
      "text/plain": [
       "'\\n\\n\\nimport torch.nn as nn\\n\\nclass ChordClassifier(nn.Module):\\n    def __init__(self):\\n        super(ChordClassifier, self).__init__()\\n\\n        self.conv1 = nn.Conv2d(1, 32, kernel_size=3, stride=1, padding=1)\\n        self.relu1 = nn.ReLU()\\n        self.pool1 = nn.MaxPool2d(kernel_size=2, stride=2)\\n\\n        self.conv2 = nn.Conv2d(32, 64, kernel_size=3, stride=1, padding=1)\\n        self.relu2 = nn.ReLU()\\n        self.pool2 = nn.MaxPool2d(kernel_size=2, stride=2)\\n\\n        \\n        # Add more hidden layers\\n        self.conv3 = nn.Conv2d(64, 128, kernel_size=3, stride=1, padding=1)\\n        self.relu3 = nn.ReLU()\\n        self.pool3 = nn.MaxPool2d(kernel_size=2, stride=2)\\n\\n        self.conv4 = nn.Conv2d(128, 256, kernel_size=3, stride=1, padding=1)\\n        self.relu4 = nn.ReLU()\\n        self.pool4 = nn.MaxPool2d(kernel_size=2, stride=2)\\n        \\n\\n        # Adjust the size of the fully connected layer\\n        self.fc1 = nn.Linear(24576, 512)  # Adapt this size based on your actual tensor size\\n        self.relu5 = nn.ReLU()\\n        self.fc2 = nn.Linear(512, 128)\\n        self.relu6 = nn.ReLU()\\n        self.fc3 = nn.Linear(128, 2)  # 2 classes: Major and Minor\\n\\n    def forward(self, x):\\n        x = self.pool1(self.relu1(self.conv1(x)))\\n        x = self.pool2(self.relu2(self.conv2(x)))\\n        x = self.pool3(self.relu3(self.conv3(x)))\\n        x = self.pool4(self.relu4(self.conv4(x)))\\n\\n        x = x.view(x.size(0), -1)  # Flatten the tensor before fully connected layer\\n\\n        x = self.relu5(self.fc1(x))\\n        x = self.relu6(self.fc2(x))\\n        x = self.fc3(x)\\n\\n        return x\\n'"
      ]
     },
     "execution_count": 20,
     "metadata": {},
     "output_type": "execute_result"
    }
   ],
   "source": [
    "class ChordClassifier(nn.Module):\n",
    "    def __init__(self):\n",
    "        super(ChordClassifier, self).__init__()\n",
    "        # Define a CNN with input shape is (batch_size, 1, 128, 199) and output shape is (batch_size, 1)\n",
    "        # it should reduce the dimensionality very quickly because the dataset is small (<1000)\n",
    "        self.conv1 = nn.Conv2d(1, 32, kernel_size=5, stride=1, padding=0) # shape (batch_size, 32, 124, 195)\n",
    "        self.bn1 = nn.BatchNorm2d(32)\n",
    "        self.relu1 = nn.ReLU()\n",
    "        self.pool1 = nn.MaxPool2d(kernel_size=3, stride=2) # shape (batch_size, 32, 61, 97)\n",
    "        self.conv2 = nn.Conv2d(32, 64, kernel_size=5, stride=1, padding=0) # shape (batch_size, 64, 57, 93)\n",
    "        self.bn2 = nn.BatchNorm2d(64)\n",
    "        self.relu2 = nn.ReLU()\n",
    "        self.pool2 = nn.MaxPool2d(kernel_size=5, stride=2) # shape (batch_size, 64, 27, 45)\n",
    "        self.conv3 = nn.Conv2d(64, 128, kernel_size=5, stride=1, padding=0) # shape (batch_size, 128, 23, 41)\n",
    "        self.relu3 = nn.ReLU()\n",
    "        # global average pooling\n",
    "        self.pool3 = nn.AdaptiveAvgPool2d((1, 1)) # shape (batch_size, 128, 1, 1)\n",
    "        self.bn3 = nn.BatchNorm1d(128)\n",
    "        self.dropout = nn.Dropout(0.3)\n",
    "        self.fc1 = nn.Linear(128, 1) # no activation function because we use BCEWithLogitsLoss\n",
    "\n",
    "    def forward(self, x):\n",
    "        x = self.pool1(self.relu1(self.bn1(self.conv1(x))))\n",
    "        x = self.pool2(self.relu2(self.bn2(self.conv2(x))))\n",
    "        x = self.pool3(self.relu3(self.conv3(x)))\n",
    "        x = x.view(-1, 128)\n",
    "        x = self.bn3(x)\n",
    "        x = self.dropout(x)\n",
    "        x = self.fc1(x)\n",
    "        # Use BCEWithLogitsLoss instead of BCELoss because it combines a Sigmoid layer and the BCELoss in one single class\n",
    "        # the output shape should be (batch_size,)\n",
    "        return x.view(-1)\n",
    "\n",
    "\n",
    "'''\n",
    "\n",
    "\n",
    "import torch.nn as nn\n",
    "\n",
    "class ChordClassifier(nn.Module):\n",
    "    def __init__(self):\n",
    "        super(ChordClassifier, self).__init__()\n",
    "\n",
    "        self.conv1 = nn.Conv2d(1, 32, kernel_size=3, stride=1, padding=1)\n",
    "        self.relu1 = nn.ReLU()\n",
    "        self.pool1 = nn.MaxPool2d(kernel_size=2, stride=2)\n",
    "\n",
    "        self.conv2 = nn.Conv2d(32, 64, kernel_size=3, stride=1, padding=1)\n",
    "        self.relu2 = nn.ReLU()\n",
    "        self.pool2 = nn.MaxPool2d(kernel_size=2, stride=2)\n",
    "\n",
    "        \n",
    "        # Add more hidden layers\n",
    "        self.conv3 = nn.Conv2d(64, 128, kernel_size=3, stride=1, padding=1)\n",
    "        self.relu3 = nn.ReLU()\n",
    "        self.pool3 = nn.MaxPool2d(kernel_size=2, stride=2)\n",
    "\n",
    "        self.conv4 = nn.Conv2d(128, 256, kernel_size=3, stride=1, padding=1)\n",
    "        self.relu4 = nn.ReLU()\n",
    "        self.pool4 = nn.MaxPool2d(kernel_size=2, stride=2)\n",
    "        \n",
    "\n",
    "        # Adjust the size of the fully connected layer\n",
    "        self.fc1 = nn.Linear(24576, 512)  # Adapt this size based on your actual tensor size\n",
    "        self.relu5 = nn.ReLU()\n",
    "        self.fc2 = nn.Linear(512, 128)\n",
    "        self.relu6 = nn.ReLU()\n",
    "        self.fc3 = nn.Linear(128, 2)  # 2 classes: Major and Minor\n",
    "\n",
    "    def forward(self, x):\n",
    "        x = self.pool1(self.relu1(self.conv1(x)))\n",
    "        x = self.pool2(self.relu2(self.conv2(x)))\n",
    "        x = self.pool3(self.relu3(self.conv3(x)))\n",
    "        x = self.pool4(self.relu4(self.conv4(x)))\n",
    "\n",
    "        x = x.view(x.size(0), -1)  # Flatten the tensor before fully connected layer\n",
    "\n",
    "        x = self.relu5(self.fc1(x))\n",
    "        x = self.relu6(self.fc2(x))\n",
    "        x = self.fc3(x)\n",
    "\n",
    "        return x\n",
    "'''"
   ]
  },
  {
   "cell_type": "code",
   "execution_count": 21,
   "metadata": {},
   "outputs": [],
   "source": [
    "\n",
    "\n",
    "# Check if GPU is available and set the device accordingly\n",
    "device = torch.device(\"cuda\" if torch.cuda.is_available() else \"cpu\")\n",
    "\n",
    "# Instantiate model and move it to the selected device\n",
    "model = ChordClassifier().to(device)\n",
    "\n",
    "# Instantiate loss function and move it to the selected device\n",
    "criterion = nn.BCEWithLogitsLoss().to(device)\n",
    "\n",
    "# Instantiate optimizer and move it to the selected device\n",
    "optimizer = optim.Adam(model.parameters(), lr=0.0001, weight_decay=0.00001)\n",
    "\n"
   ]
  },
  {
   "cell_type": "code",
   "execution_count": 22,
   "metadata": {},
   "outputs": [
    {
     "name": "stderr",
     "output_type": "stream",
     "text": [
      "100%|██████████| 22/22 [00:08<00:00,  2.67it/s]\n"
     ]
    },
    {
     "name": "stdout",
     "output_type": "stream",
     "text": [
      "Training - Epoch 1/20, Loss: 0.6962, Accuracy: 0.5764\n",
      "Validation - Epoch 1/20, Loss: 0.6853, Accuracy: 0.5647\n"
     ]
    },
    {
     "name": "stderr",
     "output_type": "stream",
     "text": [
      "100%|██████████| 22/22 [00:08<00:00,  2.69it/s]\n"
     ]
    },
    {
     "name": "stdout",
     "output_type": "stream",
     "text": [
      "Training - Epoch 2/20, Loss: 0.6495, Accuracy: 0.6215\n",
      "Validation - Epoch 2/20, Loss: 0.6583, Accuracy: 0.5647\n"
     ]
    },
    {
     "name": "stderr",
     "output_type": "stream",
     "text": [
      "100%|██████████| 22/22 [00:08<00:00,  2.68it/s]\n"
     ]
    },
    {
     "name": "stdout",
     "output_type": "stream",
     "text": [
      "Training - Epoch 3/20, Loss: 0.6371, Accuracy: 0.6376\n",
      "Validation - Epoch 3/20, Loss: 0.6450, Accuracy: 0.6353\n"
     ]
    },
    {
     "name": "stderr",
     "output_type": "stream",
     "text": [
      "100%|██████████| 22/22 [00:08<00:00,  2.66it/s]\n"
     ]
    },
    {
     "name": "stdout",
     "output_type": "stream",
     "text": [
      "Training - Epoch 4/20, Loss: 0.6101, Accuracy: 0.6623\n",
      "Validation - Epoch 4/20, Loss: 1.1415, Accuracy: 0.4353\n"
     ]
    },
    {
     "name": "stderr",
     "output_type": "stream",
     "text": [
      "100%|██████████| 22/22 [00:08<00:00,  2.66it/s]\n"
     ]
    },
    {
     "name": "stdout",
     "output_type": "stream",
     "text": [
      "Training - Epoch 5/20, Loss: 0.6039, Accuracy: 0.6638\n",
      "Validation - Epoch 5/20, Loss: 0.6984, Accuracy: 0.6000\n"
     ]
    },
    {
     "name": "stderr",
     "output_type": "stream",
     "text": [
      "100%|██████████| 22/22 [00:08<00:00,  2.68it/s]\n"
     ]
    },
    {
     "name": "stdout",
     "output_type": "stream",
     "text": [
      "Training - Epoch 6/20, Loss: 0.5721, Accuracy: 0.6972\n",
      "Validation - Epoch 6/20, Loss: 0.7098, Accuracy: 0.5647\n"
     ]
    },
    {
     "name": "stderr",
     "output_type": "stream",
     "text": [
      "100%|██████████| 22/22 [00:08<00:00,  2.59it/s]\n"
     ]
    },
    {
     "name": "stdout",
     "output_type": "stream",
     "text": [
      "Training - Epoch 7/20, Loss: 0.5803, Accuracy: 0.6827\n",
      "Validation - Epoch 7/20, Loss: 0.6482, Accuracy: 0.6471\n"
     ]
    },
    {
     "name": "stderr",
     "output_type": "stream",
     "text": [
      "100%|██████████| 22/22 [00:08<00:00,  2.63it/s]\n"
     ]
    },
    {
     "name": "stdout",
     "output_type": "stream",
     "text": [
      "Training - Epoch 8/20, Loss: 0.5450, Accuracy: 0.7205\n",
      "Validation - Epoch 8/20, Loss: 0.6949, Accuracy: 0.6235\n"
     ]
    },
    {
     "name": "stderr",
     "output_type": "stream",
     "text": [
      "100%|██████████| 22/22 [00:08<00:00,  2.59it/s]\n"
     ]
    },
    {
     "name": "stdout",
     "output_type": "stream",
     "text": [
      "Training - Epoch 9/20, Loss: 0.5240, Accuracy: 0.7263\n",
      "Validation - Epoch 9/20, Loss: 0.5831, Accuracy: 0.6588\n"
     ]
    },
    {
     "name": "stderr",
     "output_type": "stream",
     "text": [
      "100%|██████████| 22/22 [00:08<00:00,  2.56it/s]\n"
     ]
    },
    {
     "name": "stdout",
     "output_type": "stream",
     "text": [
      "Training - Epoch 10/20, Loss: 0.5097, Accuracy: 0.7336\n",
      "Validation - Epoch 10/20, Loss: 0.6259, Accuracy: 0.6353\n"
     ]
    },
    {
     "name": "stderr",
     "output_type": "stream",
     "text": [
      "100%|██████████| 22/22 [00:08<00:00,  2.63it/s]\n"
     ]
    },
    {
     "name": "stdout",
     "output_type": "stream",
     "text": [
      "Training - Epoch 11/20, Loss: 0.4949, Accuracy: 0.7627\n",
      "Validation - Epoch 11/20, Loss: 0.5539, Accuracy: 0.6706\n"
     ]
    },
    {
     "name": "stderr",
     "output_type": "stream",
     "text": [
      "100%|██████████| 22/22 [00:08<00:00,  2.64it/s]\n"
     ]
    },
    {
     "name": "stdout",
     "output_type": "stream",
     "text": [
      "Training - Epoch 12/20, Loss: 0.4793, Accuracy: 0.7700\n",
      "Validation - Epoch 12/20, Loss: 0.5773, Accuracy: 0.6824\n"
     ]
    },
    {
     "name": "stderr",
     "output_type": "stream",
     "text": [
      "100%|██████████| 22/22 [00:08<00:00,  2.62it/s]\n"
     ]
    },
    {
     "name": "stdout",
     "output_type": "stream",
     "text": [
      "Training - Epoch 13/20, Loss: 0.4443, Accuracy: 0.8035\n",
      "Validation - Epoch 13/20, Loss: 0.5465, Accuracy: 0.6706\n"
     ]
    },
    {
     "name": "stderr",
     "output_type": "stream",
     "text": [
      "100%|██████████| 22/22 [00:08<00:00,  2.59it/s]\n"
     ]
    },
    {
     "name": "stdout",
     "output_type": "stream",
     "text": [
      "Training - Epoch 14/20, Loss: 0.4204, Accuracy: 0.8035\n",
      "Validation - Epoch 14/20, Loss: 0.6852, Accuracy: 0.6118\n"
     ]
    },
    {
     "name": "stderr",
     "output_type": "stream",
     "text": [
      "100%|██████████| 22/22 [00:08<00:00,  2.62it/s]\n"
     ]
    },
    {
     "name": "stdout",
     "output_type": "stream",
     "text": [
      "Training - Epoch 15/20, Loss: 0.4067, Accuracy: 0.8239\n",
      "Validation - Epoch 15/20, Loss: 0.5445, Accuracy: 0.6824\n"
     ]
    },
    {
     "name": "stderr",
     "output_type": "stream",
     "text": [
      "100%|██████████| 22/22 [00:08<00:00,  2.61it/s]\n"
     ]
    },
    {
     "name": "stdout",
     "output_type": "stream",
     "text": [
      "Training - Epoch 16/20, Loss: 0.3884, Accuracy: 0.8370\n",
      "Validation - Epoch 16/20, Loss: 0.5819, Accuracy: 0.7294\n"
     ]
    },
    {
     "name": "stderr",
     "output_type": "stream",
     "text": [
      "100%|██████████| 22/22 [00:08<00:00,  2.58it/s]\n"
     ]
    },
    {
     "name": "stdout",
     "output_type": "stream",
     "text": [
      "Training - Epoch 17/20, Loss: 0.3940, Accuracy: 0.8297\n",
      "Validation - Epoch 17/20, Loss: 0.6457, Accuracy: 0.6941\n"
     ]
    },
    {
     "name": "stderr",
     "output_type": "stream",
     "text": [
      "100%|██████████| 22/22 [00:08<00:00,  2.62it/s]\n"
     ]
    },
    {
     "name": "stdout",
     "output_type": "stream",
     "text": [
      "Training - Epoch 18/20, Loss: 0.3849, Accuracy: 0.8239\n",
      "Validation - Epoch 18/20, Loss: 0.6078, Accuracy: 0.6941\n"
     ]
    },
    {
     "name": "stderr",
     "output_type": "stream",
     "text": [
      "100%|██████████| 22/22 [00:08<00:00,  2.61it/s]\n"
     ]
    },
    {
     "name": "stdout",
     "output_type": "stream",
     "text": [
      "Training - Epoch 19/20, Loss: 0.3533, Accuracy: 0.8501\n",
      "Validation - Epoch 19/20, Loss: 1.5944, Accuracy: 0.4471\n"
     ]
    },
    {
     "name": "stderr",
     "output_type": "stream",
     "text": [
      "100%|██████████| 22/22 [00:08<00:00,  2.57it/s]\n"
     ]
    },
    {
     "name": "stdout",
     "output_type": "stream",
     "text": [
      "Training - Epoch 20/20, Loss: 0.3302, Accuracy: 0.8675\n",
      "Validation - Epoch 20/20, Loss: 0.6442, Accuracy: 0.7176\n",
      "Testing - Accuracy: 0.6437\n"
     ]
    },
    {
     "data": {
      "image/png": "[encoded data removed]",
      "text/plain": [
       "<Figure size 1200x400 with 2 Axes>"
      ]
     },
     "metadata": {},
     "output_type": "display_data"
    }
   ],
   "source": [
    "# Lists to store values for plotting\n",
    "from cgi import test\n",
    "\n",
    "\n",
    "train_losses = []\n",
    "train_accuracies = []\n",
    "val_losses = []\n",
    "val_accuracies = []\n",
    "\n",
    "# Training loop\n",
    "num_epochs = 20\n",
    "for epoch in range(num_epochs):\n",
    "    model.train()\n",
    "    total_loss = 0.0\n",
    "    total_correct = 0\n",
    "    total_samples = 0\n",
    "\n",
    "    for inputs, labels in tqdm(train_loader):\n",
    "        # convert labels to float because criterion requires float type labels\n",
    "        labels = labels.type(torch.FloatTensor)\n",
    "        inputs, labels = inputs.to(device), labels.to(device)\n",
    "        optimizer.zero_grad()\n",
    "        outputs = model(inputs)\n",
    "        loss = criterion(outputs, labels)\n",
    "        loss.backward()\n",
    "        optimizer.step()\n",
    "\n",
    "        total_loss += loss.item()\n",
    "        predicted = outputs > 0.5\n",
    "        total_correct += (predicted == labels).sum().item()\n",
    "        total_samples += labels.size(0)\n",
    "\n",
    "    average_loss = total_loss / len(train_loader)\n",
    "    accuracy = total_correct / total_samples\n",
    "\n",
    "    train_losses.append(average_loss)\n",
    "    train_accuracies.append(accuracy)\n",
    "\n",
    "    print(f'Training - Epoch {epoch+1}/{num_epochs}, Loss: {average_loss:.4f}, Accuracy: {accuracy:.4f}')\n",
    "\n",
    "    # Validation\n",
    "    model.eval()\n",
    "    val_loss = 0.0\n",
    "    val_correct = 0\n",
    "    val_samples = 0\n",
    "\n",
    "    with torch.no_grad():\n",
    "        for val_inputs, val_labels in val_loader:\n",
    "            val_labels = val_labels.type(torch.FloatTensor)\n",
    "            val_inputs, val_labels = val_inputs.to(device), val_labels.to(device)\n",
    "            val_outputs = model(val_inputs)\n",
    "            val_loss += criterion(val_outputs, val_labels).item()\n",
    "            val_predicted = val_outputs > 0.5\n",
    "            val_correct += (val_predicted == val_labels).sum().item()\n",
    "            val_samples += val_labels.size(0)\n",
    "\n",
    "    average_val_loss = val_loss / len(val_loader)\n",
    "    val_accuracy = val_correct / val_samples\n",
    "\n",
    "    val_losses.append(average_val_loss)\n",
    "    val_accuracies.append(val_accuracy)\n",
    "\n",
    "    print(f'Validation - Epoch {epoch+1}/{num_epochs}, Loss: {average_val_loss:.4f}, Accuracy: {val_accuracy:.4f}')\n",
    "\n",
    "# Testing\n",
    "model.eval()\n",
    "test_correct = 0\n",
    "test_samples = 0\n",
    "\n",
    "with torch.no_grad():\n",
    "    for test_inputs, test_labels in test_loader:\n",
    "        test_labels = test_labels.type(torch.FloatTensor)\n",
    "        test_inputs, test_labels = test_inputs.to(device), test_labels.to(device)\n",
    "        test_outputs = model(test_inputs)\n",
    "        test_predicted = test_outputs > 0.5\n",
    "        test_correct += (test_predicted == test_labels).sum().item()\n",
    "        test_samples += test_labels.size(0)\n",
    "\n",
    "test_accuracy = test_correct / test_samples\n",
    "print(f'Testing - Accuracy: {test_accuracy:.4f}')\n",
    "\n",
    "# Plot learning curves\n",
    "epochs = range(1, num_epochs + 1)\n",
    "\n",
    "plt.figure(figsize=(12, 4))\n",
    "plt.subplot(1, 2, 1)\n",
    "plt.plot(epochs, train_losses, label='Training Loss')\n",
    "plt.plot(epochs, val_losses, label='Validation Loss')\n",
    "plt.xlabel('Epoch')\n",
    "plt.ylabel('Loss')\n",
    "plt.legend()\n",
    "\n",
    "plt.subplot(1, 2, 2)\n",
    "plt.plot(epochs, train_accuracies, label='Training Accuracy')\n",
    "plt.plot(epochs, val_accuracies, label='Validation Accuracy')\n",
    "plt.xlabel('Epoch')\n",
    "plt.ylabel('Accuracy')\n",
    "plt.legend()\n",
    "\n",
    "plt.tight_layout()\n",
    "plt.show()\n"
   ]
  },
  {
   "cell_type": "code",
   "execution_count": 23,
   "metadata": {},
   "outputs": [
    {
     "data": {
      "text/plain": [
       "<matplotlib.legend.Legend at 0x22450ab5fa0>"
      ]
     },
     "execution_count": 23,
     "metadata": {},
     "output_type": "execute_result"
    },
    {
     "data": {
      "image/png": "[encoded data removed]",
      "text/plain": [
       "<Figure size 1200x400 with 1 Axes>"
      ]
     },
     "metadata": {},
     "output_type": "display_data"
    }
   ],
   "source": [
    "xrange = range(1, num_epochs)\n",
    "plt.figure(figsize=(12, 4))\n",
    "plt.plot(xrange, train_losses[1:], label='Training Loss')\n",
    "plt.plot(xrange, val_losses[1:], label='Validation Loss')\n",
    "plt.xlabel('Epoch')\n",
    "plt.ylabel('Loss')\n",
    "plt.legend()"
   ]
  },
  {
   "cell_type": "code",
   "execution_count": 24,
   "metadata": {},
   "outputs": [
    {
     "name": "stdout",
     "output_type": "stream",
     "text": [
      "Testing - Accuracy: 0.6437\n"
     ]
    },
    {
     "data": {
      "image/png": "[encoded data removed]",
      "text/plain": [
       "<Figure size 600x600 with 2 Axes>"
      ]
     },
     "metadata": {},
     "output_type": "display_data"
    }
   ],
   "source": [
    "# Lists to store true labels and predicted labels\n",
    "true_labels = []\n",
    "predicted_labels = []\n",
    "\n",
    "# Testing\n",
    "model.eval()\n",
    "test_correct = 0\n",
    "test_samples = 0\n",
    "\n",
    "with torch.no_grad():\n",
    "    for test_inputs, test_labels in test_loader:\n",
    "        test_inputs, test_labels = test_inputs.to(device), test_labels.to(device)\n",
    "        test_outputs = model(test_inputs)\n",
    "        test_predicted = test_outputs > 0.5\n",
    "\n",
    "        true_labels.extend(test_labels.cpu().numpy())\n",
    "        predicted_labels.extend(test_predicted.cpu().numpy())\n",
    "\n",
    "        test_correct += (test_predicted == test_labels).sum().item()\n",
    "        test_samples += test_labels.size(0)\n",
    "\n",
    "test_accuracy = test_correct / test_samples\n",
    "print(f'Testing - Accuracy: {test_accuracy:.4f}')\n",
    "\n",
    "# Confusion matrix\n",
    "cm = confusion_matrix(true_labels, predicted_labels)\n",
    "class_names = ['Major', 'Minor']  # Modify based on your actual class names\n",
    "\n",
    "# Plot the confusion matrix\n",
    "plt.figure(figsize=(6, 6))\n",
    "sns.heatmap(cm, annot=True, fmt='d', cmap='Blues', xticklabels=class_names, yticklabels=class_names)\n",
    "plt.title('Confusion Matrix')\n",
    "plt.xlabel('Predicted')\n",
    "plt.ylabel('True')\n",
    "plt.show()"
   ]
  }
 ],
 "metadata": {
  "kernelspec": {
   "display_name": "finbert",
   "language": "python",
   "name": "python3"
  },
  "language_info": {
   "codemirror_mode": {
    "name": "ipython",
    "version": 3
   },
   "file_extension": ".py",
   "mimetype": "text/x-python",
   "name": "python",
   "nbconvert_exporter": "python",
   "pygments_lexer": "ipython3",
   "version": "3.8.18"
  }
 },
 "nbformat": 4,
 "nbformat_minor": 2
}
